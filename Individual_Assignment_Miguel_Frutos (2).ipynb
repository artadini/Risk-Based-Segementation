{
 "cells": [
  {
   "cell_type": "markdown",
   "id": "6d9c7264",
   "metadata": {},
   "source": [
    "# MIGUEL FRUTOS - INDIVIDUAL PROJECT\n",
    "# CUSTOMER SEGMENTATION - CAR LOANS PORTFOLIO"
   ]
  },
  {
   "cell_type": "markdown",
   "id": "7a3a85fe",
   "metadata": {},
   "source": [
    "**TASK SCOPE**\n",
    "\n",
    "Risk Based Segmentation (RBS) to give Credit Professionals a better fix for Car Loans."
   ]
  },
  {
   "cell_type": "markdown",
   "id": "1d7f454a",
   "metadata": {},
   "source": [
    "**OBJECTIVE** \n",
    "\n",
    "Create a Python class to automate the RBS:\n",
    "1. Identify potential Segments --> Based on **sharing missing values**\n",
    "2. Identify potential Segments --> Based on **Level of Risk**\n",
    "\n",
    "Target Variable would be \"BUCKET\", as professor Manoel suggested, to simplify the exercise, we should transform the variable from \"Number of unpaid installements at this reporting\" to \"Low Risk = 0 & High Risk > 1\"."
   ]
  },
  {
   "cell_type": "markdown",
   "id": "35302b73",
   "metadata": {},
   "source": [
    "**LIBRARIES**"
   ]
  },
  {
   "cell_type": "code",
   "execution_count": 318,
   "id": "d7437989",
   "metadata": {},
   "outputs": [],
   "source": [
    "import pandas as pd\n",
    "from sklearn.model_selection import train_test_split\n",
    "import seaborn as sns\n",
    "import matplotlib.pyplot as plt\n",
    "import datetime\n",
    "import numpy as np\n",
    "from datetime import date, timedelta\n",
    "import re\n",
    "from sklearn.impute import KNNImputer\n",
    "import numpy as np\n",
    "from sklearn.impute import SimpleImputer\n",
    "from sklearn.tree import DecisionTreeClassifier\n",
    "from sklearn.metrics import accuracy_score\n",
    "from sklearn.linear_model import LogisticRegression\n",
    "from sklearn.tree import DecisionTreeClassifier\n",
    "from sklearn import tree\n",
    "from sklearn import preprocessing"
   ]
  },
  {
   "cell_type": "markdown",
   "id": "b5874cac",
   "metadata": {},
   "source": [
    "**IMPORT FILE WITH CLASSES**"
   ]
  },
  {
   "cell_type": "markdown",
   "id": "8e82d30e",
   "metadata": {},
   "source": [
    "To import the .py file, basically, we just have to use the following command in the cell. And the .py file has to be in the same directory."
   ]
  },
  {
   "cell_type": "code",
   "execution_count": 319,
   "id": "d8d6a826",
   "metadata": {},
   "outputs": [],
   "source": [
    "# %load CLASSES\n",
    "#!/usr/bin/env python3\n",
    "\"\"\"\n",
    "Created on Tue Aug 17 20:20:19 2021\n",
    "\n",
    "@author: miguelfrutossoriano\n",
    "\"\"\"\n",
    "\n",
    "#!/usr/bin/env python3\n",
    "# -*- coding: utf-8 -*-\n",
    "\"\"\"\n",
    "Created on Sun Jul 25 13:05:59 2021\n",
    "\n",
    "@author: miguelfrutossoriano. ie\n",
    "\"\"\"\n",
    "\n",
    "class EDA ():\n",
    "    def __init__(self,target,data):\n",
    "        self.target = target\n",
    "        self.data = data\n",
    "    def missing_values_percentage(self):\n",
    "        \"\"\"Return the % of missing values for each pd.series inside the Dataframe\"\"\"\n",
    "        missing_values_percentage = 100*self.data.isnull().sum()/self.data.isnull().count()\n",
    "        return (missing_values_percentage[missing_values_percentage > 0])   \n",
    "    def missing_values(self):\n",
    "        \"\"\"Return the features that have missing values and the number of those\"\"\"\n",
    "        missing_values = self.data.isnull().sum()\n",
    "        return (missing_values[missing_values > 0])\n",
    "\n",
    "    \n",
    "class Prep ():\n",
    "    def __init__(self,target,data): \n",
    "        self.target = target\n",
    "        self.data = data\n",
    "    def numerical_features(self):\n",
    "        \"\"\"Numerical_variables function separates the numerical features except the target one\"\"\"\n",
    "        numerical_features = set(self.data.select_dtypes(include=['number'])) - set([self.target]) #not include the target one\n",
    "        return numerical_features\n",
    "    def categorical_features(self):\n",
    "        \"\"\"Categorical_variables function separates the non-numerical features except the target one\"\"\"\n",
    "        categorical_features = set(self.data.select_dtypes(exclude=['number'])) - set([self.target]) #not include the target one\n",
    "        return categorical_features\n",
    "    def incomplete_features(self):\n",
    "        \"\"\"Get the features with nulls inside\"\"\"\n",
    "        incomplete_features = []  # Create an empty array\n",
    "        for column_name in self.data.columns:\n",
    "            if self.data[column_name].isna().any():\n",
    "                incomplete_features.append(column_name)  \n",
    "        return incomplete_features\n",
    "    def numerical_features_na (self):\n",
    "        \"\"\"Numerical features with missing values\"\"\"\n",
    "        numerical_features_na = self.numerical_features().intersection(self.incomplete_features())\n",
    "        return numerical_features_na\n",
    "    def categorical_features_na (self):\n",
    "        \"\"\"Categorical features with missing values\"\"\"\n",
    "        categorical_features_na = self.categorical_features().intersection(self.incomplete_features())\n",
    "        return categorical_features_na\n",
    "    def cat_imputer (self):\n",
    "        \"\"\"Missing categorical values are imputed with SimpleImputer from sklearn (univariable - most frequent)\"\"\"\n",
    "        imputer = SimpleImputer(missing_values=np.nan, strategy ='most_frequent')\n",
    "        imputed = imputer.fit_transform(self.data[self.categorical_features_na()].values)\n",
    "        categorical_imputed = pd.DataFrame(imputed, columns=self.categorical_features_na())\n",
    "        return categorical_imputed\n",
    "    def num_imputer (self):\n",
    "        \"\"\"Missing numerical values are imputed with KNN Imputer from sklearn (multivariable - 5 neighbors)\"\"\"\n",
    "        imputer = KNNImputer(n_neighbors=5, weights='uniform', metric='nan_euclidean')\n",
    "        imputed = imputer.fit_transform(data[self.numerical_features_na()].values)\n",
    "        numerical_imputed = pd.DataFrame(imputed, columns=self.numerical_features_na())\n",
    "        return numerical_imputed\n",
    "    def cat_num_imputer_concat (self):\n",
    "        \"\"\"Missing categorical values are imputed with SimpleImputer from sklearn (univariable - most frequent)\n",
    "        Missing numerical values are imputed with KNN Imputer from sklearn (multivariable - 5 neighbors)\n",
    "        Place the numerical & categorical NOT imputed in a separate dataframe and concatenate all in the next step\"\"\"\n",
    "        imputer = SimpleImputer(missing_values=np.nan, strategy ='most_frequent')\n",
    "        imputed = imputer.fit_transform(self.data[self.categorical_features_na()].values)\n",
    "        categorical_imputed = pd.DataFrame(imputed, columns=self.categorical_features_na())\n",
    "        \n",
    "        imputer = KNNImputer(n_neighbors=5, weights='uniform', metric='nan_euclidean')\n",
    "        imputed = imputer.fit_transform(self.data[self.numerical_features_na()].values)\n",
    "        numerical_imputed = pd.DataFrame(imputed, columns=self.numerical_features_na())\n",
    "        \n",
    "        numerical_complete = pd.DataFrame(self.data[list(self.numerical_features().difference(self.numerical_features_na()))])\n",
    "        categorical_complete = pd.DataFrame(self.data[list(self.categorical_features().difference(self.categorical_features_na()))])\n",
    "        \n",
    "        data = pd.concat([numerical_imputed.reset_index(drop=True),\n",
    "                   numerical_complete.reset_index(drop=True),\n",
    "                   categorical_imputed.reset_index(drop=True),\n",
    "                   categorical_complete.reset_index(drop=True),\n",
    "                   pd.DataFrame(self.data[self.target].values, columns=[target])], axis =1)\n",
    "        return data\n",
    "    def scaling(self):\n",
    "        \"\"\"Scaling numerical features with MinMaxScaler from sklearn\"\"\"\n",
    "        mm_scaler = preprocessing.MinMaxScaler()\n",
    "        self.data[list(self.numerical_features)] = mm_scaler.fit_transform(self.data[list(self.numerical_features)])\n",
    "\n",
    "\n"
   ]
  },
  {
   "cell_type": "code",
   "execution_count": 320,
   "id": "95ebad75",
   "metadata": {},
   "outputs": [],
   "source": [
    "class EDA ():\n",
    "    def __init__(self,target,data):\n",
    "        self.target = target\n",
    "        self.data = data\n",
    "    def missing_values_percentage(self):\n",
    "        \"\"\"Return the % of missing values for each pd.series inside the Dataframe\"\"\"\n",
    "        missing_values_percentage = 100*self.data.isnull().sum()/self.data.isnull().count()\n",
    "        return (missing_values_percentage[missing_values_percentage > 0])   \n",
    "    def missing_values(self):\n",
    "        \"\"\"Return the features that have missing values and the number of those\"\"\"\n",
    "        missing_values = self.data.isnull().sum()\n",
    "        return (missing_values[missing_values > 0])\n",
    "\n",
    "    def missing_not_at_random(self, input_vars=[] ): \n",
    "        null_data = self.data[self.data.isnull().any(axis=1)]\n",
    "        null_data_zeros_and_ones = null_data.notnull().astype('int') #Replace all non-Nan entries with 1 and all NaN with O\n",
    "        MNAR_correlation = null_data_zeros_and_ones.corr()\n",
    "        if input_var ==[]: \n",
    "            input_var = list(data.columns.values)\n",
    "\n",
    "        MNAR_correlation = data[input_vars].copy()\n",
    "\n",
    "        MNAR =[]\n",
    "\n",
    "        pos_corr = 0.50\n",
    "        neg_corr = -0.50\n",
    "\n",
    "\n",
    "        for j in range(i):\n",
    "            if abs(MNAR_correlation.iloc[i,j]) > pos_corr or (MNAR_correlation.iloc[i,j])<neg_corr:\n",
    "                colname = MNAR_correlation.columns[j]\n",
    "                MNAR.append(colname)\n",
    "        return MNAR        \n",
    "        \n",
    "\n",
    "\n",
    "    \n",
    "class Prep ():\n",
    "    def __init__(self,target,data): \n",
    "        self.target = target\n",
    "        self.data = data\n",
    "    def numerical_features(self):\n",
    "        \"\"\"Numerical_variables function separates the numerical features except the target one\"\"\"\n",
    "        numerical_features = set(self.data.select_dtypes(include=['number'])) - set([self.target]) #not include the target one\n",
    "        return numerical_features\n",
    "    def categorical_features(self):\n",
    "        \"\"\"Categorical_variables function separates the non-numerical features except the target one\"\"\"\n",
    "        categorical_features = set(self.data.select_dtypes(exclude=['number'])) - set([self.target]) #not include the target one\n",
    "        return categorical_features\n",
    "    def incomplete_features(self):\n",
    "        \"\"\"Get the features with nulls inside\"\"\"\n",
    "        incomplete_features = []  # Create an empty array\n",
    "        for column_name in self.data.columns:\n",
    "            if self.data[column_name].isna().any():\n",
    "                incomplete_features.append(column_name)  \n",
    "        return incomplete_features\n",
    "    def numerical_features_na (self):\n",
    "        \"\"\"Numerical features with missing values\"\"\"\n",
    "        numerical_features_na = self.numerical_features().intersection(self.incomplete_features())\n",
    "        return numerical_features_na\n",
    "    def categorical_features_na (self):\n",
    "        \"\"\"Categorical features with missing values\"\"\"\n",
    "        categorical_features_na = self.categorical_features().intersection(self.incomplete_features())\n",
    "        return categorical_features_na\n",
    "    def cat_imputer (self):\n",
    "        \"\"\"Missing categorical values are imputed with SimpleImputer from sklearn (univariable - most frequent)\"\"\"\n",
    "        imputer = SimpleImputer(missing_values=np.nan, strategy ='most_frequent')\n",
    "        imputed = imputer.fit_transform(self.data[self.categorical_features_na()].values)\n",
    "        categorical_imputed = pd.DataFrame(imputed, columns=self.categorical_features_na())\n",
    "        return categorical_imputed\n",
    "    def num_imputer (self):\n",
    "        \"\"\"Missing numerical values are imputed with KNN Imputer from sklearn (multivariable - 5 neighbors)\"\"\"\n",
    "        imputer = KNNImputer(n_neighbors=5, weights='uniform', metric='nan_euclidean')\n",
    "        imputed = imputer.fit_transform(data[self.numerical_features_na()].values)\n",
    "        numerical_imputed = pd.DataFrame(imputed, columns=self.numerical_features_na())\n",
    "        return numerical_imputed\n",
    "    def cat_num_imputer_concat (self):\n",
    "        \"\"\"Missing categorical values are imputed with SimpleImputer from sklearn (univariable - most frequent)\n",
    "        Missing numerical values are imputed with KNN Imputer from sklearn (multivariable - 5 neighbors)\n",
    "        Place the numerical & categorical NOT imputed in a separate dataframe and concatenate all in the next step\"\"\"\n",
    "        imputer = SimpleImputer(missing_values=np.nan, strategy ='most_frequent')\n",
    "        imputed = imputer.fit_transform(self.data[self.categorical_features_na()].values)\n",
    "        categorical_imputed = pd.DataFrame(imputed, columns=self.categorical_features_na())\n",
    "        \n",
    "        imputer = KNNImputer(n_neighbors=5, weights='uniform', metric='nan_euclidean')\n",
    "        imputed = imputer.fit_transform(self.data[self.numerical_features_na()].values)\n",
    "        numerical_imputed = pd.DataFrame(imputed, columns=self.numerical_features_na())\n",
    "        \n",
    "        numerical_complete = pd.DataFrame(self.data[list(self.numerical_features().difference(self.numerical_features_na()))])\n",
    "        categorical_complete = pd.DataFrame(self.data[list(self.categorical_features().difference(self.categorical_features_na()))])\n",
    "        \n",
    "        data = pd.concat([numerical_imputed.reset_index(drop=True),\n",
    "                   numerical_complete.reset_index(drop=True),\n",
    "                   categorical_imputed.reset_index(drop=True),\n",
    "                   categorical_complete.reset_index(drop=True),\n",
    "                   pd.DataFrame(self.data[self.target].values, columns=[target])], axis =1)\n",
    "        return data\n",
    "    def scaling(self):\n",
    "        \"\"\"Scaling numerical features with MinMaxScaler from sklearn\"\"\"\n",
    "        mm_scaler = preprocessing.MinMaxScaler()\n",
    "        self.data[list(self.numerical_features)] = mm_scaler.fit_transform(self.data[list(self.numerical_features)])\n",
    "\n",
    "\n"
   ]
  },
  {
   "cell_type": "markdown",
   "id": "248f1396",
   "metadata": {},
   "source": [
    "CLASSES FOR THIS PROJECT:\n",
    " - EDA(): Data Exploration, Data Cleaning.\n",
    " - Prep(): Data Preparation (input missing,scale...)\n",
    "\n",
    "The purpose of these three classes is to standarize and do a more an agile project, as so... specific or too simple code lines are not compile under this classes."
   ]
  },
  {
   "cell_type": "markdown",
   "id": "20b0efe6",
   "metadata": {},
   "source": [
    "# DATA UNDERSTANDING"
   ]
  },
  {
   "cell_type": "code",
   "execution_count": 321,
   "id": "70b146d5",
   "metadata": {},
   "outputs": [],
   "source": [
    "dic = pd.read_excel('Data_Dictionary_Modeling_Task.xlsx')"
   ]
  },
  {
   "cell_type": "code",
   "execution_count": 322,
   "id": "22831528",
   "metadata": {},
   "outputs": [
    {
     "data": {
      "text/html": [
       "<div>\n",
       "<style scoped>\n",
       "    .dataframe tbody tr th:only-of-type {\n",
       "        vertical-align: middle;\n",
       "    }\n",
       "\n",
       "    .dataframe tbody tr th {\n",
       "        vertical-align: top;\n",
       "    }\n",
       "\n",
       "    .dataframe thead th {\n",
       "        text-align: right;\n",
       "    }\n",
       "</style>\n",
       "<table border=\"1\" class=\"dataframe\">\n",
       "  <thead>\n",
       "    <tr style=\"text-align: right;\">\n",
       "      <th></th>\n",
       "      <th>Column name</th>\n",
       "      <th>Description</th>\n",
       "    </tr>\n",
       "  </thead>\n",
       "  <tbody>\n",
       "    <tr>\n",
       "      <th>0</th>\n",
       "      <td>Reporting date</td>\n",
       "      <td>Last working day in month</td>\n",
       "    </tr>\n",
       "    <tr>\n",
       "      <th>1</th>\n",
       "      <td>Account Number</td>\n",
       "      <td>Loan Identification Number</td>\n",
       "    </tr>\n",
       "    <tr>\n",
       "      <th>2</th>\n",
       "      <td>Customer ID</td>\n",
       "      <td>Customer Identification Number in Credit Agricole</td>\n",
       "    </tr>\n",
       "    <tr>\n",
       "      <th>3</th>\n",
       "      <td>Program Name</td>\n",
       "      <td>Name of program under car loans product</td>\n",
       "    </tr>\n",
       "    <tr>\n",
       "      <th>4</th>\n",
       "      <td>Loan Open Date</td>\n",
       "      <td>Date of opening the loan</td>\n",
       "    </tr>\n",
       "    <tr>\n",
       "      <th>5</th>\n",
       "      <td>Expected Close Date</td>\n",
       "      <td>The date at which the loan should be closed (e...</td>\n",
       "    </tr>\n",
       "    <tr>\n",
       "      <th>6</th>\n",
       "      <td>Original Booked amount</td>\n",
       "      <td>Loan Amount that the customer takes</td>\n",
       "    </tr>\n",
       "    <tr>\n",
       "      <th>7</th>\n",
       "      <td>Outstanding</td>\n",
       "      <td>Remaining amount of the loan that is not paid ...</td>\n",
       "    </tr>\n",
       "    <tr>\n",
       "      <th>8</th>\n",
       "      <td>Bucket</td>\n",
       "      <td>Number of unpaid installements at this reporti...</td>\n",
       "    </tr>\n",
       "    <tr>\n",
       "      <th>9</th>\n",
       "      <td>Sex</td>\n",
       "      <td>Customer's gender as per the national ID</td>\n",
       "    </tr>\n",
       "    <tr>\n",
       "      <th>10</th>\n",
       "      <td>Customer Open Date</td>\n",
       "      <td>Date of opening the relation with the customer...</td>\n",
       "    </tr>\n",
       "    <tr>\n",
       "      <th>11</th>\n",
       "      <td>Birth date</td>\n",
       "      <td>Customer's birth date as per the national ID</td>\n",
       "    </tr>\n",
       "    <tr>\n",
       "      <th>12</th>\n",
       "      <td>Profession</td>\n",
       "      <td>Customer's profession</td>\n",
       "    </tr>\n",
       "    <tr>\n",
       "      <th>13</th>\n",
       "      <td>Car Type</td>\n",
       "      <td>Car Brand</td>\n",
       "    </tr>\n",
       "  </tbody>\n",
       "</table>\n",
       "</div>"
      ],
      "text/plain": [
       "               Column name                                        Description\n",
       "0           Reporting date                          Last working day in month\n",
       "1           Account Number                         Loan Identification Number\n",
       "2              Customer ID  Customer Identification Number in Credit Agricole\n",
       "3             Program Name            Name of program under car loans product\n",
       "4           Loan Open Date                           Date of opening the loan\n",
       "5      Expected Close Date  The date at which the loan should be closed (e...\n",
       "6   Original Booked amount                Loan Amount that the customer takes\n",
       "7             Outstanding   Remaining amount of the loan that is not paid ...\n",
       "8                   Bucket  Number of unpaid installements at this reporti...\n",
       "9                      Sex           Customer's gender as per the national ID\n",
       "10      Customer Open Date  Date of opening the relation with the customer...\n",
       "11              Birth date       Customer's birth date as per the national ID\n",
       "12              Profession                              Customer's profession\n",
       "13                Car Type                                          Car Brand"
      ]
     },
     "execution_count": 322,
     "metadata": {},
     "output_type": "execute_result"
    }
   ],
   "source": [
    "dic"
   ]
  },
  {
   "cell_type": "markdown",
   "id": "3a0c817b",
   "metadata": {},
   "source": [
    "Based on the description we can differenciate the following categories:<br>\n",
    "    <br>\n",
    "1) LOAN DATA RELATED<br>\n",
    "1.1 - Loan Open Date<br>\n",
    "1.2 - Expected Close Date<br>\n",
    "1.3 - Original Booked Amount<br>\n",
    "1.4 - Outstanding<br>\n",
    "1.5 - Bucket<br>\n",
    "1.6 - Account Number<br>\n",
    "1.7 - Program Name<br>\n",
    "1.8 - Car Type<br>\n",
    "1.9 - Reporting Date<br>\n",
    "<br>\n",
    "<br>\n",
    "2) CUSTOMER DATA RELATED<br>\n",
    "2.1 - Customer ID<br>\n",
    "2.2 - Sex<br>\n",
    "2.3 - Customer Open Date<br>\n",
    "2.4 - Birth date<br>\n",
    "2.5 - Profession<br>"
   ]
  },
  {
   "cell_type": "code",
   "execution_count": 323,
   "id": "de6d6b25",
   "metadata": {
    "scrolled": true
   },
   "outputs": [],
   "source": [
    "data = pd.read_excel('AUTO_LOANS_DATA.xlsx') #Data = Whole Population"
   ]
  },
  {
   "cell_type": "code",
   "execution_count": 324,
   "id": "31f903fd",
   "metadata": {},
   "outputs": [
    {
     "name": "stdout",
     "output_type": "stream",
     "text": [
      "<class 'pandas.core.frame.DataFrame'>\n",
      "RangeIndex: 900860 entries, 0 to 900859\n",
      "Data columns (total 14 columns):\n",
      " #   Column                  Non-Null Count   Dtype         \n",
      "---  ------                  --------------   -----         \n",
      " 0   REPORTING_DATE          900860 non-null  datetime64[ns]\n",
      " 1   ACCOUNT_NUMBER          900860 non-null  int64         \n",
      " 2   CUSTOMER_ID             900860 non-null  int64         \n",
      " 3   PROGRAM_NAME            900860 non-null  object        \n",
      " 4   LOAN_OPEN_DATE          900860 non-null  datetime64[ns]\n",
      " 5   EXPECTED_CLOSE_DATE     900860 non-null  datetime64[ns]\n",
      " 6   ORIGINAL_BOOKED_AMOUNT  900860 non-null  float64       \n",
      " 7   OUTSTANDING             900860 non-null  float64       \n",
      " 8   BUCKET                  900860 non-null  int64         \n",
      " 9   SEX                     896332 non-null  object        \n",
      " 10  CUSTOMER_OPEN_DATE      900860 non-null  datetime64[ns]\n",
      " 11  BIRTH_DATE              896327 non-null  datetime64[ns]\n",
      " 12  PROFESSION              895302 non-null  object        \n",
      " 13  CAR_TYPE                889342 non-null  object        \n",
      "dtypes: datetime64[ns](5), float64(2), int64(3), object(4)\n",
      "memory usage: 96.2+ MB\n"
     ]
    }
   ],
   "source": [
    "data.info() #Explore the features, missing values, dtypes and number of observations"
   ]
  },
  {
   "cell_type": "markdown",
   "id": "ade8fc7d",
   "metadata": {},
   "source": [
    "# TARGET TO BINARY"
   ]
  },
  {
   "cell_type": "code",
   "execution_count": 325,
   "id": "565f96a3",
   "metadata": {},
   "outputs": [],
   "source": [
    "target = 'BUCKET'"
   ]
  },
  {
   "cell_type": "code",
   "execution_count": 326,
   "id": "5e95495c",
   "metadata": {},
   "outputs": [
    {
     "data": {
      "text/plain": [
       "'BUCKET'"
      ]
     },
     "execution_count": 326,
     "metadata": {},
     "output_type": "execute_result"
    }
   ],
   "source": [
    "target"
   ]
  },
  {
   "cell_type": "code",
   "execution_count": 327,
   "id": "77882b59",
   "metadata": {},
   "outputs": [
    {
     "data": {
      "text/plain": [
       "26137"
      ]
     },
     "execution_count": 327,
     "metadata": {},
     "output_type": "execute_result"
    }
   ],
   "source": [
    "data.isnull().sum().sum()"
   ]
  },
  {
   "cell_type": "code",
   "execution_count": null,
   "id": "ef279f0f",
   "metadata": {},
   "outputs": [],
   "source": []
  },
  {
   "cell_type": "code",
   "execution_count": 328,
   "id": "8cf3d1d8",
   "metadata": {},
   "outputs": [],
   "source": [
    "data[target] = np.where(data[target] > 0, 1, data[target])"
   ]
  },
  {
   "cell_type": "markdown",
   "id": "2d948a32",
   "metadata": {},
   "source": [
    "As said before, Target Variable would be \"BUCKET\", as professor Manoel suggested, to simplify the exercise, we should transform the variable from \"Number of unpaid installements at this reporting\" to \"Low Risk = 0 & High Risk > 1\".\n",
    "\n",
    "In our case, if we decide not to binarize the variable the following code will work in the same way (delete or not run the next cell). "
   ]
  },
  {
   "cell_type": "code",
   "execution_count": 329,
   "id": "313aec09",
   "metadata": {},
   "outputs": [],
   "source": [
    "data['BUCKET'] = np.where(data.BUCKET > 0, 1, data.BUCKET) #numpy works faster!\n",
    "#This would be another way --> data.loc[data.BUCKET > 1, 'BUCKET'] = 0"
   ]
  },
  {
   "cell_type": "code",
   "execution_count": 330,
   "id": "4e804fc4",
   "metadata": {},
   "outputs": [
    {
     "data": {
      "text/plain": [
       "BUCKET\n",
       "0    743348\n",
       "1    157512\n",
       "dtype: int64"
      ]
     },
     "execution_count": 330,
     "metadata": {},
     "output_type": "execute_result"
    }
   ],
   "source": [
    "data.value_counts(target)"
   ]
  },
  {
   "cell_type": "markdown",
   "id": "b4a49b8d",
   "metadata": {},
   "source": [
    "# DATA CLEANING"
   ]
  },
  {
   "cell_type": "code",
   "execution_count": 331,
   "id": "e9a9307b",
   "metadata": {
    "scrolled": false
   },
   "outputs": [],
   "source": [
    "EDA = EDA('BUCKET',data) #Create a new object with the class EDA"
   ]
  },
  {
   "cell_type": "markdown",
   "id": "02b3491e",
   "metadata": {},
   "source": [
    "**DUPLICATES**"
   ]
  },
  {
   "cell_type": "code",
   "execution_count": 332,
   "id": "a9328fbf",
   "metadata": {},
   "outputs": [
    {
     "name": "stdout",
     "output_type": "stream",
     "text": [
      "number of duplicate rows:  (0, 14)\n"
     ]
    }
   ],
   "source": [
    "duplicate_rows_data = data[data.duplicated()] \n",
    "print('number of duplicate rows: ', duplicate_rows_data.shape)"
   ]
  },
  {
   "cell_type": "markdown",
   "id": "c1485841",
   "metadata": {},
   "source": [
    "Notice that the observations have several repetitions! Entire duplicates are not detectables but after diving into the observations somo have small variations on *\"REPORTING_DATE\"* and *\"OUTSTANDING\"* variables, these make sense as the descriptions loans have been reported every after month and the outstanding changes. Remember the description of both variables:\n",
    "- REPORTING_DATE : Last working day in month\n",
    "- OUSTANDING : Remaining amount of the loan that is not paid\n",
    "- BUCKET: IMPORTANT!!--> To mention that \"BUCKET\" risk changes through each reporting (but we have binarize it)."
   ]
  },
  {
   "cell_type": "code",
   "execution_count": 333,
   "id": "94331c81",
   "metadata": {},
   "outputs": [],
   "source": [
    "repetitive_data= data[data.duplicated(subset=data.columns.difference(['REPORTING_DATE','OUTSTANDING','BUCKET']))]"
   ]
  },
  {
   "cell_type": "code",
   "execution_count": 334,
   "id": "18502ffb",
   "metadata": {},
   "outputs": [
    {
     "name": "stdout",
     "output_type": "stream",
     "text": [
      "number of duplicate rows:  (861262, 14)\n"
     ]
    }
   ],
   "source": [
    "print('number of duplicate rows: ', repetitive_data.shape)"
   ]
  },
  {
   "cell_type": "code",
   "execution_count": 335,
   "id": "a398e337",
   "metadata": {},
   "outputs": [
    {
     "data": {
      "text/plain": [
       "['ACCOUNT_NUMBER',\n",
       " 'CUSTOMER_ID',\n",
       " 'PROGRAM_NAME',\n",
       " 'LOAN_OPEN_DATE',\n",
       " 'EXPECTED_CLOSE_DATE',\n",
       " 'ORIGINAL_BOOKED_AMOUNT',\n",
       " 'BUCKET',\n",
       " 'SEX',\n",
       " 'CUSTOMER_OPEN_DATE',\n",
       " 'BIRTH_DATE',\n",
       " 'PROFESSION',\n",
       " 'CAR_TYPE']"
      ]
     },
     "execution_count": 335,
     "metadata": {},
     "output_type": "execute_result"
    }
   ],
   "source": [
    "list_columns = data.columns.values.tolist()\n",
    "list_columns.pop(0) #REPORTING_DATE\n",
    "list_columns.pop(6) #OUTSTANDING\n",
    "list_columns #without REPORTING_DATE & OUTSTANDING"
   ]
  },
  {
   "cell_type": "code",
   "execution_count": 336,
   "id": "3e653408",
   "metadata": {},
   "outputs": [],
   "source": [
    "#IMPORTANT: Keep the last one and drop the repetitive observations\n",
    "data.sort_values(['REPORTING_DATE'],ascending=True)\n",
    "data.drop_duplicates(subset=(list_columns),keep='last', inplace = True)"
   ]
  },
  {
   "cell_type": "code",
   "execution_count": 337,
   "id": "1395cb02",
   "metadata": {},
   "outputs": [
    {
     "data": {
      "text/plain": [
       "(59340, 14)"
      ]
     },
     "execution_count": 337,
     "metadata": {},
     "output_type": "execute_result"
    }
   ],
   "source": [
    "data.shape #remaining data"
   ]
  },
  {
   "cell_type": "markdown",
   "id": "41c0be4e",
   "metadata": {},
   "source": [
    "**OBJECTIVE 1 --> IDENTIFY SEGMENTS BY MISSING VALUES**\n",
    "<br>\n",
    "Our Business segmentation on missing values is a logical segmentation based on the data availability."
   ]
  },
  {
   "cell_type": "markdown",
   "id": "bce466df",
   "metadata": {},
   "source": [
    "**MISSING VALUES**"
   ]
  },
  {
   "cell_type": "code",
   "execution_count": 338,
   "id": "92908d31",
   "metadata": {},
   "outputs": [
    {
     "data": {
      "text/plain": [
       "SEX           0.778564\n",
       "BIRTH_DATE    0.780249\n",
       "PROFESSION    0.872936\n",
       "CAR_TYPE      4.956185\n",
       "dtype: float64"
      ]
     },
     "execution_count": 338,
     "metadata": {},
     "output_type": "execute_result"
    }
   ],
   "source": [
    "EDA.missing_values_percentage()"
   ]
  },
  {
   "cell_type": "code",
   "execution_count": 339,
   "id": "26be02aa",
   "metadata": {},
   "outputs": [
    {
     "data": {
      "text/plain": [
       "SEX            462\n",
       "BIRTH_DATE     463\n",
       "PROFESSION     518\n",
       "CAR_TYPE      2941\n",
       "dtype: int64"
      ]
     },
     "execution_count": 339,
     "metadata": {},
     "output_type": "execute_result"
    }
   ],
   "source": [
    "EDA.missing_values()\n",
    "#Although most of the columns are related with Loan Data (category1)...\n",
    "#...the features with missing values (3/4) are under the Customer Data category."
   ]
  },
  {
   "cell_type": "markdown",
   "id": "0bfb0862",
   "metadata": {},
   "source": [
    "Separate from the dataset the rows with any missing values:\n",
    "<br>\n",
    "- Create a new dataframe called \"null data\"  that contains rows with missing data\n",
    "- Create a new dataframe called \"not_null_data\" that contains rows without any data missing."
   ]
  },
  {
   "cell_type": "code",
   "execution_count": 340,
   "id": "c2cdad82",
   "metadata": {},
   "outputs": [],
   "source": [
    "null_data = data[data.isnull().any(axis=1)]"
   ]
  },
  {
   "cell_type": "code",
   "execution_count": 341,
   "id": "1ff1da24",
   "metadata": {},
   "outputs": [
    {
     "name": "stdout",
     "output_type": "stream",
     "text": [
      "<class 'pandas.core.frame.DataFrame'>\n",
      "Int64Index: 3390 entries, 143 to 900599\n",
      "Data columns (total 14 columns):\n",
      " #   Column                  Non-Null Count  Dtype         \n",
      "---  ------                  --------------  -----         \n",
      " 0   REPORTING_DATE          3390 non-null   datetime64[ns]\n",
      " 1   ACCOUNT_NUMBER          3390 non-null   int64         \n",
      " 2   CUSTOMER_ID             3390 non-null   int64         \n",
      " 3   PROGRAM_NAME            3390 non-null   object        \n",
      " 4   LOAN_OPEN_DATE          3390 non-null   datetime64[ns]\n",
      " 5   EXPECTED_CLOSE_DATE     3390 non-null   datetime64[ns]\n",
      " 6   ORIGINAL_BOOKED_AMOUNT  3390 non-null   float64       \n",
      " 7   OUTSTANDING             3390 non-null   float64       \n",
      " 8   BUCKET                  3390 non-null   int64         \n",
      " 9   SEX                     2928 non-null   object        \n",
      " 10  CUSTOMER_OPEN_DATE      3390 non-null   datetime64[ns]\n",
      " 11  BIRTH_DATE              2927 non-null   datetime64[ns]\n",
      " 12  PROFESSION              2872 non-null   object        \n",
      " 13  CAR_TYPE                449 non-null    object        \n",
      "dtypes: datetime64[ns](5), float64(2), int64(3), object(4)\n",
      "memory usage: 397.3+ KB\n"
     ]
    }
   ],
   "source": [
    "null_data.info()"
   ]
  },
  {
   "cell_type": "markdown",
   "id": "eb6c3561",
   "metadata": {},
   "source": [
    "At this stage, we have two alternatives to get insights from missing data.\n",
    "<br>\n",
    "(1) Understanding the different categories of features (Loan & Customer Data Related).\n",
    "<br>\n",
    "(2) To answer the question: Why data is missing? We can analyze if the answer is in the correlation with other features."
   ]
  },
  {
   "cell_type": "markdown",
   "id": "6e8fa023",
   "metadata": {},
   "source": [
    "**MISSING NOT AT RANDOM ANALYSIS**"
   ]
  },
  {
   "cell_type": "markdown",
   "id": "7ec04ffd",
   "metadata": {},
   "source": [
    "Alternative (1)"
   ]
  },
  {
   "cell_type": "code",
   "execution_count": 342,
   "id": "8f1e77ab",
   "metadata": {},
   "outputs": [
    {
     "name": "stderr",
     "output_type": "stream",
     "text": [
      "<ipython-input-342-1c1c127f2397>:2: UserWarning: Boolean Series key will be reindexed to match DataFrame index.\n",
      "  null_data[(data.SEX.isnull()) & (data.BIRTH_DATE.isnull()) & data.PROFESSION.notnull()]\n"
     ]
    },
    {
     "data": {
      "text/html": [
       "<div>\n",
       "<style scoped>\n",
       "    .dataframe tbody tr th:only-of-type {\n",
       "        vertical-align: middle;\n",
       "    }\n",
       "\n",
       "    .dataframe tbody tr th {\n",
       "        vertical-align: top;\n",
       "    }\n",
       "\n",
       "    .dataframe thead th {\n",
       "        text-align: right;\n",
       "    }\n",
       "</style>\n",
       "<table border=\"1\" class=\"dataframe\">\n",
       "  <thead>\n",
       "    <tr style=\"text-align: right;\">\n",
       "      <th></th>\n",
       "      <th>REPORTING_DATE</th>\n",
       "      <th>ACCOUNT_NUMBER</th>\n",
       "      <th>CUSTOMER_ID</th>\n",
       "      <th>PROGRAM_NAME</th>\n",
       "      <th>LOAN_OPEN_DATE</th>\n",
       "      <th>EXPECTED_CLOSE_DATE</th>\n",
       "      <th>ORIGINAL_BOOKED_AMOUNT</th>\n",
       "      <th>OUTSTANDING</th>\n",
       "      <th>BUCKET</th>\n",
       "      <th>SEX</th>\n",
       "      <th>CUSTOMER_OPEN_DATE</th>\n",
       "      <th>BIRTH_DATE</th>\n",
       "      <th>PROFESSION</th>\n",
       "      <th>CAR_TYPE</th>\n",
       "    </tr>\n",
       "  </thead>\n",
       "  <tbody>\n",
       "  </tbody>\n",
       "</table>\n",
       "</div>"
      ],
      "text/plain": [
       "Empty DataFrame\n",
       "Columns: [REPORTING_DATE, ACCOUNT_NUMBER, CUSTOMER_ID, PROGRAM_NAME, LOAN_OPEN_DATE, EXPECTED_CLOSE_DATE, ORIGINAL_BOOKED_AMOUNT, OUTSTANDING, BUCKET, SEX, CUSTOMER_OPEN_DATE, BIRTH_DATE, PROFESSION, CAR_TYPE]\n",
       "Index: []"
      ]
     },
     "execution_count": 342,
     "metadata": {},
     "output_type": "execute_result"
    }
   ],
   "source": [
    "#What professions have null values for SEX and BIRTH_DATE?.\n",
    "null_data[(data.SEX.isnull()) & (data.BIRTH_DATE.isnull()) & data.PROFESSION.notnull()]\n",
    "#The result is ZERO!... "
   ]
  },
  {
   "cell_type": "markdown",
   "id": "583b9f55",
   "metadata": {},
   "source": [
    "Alternative (2)"
   ]
  },
  {
   "cell_type": "code",
   "execution_count": 343,
   "id": "e3891611",
   "metadata": {},
   "outputs": [],
   "source": [
    "#Replace all non-Nan entries with 1 and all NaN with O\n",
    "null_data_zeros_and_ones = null_data.notnull().astype('int')"
   ]
  },
  {
   "cell_type": "code",
   "execution_count": 344,
   "id": "9acaa501",
   "metadata": {},
   "outputs": [
    {
     "data": {
      "text/html": [
       "<div>\n",
       "<style scoped>\n",
       "    .dataframe tbody tr th:only-of-type {\n",
       "        vertical-align: middle;\n",
       "    }\n",
       "\n",
       "    .dataframe tbody tr th {\n",
       "        vertical-align: top;\n",
       "    }\n",
       "\n",
       "    .dataframe thead th {\n",
       "        text-align: right;\n",
       "    }\n",
       "</style>\n",
       "<table border=\"1\" class=\"dataframe\">\n",
       "  <thead>\n",
       "    <tr style=\"text-align: right;\">\n",
       "      <th></th>\n",
       "      <th>REPORTING_DATE</th>\n",
       "      <th>ACCOUNT_NUMBER</th>\n",
       "      <th>CUSTOMER_ID</th>\n",
       "      <th>PROGRAM_NAME</th>\n",
       "      <th>LOAN_OPEN_DATE</th>\n",
       "      <th>EXPECTED_CLOSE_DATE</th>\n",
       "      <th>ORIGINAL_BOOKED_AMOUNT</th>\n",
       "      <th>OUTSTANDING</th>\n",
       "      <th>BUCKET</th>\n",
       "      <th>SEX</th>\n",
       "      <th>CUSTOMER_OPEN_DATE</th>\n",
       "      <th>BIRTH_DATE</th>\n",
       "      <th>PROFESSION</th>\n",
       "      <th>CAR_TYPE</th>\n",
       "    </tr>\n",
       "  </thead>\n",
       "  <tbody>\n",
       "    <tr>\n",
       "      <th>143</th>\n",
       "      <td>1</td>\n",
       "      <td>1</td>\n",
       "      <td>1</td>\n",
       "      <td>1</td>\n",
       "      <td>1</td>\n",
       "      <td>1</td>\n",
       "      <td>1</td>\n",
       "      <td>1</td>\n",
       "      <td>1</td>\n",
       "      <td>1</td>\n",
       "      <td>1</td>\n",
       "      <td>1</td>\n",
       "      <td>1</td>\n",
       "      <td>0</td>\n",
       "    </tr>\n",
       "    <tr>\n",
       "      <th>247</th>\n",
       "      <td>1</td>\n",
       "      <td>1</td>\n",
       "      <td>1</td>\n",
       "      <td>1</td>\n",
       "      <td>1</td>\n",
       "      <td>1</td>\n",
       "      <td>1</td>\n",
       "      <td>1</td>\n",
       "      <td>1</td>\n",
       "      <td>1</td>\n",
       "      <td>1</td>\n",
       "      <td>1</td>\n",
       "      <td>1</td>\n",
       "      <td>0</td>\n",
       "    </tr>\n",
       "    <tr>\n",
       "      <th>308</th>\n",
       "      <td>1</td>\n",
       "      <td>1</td>\n",
       "      <td>1</td>\n",
       "      <td>1</td>\n",
       "      <td>1</td>\n",
       "      <td>1</td>\n",
       "      <td>1</td>\n",
       "      <td>1</td>\n",
       "      <td>1</td>\n",
       "      <td>1</td>\n",
       "      <td>1</td>\n",
       "      <td>1</td>\n",
       "      <td>1</td>\n",
       "      <td>0</td>\n",
       "    </tr>\n",
       "    <tr>\n",
       "      <th>350</th>\n",
       "      <td>1</td>\n",
       "      <td>1</td>\n",
       "      <td>1</td>\n",
       "      <td>1</td>\n",
       "      <td>1</td>\n",
       "      <td>1</td>\n",
       "      <td>1</td>\n",
       "      <td>1</td>\n",
       "      <td>1</td>\n",
       "      <td>1</td>\n",
       "      <td>1</td>\n",
       "      <td>1</td>\n",
       "      <td>1</td>\n",
       "      <td>0</td>\n",
       "    </tr>\n",
       "    <tr>\n",
       "      <th>363</th>\n",
       "      <td>1</td>\n",
       "      <td>1</td>\n",
       "      <td>1</td>\n",
       "      <td>1</td>\n",
       "      <td>1</td>\n",
       "      <td>1</td>\n",
       "      <td>1</td>\n",
       "      <td>1</td>\n",
       "      <td>1</td>\n",
       "      <td>1</td>\n",
       "      <td>1</td>\n",
       "      <td>1</td>\n",
       "      <td>1</td>\n",
       "      <td>0</td>\n",
       "    </tr>\n",
       "    <tr>\n",
       "      <th>...</th>\n",
       "      <td>...</td>\n",
       "      <td>...</td>\n",
       "      <td>...</td>\n",
       "      <td>...</td>\n",
       "      <td>...</td>\n",
       "      <td>...</td>\n",
       "      <td>...</td>\n",
       "      <td>...</td>\n",
       "      <td>...</td>\n",
       "      <td>...</td>\n",
       "      <td>...</td>\n",
       "      <td>...</td>\n",
       "      <td>...</td>\n",
       "      <td>...</td>\n",
       "    </tr>\n",
       "    <tr>\n",
       "      <th>900138</th>\n",
       "      <td>1</td>\n",
       "      <td>1</td>\n",
       "      <td>1</td>\n",
       "      <td>1</td>\n",
       "      <td>1</td>\n",
       "      <td>1</td>\n",
       "      <td>1</td>\n",
       "      <td>1</td>\n",
       "      <td>1</td>\n",
       "      <td>0</td>\n",
       "      <td>1</td>\n",
       "      <td>0</td>\n",
       "      <td>0</td>\n",
       "      <td>1</td>\n",
       "    </tr>\n",
       "    <tr>\n",
       "      <th>900187</th>\n",
       "      <td>1</td>\n",
       "      <td>1</td>\n",
       "      <td>1</td>\n",
       "      <td>1</td>\n",
       "      <td>1</td>\n",
       "      <td>1</td>\n",
       "      <td>1</td>\n",
       "      <td>1</td>\n",
       "      <td>1</td>\n",
       "      <td>1</td>\n",
       "      <td>1</td>\n",
       "      <td>0</td>\n",
       "      <td>0</td>\n",
       "      <td>1</td>\n",
       "    </tr>\n",
       "    <tr>\n",
       "      <th>900300</th>\n",
       "      <td>1</td>\n",
       "      <td>1</td>\n",
       "      <td>1</td>\n",
       "      <td>1</td>\n",
       "      <td>1</td>\n",
       "      <td>1</td>\n",
       "      <td>1</td>\n",
       "      <td>1</td>\n",
       "      <td>1</td>\n",
       "      <td>0</td>\n",
       "      <td>1</td>\n",
       "      <td>0</td>\n",
       "      <td>0</td>\n",
       "      <td>1</td>\n",
       "    </tr>\n",
       "    <tr>\n",
       "      <th>900470</th>\n",
       "      <td>1</td>\n",
       "      <td>1</td>\n",
       "      <td>1</td>\n",
       "      <td>1</td>\n",
       "      <td>1</td>\n",
       "      <td>1</td>\n",
       "      <td>1</td>\n",
       "      <td>1</td>\n",
       "      <td>1</td>\n",
       "      <td>0</td>\n",
       "      <td>1</td>\n",
       "      <td>0</td>\n",
       "      <td>0</td>\n",
       "      <td>1</td>\n",
       "    </tr>\n",
       "    <tr>\n",
       "      <th>900599</th>\n",
       "      <td>1</td>\n",
       "      <td>1</td>\n",
       "      <td>1</td>\n",
       "      <td>1</td>\n",
       "      <td>1</td>\n",
       "      <td>1</td>\n",
       "      <td>1</td>\n",
       "      <td>1</td>\n",
       "      <td>1</td>\n",
       "      <td>1</td>\n",
       "      <td>1</td>\n",
       "      <td>1</td>\n",
       "      <td>1</td>\n",
       "      <td>0</td>\n",
       "    </tr>\n",
       "  </tbody>\n",
       "</table>\n",
       "<p>3390 rows × 14 columns</p>\n",
       "</div>"
      ],
      "text/plain": [
       "        REPORTING_DATE  ACCOUNT_NUMBER  CUSTOMER_ID  PROGRAM_NAME  \\\n",
       "143                  1               1            1             1   \n",
       "247                  1               1            1             1   \n",
       "308                  1               1            1             1   \n",
       "350                  1               1            1             1   \n",
       "363                  1               1            1             1   \n",
       "...                ...             ...          ...           ...   \n",
       "900138               1               1            1             1   \n",
       "900187               1               1            1             1   \n",
       "900300               1               1            1             1   \n",
       "900470               1               1            1             1   \n",
       "900599               1               1            1             1   \n",
       "\n",
       "        LOAN_OPEN_DATE  EXPECTED_CLOSE_DATE  ORIGINAL_BOOKED_AMOUNT  \\\n",
       "143                  1                    1                       1   \n",
       "247                  1                    1                       1   \n",
       "308                  1                    1                       1   \n",
       "350                  1                    1                       1   \n",
       "363                  1                    1                       1   \n",
       "...                ...                  ...                     ...   \n",
       "900138               1                    1                       1   \n",
       "900187               1                    1                       1   \n",
       "900300               1                    1                       1   \n",
       "900470               1                    1                       1   \n",
       "900599               1                    1                       1   \n",
       "\n",
       "        OUTSTANDING  BUCKET  SEX  CUSTOMER_OPEN_DATE  BIRTH_DATE  PROFESSION  \\\n",
       "143               1       1    1                   1           1           1   \n",
       "247               1       1    1                   1           1           1   \n",
       "308               1       1    1                   1           1           1   \n",
       "350               1       1    1                   1           1           1   \n",
       "363               1       1    1                   1           1           1   \n",
       "...             ...     ...  ...                 ...         ...         ...   \n",
       "900138            1       1    0                   1           0           0   \n",
       "900187            1       1    1                   1           0           0   \n",
       "900300            1       1    0                   1           0           0   \n",
       "900470            1       1    0                   1           0           0   \n",
       "900599            1       1    1                   1           1           1   \n",
       "\n",
       "        CAR_TYPE  \n",
       "143            0  \n",
       "247            0  \n",
       "308            0  \n",
       "350            0  \n",
       "363            0  \n",
       "...          ...  \n",
       "900138         1  \n",
       "900187         1  \n",
       "900300         1  \n",
       "900470         1  \n",
       "900599         0  \n",
       "\n",
       "[3390 rows x 14 columns]"
      ]
     },
     "execution_count": 344,
     "metadata": {},
     "output_type": "execute_result"
    }
   ],
   "source": [
    "null_data_zeros_and_ones"
   ]
  },
  {
   "cell_type": "code",
   "execution_count": 345,
   "id": "7019f6a3",
   "metadata": {
    "scrolled": true
   },
   "outputs": [
    {
     "data": {
      "image/png": "[encoded data removed]",
      "text/plain": [
       "<Figure size 1152x432 with 2 Axes>"
      ]
     },
     "metadata": {
      "needs_background": "light"
     },
     "output_type": "display_data"
    }
   ],
   "source": [
    "plt.figure(figsize=(16, 6))\n",
    "heatmap = sns.heatmap(null_data_zeros_and_ones.corr(), vmin=-1, vmax=1, annot=True)\n",
    "heatmap.set_title('Correlation Heatmap', fontdict={'fontsize':20}, pad=20);"
   ]
  },
  {
   "cell_type": "code",
   "execution_count": null,
   "id": "3fdab7a0",
   "metadata": {},
   "outputs": [],
   "source": []
  },
  {
   "cell_type": "code",
   "execution_count": 346,
   "id": "7193f3e9",
   "metadata": {
    "scrolled": true
   },
   "outputs": [
    {
     "data": {
      "text/html": [
       "<div>\n",
       "<style scoped>\n",
       "    .dataframe tbody tr th:only-of-type {\n",
       "        vertical-align: middle;\n",
       "    }\n",
       "\n",
       "    .dataframe tbody tr th {\n",
       "        vertical-align: top;\n",
       "    }\n",
       "\n",
       "    .dataframe thead th {\n",
       "        text-align: right;\n",
       "    }\n",
       "</style>\n",
       "<table border=\"1\" class=\"dataframe\">\n",
       "  <thead>\n",
       "    <tr style=\"text-align: right;\">\n",
       "      <th></th>\n",
       "      <th>REPORTING_DATE</th>\n",
       "      <th>ACCOUNT_NUMBER</th>\n",
       "      <th>CUSTOMER_ID</th>\n",
       "      <th>PROGRAM_NAME</th>\n",
       "      <th>LOAN_OPEN_DATE</th>\n",
       "      <th>EXPECTED_CLOSE_DATE</th>\n",
       "      <th>ORIGINAL_BOOKED_AMOUNT</th>\n",
       "      <th>OUTSTANDING</th>\n",
       "      <th>BUCKET</th>\n",
       "      <th>SEX</th>\n",
       "      <th>CUSTOMER_OPEN_DATE</th>\n",
       "      <th>BIRTH_DATE</th>\n",
       "      <th>PROFESSION</th>\n",
       "      <th>CAR_TYPE</th>\n",
       "    </tr>\n",
       "  </thead>\n",
       "  <tbody>\n",
       "    <tr>\n",
       "      <th>143</th>\n",
       "      <td>2016-01-31</td>\n",
       "      <td>144</td>\n",
       "      <td>144</td>\n",
       "      <td>Auto Loans 50% Down Payment - Self Employed</td>\n",
       "      <td>2015-06-17</td>\n",
       "      <td>2017-06-03</td>\n",
       "      <td>140500.0</td>\n",
       "      <td>0.00</td>\n",
       "      <td>0</td>\n",
       "      <td>M</td>\n",
       "      <td>2013-05-14</td>\n",
       "      <td>1982-06-23</td>\n",
       "      <td>Contractor</td>\n",
       "      <td>NaN</td>\n",
       "    </tr>\n",
       "    <tr>\n",
       "      <th>247</th>\n",
       "      <td>2016-01-31</td>\n",
       "      <td>248</td>\n",
       "      <td>248</td>\n",
       "      <td>Auto Loans 50% Down Payment - Self Employed</td>\n",
       "      <td>2011-11-29</td>\n",
       "      <td>2016-12-03</td>\n",
       "      <td>70000.0</td>\n",
       "      <td>0.00</td>\n",
       "      <td>1</td>\n",
       "      <td>F</td>\n",
       "      <td>2011-11-16</td>\n",
       "      <td>1984-08-29</td>\n",
       "      <td>Business Man / Trader</td>\n",
       "      <td>NaN</td>\n",
       "    </tr>\n",
       "    <tr>\n",
       "      <th>308</th>\n",
       "      <td>2016-01-31</td>\n",
       "      <td>309</td>\n",
       "      <td>307</td>\n",
       "      <td>Auto Loans 50% Down Payment - Self Employed</td>\n",
       "      <td>2012-09-18</td>\n",
       "      <td>2017-09-03</td>\n",
       "      <td>65500.0</td>\n",
       "      <td>0.00</td>\n",
       "      <td>0</td>\n",
       "      <td>M</td>\n",
       "      <td>2012-09-12</td>\n",
       "      <td>1977-02-15</td>\n",
       "      <td>Shop Owner</td>\n",
       "      <td>NaN</td>\n",
       "    </tr>\n",
       "    <tr>\n",
       "      <th>350</th>\n",
       "      <td>2016-01-31</td>\n",
       "      <td>351</td>\n",
       "      <td>349</td>\n",
       "      <td>Auto Loans 50% Down Payment - Self Employed</td>\n",
       "      <td>2014-07-07</td>\n",
       "      <td>2018-07-03</td>\n",
       "      <td>44500.0</td>\n",
       "      <td>0.00</td>\n",
       "      <td>1</td>\n",
       "      <td>M</td>\n",
       "      <td>2014-07-02</td>\n",
       "      <td>1980-12-01</td>\n",
       "      <td>Company Owner</td>\n",
       "      <td>NaN</td>\n",
       "    </tr>\n",
       "    <tr>\n",
       "      <th>351</th>\n",
       "      <td>2016-01-31</td>\n",
       "      <td>352</td>\n",
       "      <td>350</td>\n",
       "      <td>Auto Loans 50% Down Payment - Self Employed</td>\n",
       "      <td>2013-06-12</td>\n",
       "      <td>2016-06-03</td>\n",
       "      <td>27000.0</td>\n",
       "      <td>4675.77</td>\n",
       "      <td>0</td>\n",
       "      <td>M</td>\n",
       "      <td>2007-05-30</td>\n",
       "      <td>1961-06-19</td>\n",
       "      <td>Company Owner</td>\n",
       "      <td>Chana</td>\n",
       "    </tr>\n",
       "    <tr>\n",
       "      <th>...</th>\n",
       "      <td>...</td>\n",
       "      <td>...</td>\n",
       "      <td>...</td>\n",
       "      <td>...</td>\n",
       "      <td>...</td>\n",
       "      <td>...</td>\n",
       "      <td>...</td>\n",
       "      <td>...</td>\n",
       "      <td>...</td>\n",
       "      <td>...</td>\n",
       "      <td>...</td>\n",
       "      <td>...</td>\n",
       "      <td>...</td>\n",
       "      <td>...</td>\n",
       "    </tr>\n",
       "    <tr>\n",
       "      <th>900855</th>\n",
       "      <td>2019-08-29</td>\n",
       "      <td>36547</td>\n",
       "      <td>35528</td>\n",
       "      <td>Auto Loans 50% Down Payment - Employed</td>\n",
       "      <td>2018-09-27</td>\n",
       "      <td>2023-09-03</td>\n",
       "      <td>90000.0</td>\n",
       "      <td>78956.52</td>\n",
       "      <td>0</td>\n",
       "      <td>M</td>\n",
       "      <td>2018-09-16</td>\n",
       "      <td>1993-10-20</td>\n",
       "      <td>EMPLOYEE</td>\n",
       "      <td>Gelory</td>\n",
       "    </tr>\n",
       "    <tr>\n",
       "      <th>900856</th>\n",
       "      <td>2019-08-29</td>\n",
       "      <td>39597</td>\n",
       "      <td>38396</td>\n",
       "      <td>Auto Loans 50% Down Payment - Employed</td>\n",
       "      <td>2019-08-28</td>\n",
       "      <td>2024-09-03</td>\n",
       "      <td>92500.0</td>\n",
       "      <td>92826.06</td>\n",
       "      <td>0</td>\n",
       "      <td>F</td>\n",
       "      <td>2019-08-15</td>\n",
       "      <td>1977-09-01</td>\n",
       "      <td>Manager</td>\n",
       "      <td>Gelory</td>\n",
       "    </tr>\n",
       "    <tr>\n",
       "      <th>900857</th>\n",
       "      <td>2019-08-29</td>\n",
       "      <td>38016</td>\n",
       "      <td>36905</td>\n",
       "      <td>Pick Up and Small Trucks</td>\n",
       "      <td>2019-03-21</td>\n",
       "      <td>2021-03-03</td>\n",
       "      <td>140250.0</td>\n",
       "      <td>114919.47</td>\n",
       "      <td>0</td>\n",
       "      <td>M</td>\n",
       "      <td>2019-01-29</td>\n",
       "      <td>1980-01-05</td>\n",
       "      <td>Company Owner</td>\n",
       "      <td>NISSAN</td>\n",
       "    </tr>\n",
       "    <tr>\n",
       "      <th>900858</th>\n",
       "      <td>2019-08-29</td>\n",
       "      <td>38899</td>\n",
       "      <td>37739</td>\n",
       "      <td>Pick Up and Small Trucks</td>\n",
       "      <td>2019-06-26</td>\n",
       "      <td>2024-06-03</td>\n",
       "      <td>105000.0</td>\n",
       "      <td>101714.25</td>\n",
       "      <td>0</td>\n",
       "      <td>M</td>\n",
       "      <td>2019-05-28</td>\n",
       "      <td>1986-04-04</td>\n",
       "      <td>Company Owner</td>\n",
       "      <td>DFSK</td>\n",
       "    </tr>\n",
       "    <tr>\n",
       "      <th>900859</th>\n",
       "      <td>2019-08-29</td>\n",
       "      <td>4350</td>\n",
       "      <td>4307</td>\n",
       "      <td>Auto Loans 40% Down Payment - Employed</td>\n",
       "      <td>2014-09-07</td>\n",
       "      <td>2019-09-03</td>\n",
       "      <td>120000.0</td>\n",
       "      <td>0.00</td>\n",
       "      <td>0</td>\n",
       "      <td>M</td>\n",
       "      <td>2013-09-10</td>\n",
       "      <td>1986-06-06</td>\n",
       "      <td>ENGINEER</td>\n",
       "      <td>KIA</td>\n",
       "    </tr>\n",
       "  </tbody>\n",
       "</table>\n",
       "<p>59340 rows × 14 columns</p>\n",
       "</div>"
      ],
      "text/plain": [
       "       REPORTING_DATE  ACCOUNT_NUMBER  CUSTOMER_ID  \\\n",
       "143        2016-01-31             144          144   \n",
       "247        2016-01-31             248          248   \n",
       "308        2016-01-31             309          307   \n",
       "350        2016-01-31             351          349   \n",
       "351        2016-01-31             352          350   \n",
       "...               ...             ...          ...   \n",
       "900855     2019-08-29           36547        35528   \n",
       "900856     2019-08-29           39597        38396   \n",
       "900857     2019-08-29           38016        36905   \n",
       "900858     2019-08-29           38899        37739   \n",
       "900859     2019-08-29            4350         4307   \n",
       "\n",
       "                                       PROGRAM_NAME LOAN_OPEN_DATE  \\\n",
       "143     Auto Loans 50% Down Payment - Self Employed     2015-06-17   \n",
       "247     Auto Loans 50% Down Payment - Self Employed     2011-11-29   \n",
       "308     Auto Loans 50% Down Payment - Self Employed     2012-09-18   \n",
       "350     Auto Loans 50% Down Payment - Self Employed     2014-07-07   \n",
       "351     Auto Loans 50% Down Payment - Self Employed     2013-06-12   \n",
       "...                                             ...            ...   \n",
       "900855       Auto Loans 50% Down Payment - Employed     2018-09-27   \n",
       "900856       Auto Loans 50% Down Payment - Employed     2019-08-28   \n",
       "900857                     Pick Up and Small Trucks     2019-03-21   \n",
       "900858                     Pick Up and Small Trucks     2019-06-26   \n",
       "900859       Auto Loans 40% Down Payment - Employed     2014-09-07   \n",
       "\n",
       "       EXPECTED_CLOSE_DATE  ORIGINAL_BOOKED_AMOUNT  OUTSTANDING  BUCKET SEX  \\\n",
       "143             2017-06-03                140500.0         0.00       0   M   \n",
       "247             2016-12-03                 70000.0         0.00       1   F   \n",
       "308             2017-09-03                 65500.0         0.00       0   M   \n",
       "350             2018-07-03                 44500.0         0.00       1   M   \n",
       "351             2016-06-03                 27000.0      4675.77       0   M   \n",
       "...                    ...                     ...          ...     ...  ..   \n",
       "900855          2023-09-03                 90000.0     78956.52       0   M   \n",
       "900856          2024-09-03                 92500.0     92826.06       0   F   \n",
       "900857          2021-03-03                140250.0    114919.47       0   M   \n",
       "900858          2024-06-03                105000.0    101714.25       0   M   \n",
       "900859          2019-09-03                120000.0         0.00       0   M   \n",
       "\n",
       "       CUSTOMER_OPEN_DATE BIRTH_DATE             PROFESSION CAR_TYPE  \n",
       "143            2013-05-14 1982-06-23             Contractor      NaN  \n",
       "247            2011-11-16 1984-08-29  Business Man / Trader      NaN  \n",
       "308            2012-09-12 1977-02-15             Shop Owner      NaN  \n",
       "350            2014-07-02 1980-12-01          Company Owner      NaN  \n",
       "351            2007-05-30 1961-06-19          Company Owner    Chana  \n",
       "...                   ...        ...                    ...      ...  \n",
       "900855         2018-09-16 1993-10-20               EMPLOYEE   Gelory  \n",
       "900856         2019-08-15 1977-09-01                Manager   Gelory  \n",
       "900857         2019-01-29 1980-01-05          Company Owner   NISSAN  \n",
       "900858         2019-05-28 1986-04-04          Company Owner     DFSK  \n",
       "900859         2013-09-10 1986-06-06               ENGINEER      KIA  \n",
       "\n",
       "[59340 rows x 14 columns]"
      ]
     },
     "execution_count": 346,
     "metadata": {},
     "output_type": "execute_result"
    }
   ],
   "source": [
    "input_vars = list(data.columns.values)\n",
    "MNAR_correlation = data[input_vars].copy()\n",
    "MNAR_correlation"
   ]
  },
  {
   "cell_type": "code",
   "execution_count": 347,
   "id": "ad7574d3",
   "metadata": {},
   "outputs": [
    {
     "data": {
      "text/html": [
       "<div>\n",
       "<style scoped>\n",
       "    .dataframe tbody tr th:only-of-type {\n",
       "        vertical-align: middle;\n",
       "    }\n",
       "\n",
       "    .dataframe tbody tr th {\n",
       "        vertical-align: top;\n",
       "    }\n",
       "\n",
       "    .dataframe thead th {\n",
       "        text-align: right;\n",
       "    }\n",
       "</style>\n",
       "<table border=\"1\" class=\"dataframe\">\n",
       "  <thead>\n",
       "    <tr style=\"text-align: right;\">\n",
       "      <th></th>\n",
       "      <th>SEX</th>\n",
       "      <th>BIRTH_DATE</th>\n",
       "      <th>PROFESSION</th>\n",
       "    </tr>\n",
       "  </thead>\n",
       "  <tbody>\n",
       "    <tr>\n",
       "      <th>SEX</th>\n",
       "      <td>1.000000</td>\n",
       "      <td>0.998749</td>\n",
       "      <td>0.935326</td>\n",
       "    </tr>\n",
       "    <tr>\n",
       "      <th>BIRTH_DATE</th>\n",
       "      <td>0.998749</td>\n",
       "      <td>1.000000</td>\n",
       "      <td>0.936497</td>\n",
       "    </tr>\n",
       "    <tr>\n",
       "      <th>PROFESSION</th>\n",
       "      <td>0.935326</td>\n",
       "      <td>0.936497</td>\n",
       "      <td>1.000000</td>\n",
       "    </tr>\n",
       "  </tbody>\n",
       "</table>\n",
       "</div>"
      ],
      "text/plain": [
       "                 SEX  BIRTH_DATE  PROFESSION\n",
       "SEX         1.000000    0.998749    0.935326\n",
       "BIRTH_DATE  0.998749    1.000000    0.936497\n",
       "PROFESSION  0.935326    0.936497    1.000000"
      ]
     },
     "execution_count": 347,
     "metadata": {},
     "output_type": "execute_result"
    }
   ],
   "source": [
    "input_vars = ['SEX','BIRTH_DATE','PROFESSION']\n",
    "MNAR_correlation = null_data_zeros_and_ones[input_vars].corr()\n",
    "MNAR_correlation"
   ]
  },
  {
   "cell_type": "code",
   "execution_count": 348,
   "id": "feec9bed",
   "metadata": {},
   "outputs": [
    {
     "name": "stdout",
     "output_type": "stream",
     "text": [
      "variables are not\n"
     ]
    }
   ],
   "source": [
    "\n",
    "hello = ['hei','loco']\n",
    "adios = ['hei','loco', 'tron']\n",
    "try:\n",
    "    print(x)\n",
    "except: \n",
    "    print('variables are not')"
   ]
  },
  {
   "cell_type": "code",
   "execution_count": 349,
   "id": "4496ab45",
   "metadata": {},
   "outputs": [
    {
     "name": "stdout",
     "output_type": "stream",
     "text": [
      "<class 'pandas.core.frame.DataFrame'>\n",
      "Int64Index: 59340 entries, 143 to 900859\n",
      "Data columns (total 14 columns):\n",
      " #   Column                  Non-Null Count  Dtype         \n",
      "---  ------                  --------------  -----         \n",
      " 0   REPORTING_DATE          59340 non-null  datetime64[ns]\n",
      " 1   ACCOUNT_NUMBER          59340 non-null  int64         \n",
      " 2   CUSTOMER_ID             59340 non-null  int64         \n",
      " 3   PROGRAM_NAME            59340 non-null  object        \n",
      " 4   LOAN_OPEN_DATE          59340 non-null  datetime64[ns]\n",
      " 5   EXPECTED_CLOSE_DATE     59340 non-null  datetime64[ns]\n",
      " 6   ORIGINAL_BOOKED_AMOUNT  59340 non-null  float64       \n",
      " 7   OUTSTANDING             59340 non-null  float64       \n",
      " 8   BUCKET                  59340 non-null  int64         \n",
      " 9   SEX                     58878 non-null  object        \n",
      " 10  CUSTOMER_OPEN_DATE      59340 non-null  datetime64[ns]\n",
      " 11  BIRTH_DATE              58877 non-null  datetime64[ns]\n",
      " 12  PROFESSION              58822 non-null  object        \n",
      " 13  CAR_TYPE                56399 non-null  object        \n",
      "dtypes: datetime64[ns](5), float64(2), int64(3), object(4)\n",
      "memory usage: 8.8+ MB\n"
     ]
    }
   ],
   "source": [
    "data.info()"
   ]
  },
  {
   "cell_type": "code",
   "execution_count": 350,
   "id": "373384ac",
   "metadata": {},
   "outputs": [],
   "source": [
    "    def missing_not_at_random(input_vars=[]): \n",
    "        null_data = data[data.isnull().any(axis=1)]\n",
    "        null_data_zeros_and_ones = null_data.notnull().astype('int') #Replace all non-Nan entries with 1 and all NaN with O\n",
    "        if input_vars ==[]: \n",
    "            input_vars = list(data.columns.values)\n",
    "        \n",
    "        try:        \n",
    "            MNAR_correlation = null_data_zeros_and_ones[input_vars].corr()\n",
    "\n",
    "        \n",
    "            MNAR =[]\n",
    "\n",
    "            pos_corr = 0.50\n",
    "            neg_corr = -0.50\n",
    "\n",
    "            for i in range(len(MNAR_correlation.columns)):\n",
    "                for j in range(i):\n",
    "                    if abs(MNAR_correlation.iloc[i,j]) > pos_corr or (MNAR_correlation.iloc[i,j])<neg_corr:\n",
    "                        colname_i = MNAR_correlation.columns[j]\n",
    "                        colname_j = MNAR_correlation.columns[i]\n",
    "                        MNAR.append(colname_i)\n",
    "                        MNAR.append(colname_j)\n",
    "            MNAR = list(set(MNAR))\n",
    "            if MNAR == []:\n",
    "                print('Zero MNAR were found under these variables as there are not missing values OR just included one variable')\n",
    "            else:\n",
    "                print('MNAR Variables found: {}'.format(MNAR))\n",
    "        except:\n",
    "            print('Not valid \"input_vars\" argument, include a list with variables that are inside the dataframe')"
   ]
  },
  {
   "cell_type": "code",
   "execution_count": 351,
   "id": "b6c90918",
   "metadata": {
    "scrolled": true
   },
   "outputs": [
    {
     "name": "stdout",
     "output_type": "stream",
     "text": [
      "MNAR Variables found: ['SEX', 'PROFESSION']\n"
     ]
    }
   ],
   "source": [
    "missing_not_at_random(input_vars=['PROFESSION','SEX'])"
   ]
  },
  {
   "cell_type": "code",
   "execution_count": 352,
   "id": "9113dcb6",
   "metadata": {},
   "outputs": [],
   "source": [
    "def missing_not_at_random_report():    \n",
    "    features = list(data.columns)\n",
    "    File_Segment = [x for x in features if x not in MNAR] #List Comprehensions are perfectly suited to making this sort of thing \n",
    "    print('Missing Not At Random Report - {} variables seem Missing Not at Random, there for we recomend: \\n'.format(MNAR)),\n",
    "    print('Thin File Segment Variables: {}\\n'.format(File_Segment))\n",
    "    print('Full File Segment Variables: {}\\n'.format(features))"
   ]
  },
  {
   "cell_type": "code",
   "execution_count": 353,
   "id": "2c5d5d3e",
   "metadata": {
    "scrolled": true
   },
   "outputs": [
    {
     "ename": "NameError",
     "evalue": "name 'MNAR' is not defined",
     "output_type": "error",
     "traceback": [
      "\u001b[0;31m---------------------------------------------------------------------------\u001b[0m",
      "\u001b[0;31mNameError\u001b[0m                                 Traceback (most recent call last)",
      "\u001b[0;32m<ipython-input-353-17e9c4dbc136>\u001b[0m in \u001b[0;36m<module>\u001b[0;34m\u001b[0m\n\u001b[0;32m----> 1\u001b[0;31m \u001b[0mmissing_not_at_random_report\u001b[0m\u001b[0;34m(\u001b[0m\u001b[0;34m)\u001b[0m\u001b[0;34m\u001b[0m\u001b[0;34m\u001b[0m\u001b[0m\n\u001b[0m",
      "\u001b[0;32m<ipython-input-352-73b2d076fc72>\u001b[0m in \u001b[0;36mmissing_not_at_random_report\u001b[0;34m()\u001b[0m\n\u001b[1;32m      1\u001b[0m \u001b[0;32mdef\u001b[0m \u001b[0mmissing_not_at_random_report\u001b[0m\u001b[0;34m(\u001b[0m\u001b[0;34m)\u001b[0m\u001b[0;34m:\u001b[0m\u001b[0;34m\u001b[0m\u001b[0;34m\u001b[0m\u001b[0m\n\u001b[1;32m      2\u001b[0m     \u001b[0mfeatures\u001b[0m \u001b[0;34m=\u001b[0m \u001b[0mlist\u001b[0m\u001b[0;34m(\u001b[0m\u001b[0mdata\u001b[0m\u001b[0;34m.\u001b[0m\u001b[0mcolumns\u001b[0m\u001b[0;34m)\u001b[0m\u001b[0;34m\u001b[0m\u001b[0;34m\u001b[0m\u001b[0m\n\u001b[0;32m----> 3\u001b[0;31m     \u001b[0mFile_Segment\u001b[0m \u001b[0;34m=\u001b[0m \u001b[0;34m[\u001b[0m\u001b[0mx\u001b[0m \u001b[0;32mfor\u001b[0m \u001b[0mx\u001b[0m \u001b[0;32min\u001b[0m \u001b[0mfeatures\u001b[0m \u001b[0;32mif\u001b[0m \u001b[0mx\u001b[0m \u001b[0;32mnot\u001b[0m \u001b[0;32min\u001b[0m \u001b[0mMNAR\u001b[0m\u001b[0;34m]\u001b[0m \u001b[0;31m#List Comprehensions are perfectly suited to making this sort of thing\u001b[0m\u001b[0;34m\u001b[0m\u001b[0;34m\u001b[0m\u001b[0m\n\u001b[0m\u001b[1;32m      4\u001b[0m     \u001b[0mprint\u001b[0m\u001b[0;34m(\u001b[0m\u001b[0;34m'Missing Not At Random Report - {} variables seem Missing Not at Random, there for we recomend: \\n'\u001b[0m\u001b[0;34m.\u001b[0m\u001b[0mformat\u001b[0m\u001b[0;34m(\u001b[0m\u001b[0mMNAR\u001b[0m\u001b[0;34m)\u001b[0m\u001b[0;34m)\u001b[0m\u001b[0;34m,\u001b[0m\u001b[0;34m\u001b[0m\u001b[0;34m\u001b[0m\u001b[0m\n\u001b[1;32m      5\u001b[0m     \u001b[0mprint\u001b[0m\u001b[0;34m(\u001b[0m\u001b[0;34m'Thin File Segment Variables: {}\\n'\u001b[0m\u001b[0;34m.\u001b[0m\u001b[0mformat\u001b[0m\u001b[0;34m(\u001b[0m\u001b[0mFile_Segment\u001b[0m\u001b[0;34m)\u001b[0m\u001b[0;34m)\u001b[0m\u001b[0;34m\u001b[0m\u001b[0;34m\u001b[0m\u001b[0m\n",
      "\u001b[0;32m<ipython-input-352-73b2d076fc72>\u001b[0m in \u001b[0;36m<listcomp>\u001b[0;34m(.0)\u001b[0m\n\u001b[1;32m      1\u001b[0m \u001b[0;32mdef\u001b[0m \u001b[0mmissing_not_at_random_report\u001b[0m\u001b[0;34m(\u001b[0m\u001b[0;34m)\u001b[0m\u001b[0;34m:\u001b[0m\u001b[0;34m\u001b[0m\u001b[0;34m\u001b[0m\u001b[0m\n\u001b[1;32m      2\u001b[0m     \u001b[0mfeatures\u001b[0m \u001b[0;34m=\u001b[0m \u001b[0mlist\u001b[0m\u001b[0;34m(\u001b[0m\u001b[0mdata\u001b[0m\u001b[0;34m.\u001b[0m\u001b[0mcolumns\u001b[0m\u001b[0;34m)\u001b[0m\u001b[0;34m\u001b[0m\u001b[0;34m\u001b[0m\u001b[0m\n\u001b[0;32m----> 3\u001b[0;31m     \u001b[0mFile_Segment\u001b[0m \u001b[0;34m=\u001b[0m \u001b[0;34m[\u001b[0m\u001b[0mx\u001b[0m \u001b[0;32mfor\u001b[0m \u001b[0mx\u001b[0m \u001b[0;32min\u001b[0m \u001b[0mfeatures\u001b[0m \u001b[0;32mif\u001b[0m \u001b[0mx\u001b[0m \u001b[0;32mnot\u001b[0m \u001b[0;32min\u001b[0m \u001b[0mMNAR\u001b[0m\u001b[0;34m]\u001b[0m \u001b[0;31m#List Comprehensions are perfectly suited to making this sort of thing\u001b[0m\u001b[0;34m\u001b[0m\u001b[0;34m\u001b[0m\u001b[0m\n\u001b[0m\u001b[1;32m      4\u001b[0m     \u001b[0mprint\u001b[0m\u001b[0;34m(\u001b[0m\u001b[0;34m'Missing Not At Random Report - {} variables seem Missing Not at Random, there for we recomend: \\n'\u001b[0m\u001b[0;34m.\u001b[0m\u001b[0mformat\u001b[0m\u001b[0;34m(\u001b[0m\u001b[0mMNAR\u001b[0m\u001b[0;34m)\u001b[0m\u001b[0;34m)\u001b[0m\u001b[0;34m,\u001b[0m\u001b[0;34m\u001b[0m\u001b[0;34m\u001b[0m\u001b[0m\n\u001b[1;32m      5\u001b[0m     \u001b[0mprint\u001b[0m\u001b[0;34m(\u001b[0m\u001b[0;34m'Thin File Segment Variables: {}\\n'\u001b[0m\u001b[0;34m.\u001b[0m\u001b[0mformat\u001b[0m\u001b[0;34m(\u001b[0m\u001b[0mFile_Segment\u001b[0m\u001b[0;34m)\u001b[0m\u001b[0;34m)\u001b[0m\u001b[0;34m\u001b[0m\u001b[0;34m\u001b[0m\u001b[0m\n",
      "\u001b[0;31mNameError\u001b[0m: name 'MNAR' is not defined"
     ]
    }
   ],
   "source": [
    "missing_not_at_random_report()"
   ]
  },
  {
   "cell_type": "code",
   "execution_count": null,
   "id": "7a563ac1",
   "metadata": {},
   "outputs": [],
   "source": [
    "MNAR"
   ]
  },
  {
   "cell_type": "markdown",
   "id": "1c500642",
   "metadata": {},
   "source": [
    "Conclusion: 'SEX','BIRTH_DATE' and 'PROFESSION' are hightly correlated. \n",
    "<br> <br>\n",
    "Assumption: Perhaps this observations are not coming from INDIVIDUALS but **CORPORATIONS** (MNAR).\n",
    "<br> <br>\n",
    "We should ask to the user whether or not we should the assumption is correct and if we should split the dataset (INDIVIDUALS and CORPORATIONS)."
   ]
  },
  {
   "cell_type": "code",
   "execution_count": null,
   "id": "af52e148",
   "metadata": {},
   "outputs": [],
   "source": [
    "Indi_Corp = str(input('(YES/NO Query)We´ve found that some Missing Not At Random data (MNAR) in our dataset. Our guess is that it could have the reason behind that the observations are from Corporations instead of Individuals, is this assumption correct?'))"
   ]
  },
  {
   "cell_type": "markdown",
   "id": "6f7af8e7",
   "metadata": {},
   "source": [
    "As the User has respond 'YES'. We do understand that our dataset is distributed between (2) kind of Customers, my suggestion would be in another project to deploy the following models depending on our data availability:\n",
    "<br>\n",
    "1. Model for Individuals without NaN\n",
    "2. Model for Individuals with NaN\n",
    "3. Model for Corporations without NaN\n",
    "4. Model for Corporations with NaN"
   ]
  },
  {
   "cell_type": "code",
   "execution_count": 354,
   "id": "0bd21c3d",
   "metadata": {},
   "outputs": [
    {
     "name": "stdout",
     "output_type": "stream",
     "text": [
      "REPORTING_DATE\n",
      "ACCOUNT_NUMBER\n",
      "CUSTOMER_ID\n",
      "PROGRAM_NAME\n",
      "LOAN_OPEN_DATE\n",
      "EXPECTED_CLOSE_DATE\n",
      "ORIGINAL_BOOKED_AMOUNT\n",
      "OUTSTANDING\n",
      "BUCKET\n",
      "CUSTOMER_OPEN_DATE\n"
     ]
    }
   ],
   "source": [
    "Thin_File_Segment_Variable = [] # Create an empty array\n",
    "for column_name in data.columns:\n",
    "    if ~data[column_name].isnull().any():\n",
    "        Thin_File_Segment_Variable.append(column_name)  # Include this feature in it\n",
    "        print(column_name)\n"
   ]
  },
  {
   "cell_type": "code",
   "execution_count": 355,
   "id": "2da529b3",
   "metadata": {},
   "outputs": [
    {
     "name": "stdout",
     "output_type": "stream",
     "text": [
      "REPORTING_DATE\n",
      "ACCOUNT_NUMBER\n",
      "CUSTOMER_ID\n",
      "PROGRAM_NAME\n",
      "LOAN_OPEN_DATE\n",
      "EXPECTED_CLOSE_DATE\n",
      "ORIGINAL_BOOKED_AMOUNT\n",
      "OUTSTANDING\n",
      "BUCKET\n",
      "SEX\n",
      "CUSTOMER_OPEN_DATE\n",
      "BIRTH_DATE\n",
      "PROFESSION\n",
      "CAR_TYPE\n"
     ]
    }
   ],
   "source": [
    "Full_File_Segment_Variable = []\n",
    "for column_name in data.columns:\n",
    "    Full_File_Segment_Variable.append(column_name)  # Include this feature in it\n",
    "    print(column_name)"
   ]
  },
  {
   "cell_type": "markdown",
   "id": "5a82cb63",
   "metadata": {},
   "source": [
    "**OBJECTIVE 1 DONE!!**"
   ]
  },
  {
   "cell_type": "markdown",
   "id": "96100395",
   "metadata": {},
   "source": [
    "# **DATA PREPARATION**"
   ]
  },
  {
   "cell_type": "code",
   "execution_count": 356,
   "id": "ad506594",
   "metadata": {
    "scrolled": true
   },
   "outputs": [],
   "source": [
    "Prep = Prep('BUCKET',data)"
   ]
  },
  {
   "cell_type": "markdown",
   "id": "b829f408",
   "metadata": {},
   "source": [
    "Dates can be difficult to process with ML models. Our intention is first to understand the features (with dType datetime64[ns]) and the correlation they have with the others... if we can do so, we will be able to obtain an integer (much more interesting). "
   ]
  },
  {
   "cell_type": "code",
   "execution_count": 357,
   "id": "c5d479d6",
   "metadata": {},
   "outputs": [
    {
     "data": {
      "text/plain": [
       "['REPORTING_DATE',\n",
       " 'LOAN_OPEN_DATE',\n",
       " 'EXPECTED_CLOSE_DATE',\n",
       " 'CUSTOMER_OPEN_DATE',\n",
       " 'BIRTH_DATE']"
      ]
     },
     "execution_count": 357,
     "metadata": {},
     "output_type": "execute_result"
    }
   ],
   "source": [
    "data_dates = list(data.select_dtypes(include=['datetime64[ns]']))\n",
    "data_dates"
   ]
  },
  {
   "cell_type": "code",
   "execution_count": 358,
   "id": "bba2ec4b",
   "metadata": {},
   "outputs": [],
   "source": [
    "data['DAYS_LOAN_DURATION']=(data['EXPECTED_CLOSE_DATE'] - data['LOAN_OPEN_DATE']).dt.days\n",
    "data['DAYS_CUSTOMER_LIFETIME']=(np.datetime64('today') - data['BIRTH_DATE']).dt.days\n",
    "data['DAYS_CUSTOMER_RELATION']=(np.datetime64('today') - data['CUSTOMER_OPEN_DATE']).dt.days\n",
    "data['DAYS_AFTER_THE_REPORT']=(np.datetime64('today') - data['REPORTING_DATE']).dt.days"
   ]
  },
  {
   "cell_type": "markdown",
   "id": "5ebc7c2e",
   "metadata": {},
   "source": [
    "Assumption: REPORTING_DATE feature, defined as \"Last working day in month\", doesn´t describe clearly the intention of the date... We assume that the meaning is that the information provided in the observation is frozen from that date. Next step, reach the user to confirm or reject our hypothesis."
   ]
  },
  {
   "cell_type": "code",
   "execution_count": 359,
   "id": "102b7e8e",
   "metadata": {},
   "outputs": [
    {
     "data": {
      "text/plain": [
       "PROGRAM_NAME\n",
       "Auto Loans 50% Down Payment - Self Employed                       14386\n",
       "Auto Loans 50% Down Payment - Employed                            14230\n",
       "Auto Loans 30% Down Payment - Employed                             9406\n",
       "Auto Loans 40% Down Payment - Employed                             7533\n",
       "Auto Loans 40% Down Payment - Self Employed                        5325\n",
       "Auto Loans 30% Down Payment - Self Employed                        3331\n",
       "Pick Up and Small Trucks                                           1488\n",
       "Auto Loans Special Deals                                            953\n",
       "Auto Loans Payroll Clients                                          729\n",
       "Auto Loans 20% Down Payment - Employed                              606\n",
       "Auto Loans Corporate Guarantee                                      463\n",
       "Auto Loans 20% Down Payment - Self Employed                         294\n",
       "Auto Loans Doctors - Employed                                       144\n",
       "Auto Loans 50% Down Payment No Car Prohibition - Employed           107\n",
       "Auto Loans 50% Down Payment No Car Prohibition - Self Employed      107\n",
       "Auto Loans Fully Secured                                             80\n",
       "Auto Loans Secured against CD                                        75\n",
       "Auto Loans Run Off - Self Employed                                   23\n",
       "Auto Loans Doctors - Self Employed                                   21\n",
       "Auto Loans 50% Down Payment Used Cars - Employed                     16\n",
       "Auto Loans Run Off - Employed                                        11\n",
       "Auto Loans 50% Down Payment Used Cars - Self Employed                 5\n",
       "Auto Loans 30% Down Payment Used Cars - Self Employed                 4\n",
       "Auto Loans 30% Down Payment Used Cars - Employed                      3\n",
       "dtype: int64"
      ]
     },
     "execution_count": 359,
     "metadata": {},
     "output_type": "execute_result"
    }
   ],
   "source": [
    "data.value_counts('PROGRAM_NAME')"
   ]
  },
  {
   "cell_type": "markdown",
   "id": "f0fcfd2d",
   "metadata": {},
   "source": [
    "Digging into the information in the \"PROGRAM_NAME\" variable, here we can breakdown it into an interesting and readable structure:<br>\n",
    "    - TYPE_OF_CAR <br>\n",
    "    - PERCENTAGE_OF_DOWN_PAYMENT<br>\n",
    "    - EMPLOYED/SELF-EMPLOYED<br>\n",
    "    - SPECIAL_CONDITIONS<br>"
   ]
  },
  {
   "cell_type": "code",
   "execution_count": 360,
   "id": "7c9181cc",
   "metadata": {
    "scrolled": true
   },
   "outputs": [],
   "source": [
    "data['TYPE_OF_CAR'] = data['PROGRAM_NAME'].str.extract('(Auto|Pick Up and Small Trucks)', expand = True)\n",
    "data['PERCENTAGE_OF_DOWN_PAYMENT'] = data['PROGRAM_NAME'].str.extract('(\\d\\d)', expand = True)\n",
    "data['EMPLOYED/SELF_EMPLOYED'] = data['PROGRAM_NAME'].str.extract('(Employed|Self Employed)', expand = True)\n",
    "data['SPECIAL_CONDITIONS'] = data['PROGRAM_NAME'].str.extract('(Payroll Clients|Special Deals|Run Off|Corporate Guarantee|Doctors|Secured against CD|Used Cars|Fully Secured|No Car Prohibition)', expand = True)"
   ]
  },
  {
   "cell_type": "code",
   "execution_count": 361,
   "id": "1ee8919d",
   "metadata": {},
   "outputs": [],
   "source": [
    "#We want it as a numeric not str.\n",
    "data['PERCENTAGE_OF_DOWN_PAYMENT'] =pd.to_numeric(data['PERCENTAGE_OF_DOWN_PAYMENT'])"
   ]
  },
  {
   "cell_type": "code",
   "execution_count": 362,
   "id": "f51729f6",
   "metadata": {
    "scrolled": true
   },
   "outputs": [
    {
     "name": "stdout",
     "output_type": "stream",
     "text": [
      "<class 'pandas.core.frame.DataFrame'>\n",
      "Int64Index: 59340 entries, 143 to 900859\n",
      "Data columns (total 22 columns):\n",
      " #   Column                      Non-Null Count  Dtype         \n",
      "---  ------                      --------------  -----         \n",
      " 0   REPORTING_DATE              59340 non-null  datetime64[ns]\n",
      " 1   ACCOUNT_NUMBER              59340 non-null  int64         \n",
      " 2   CUSTOMER_ID                 59340 non-null  int64         \n",
      " 3   PROGRAM_NAME                59340 non-null  object        \n",
      " 4   LOAN_OPEN_DATE              59340 non-null  datetime64[ns]\n",
      " 5   EXPECTED_CLOSE_DATE         59340 non-null  datetime64[ns]\n",
      " 6   ORIGINAL_BOOKED_AMOUNT      59340 non-null  float64       \n",
      " 7   OUTSTANDING                 59340 non-null  float64       \n",
      " 8   BUCKET                      59340 non-null  int64         \n",
      " 9   SEX                         58878 non-null  object        \n",
      " 10  CUSTOMER_OPEN_DATE          59340 non-null  datetime64[ns]\n",
      " 11  BIRTH_DATE                  58877 non-null  datetime64[ns]\n",
      " 12  PROFESSION                  58822 non-null  object        \n",
      " 13  CAR_TYPE                    56399 non-null  object        \n",
      " 14  DAYS_LOAN_DURATION          59340 non-null  int64         \n",
      " 15  DAYS_CUSTOMER_LIFETIME      58877 non-null  float64       \n",
      " 16  DAYS_CUSTOMER_RELATION      59340 non-null  int64         \n",
      " 17  DAYS_AFTER_THE_REPORT       59340 non-null  int64         \n",
      " 18  TYPE_OF_CAR                 59340 non-null  object        \n",
      " 19  PERCENTAGE_OF_DOWN_PAYMENT  55353 non-null  float64       \n",
      " 20  EMPLOYED/SELF_EMPLOYED      55552 non-null  object        \n",
      " 21  SPECIAL_CONDITIONS          2741 non-null   object        \n",
      "dtypes: datetime64[ns](5), float64(4), int64(6), object(7)\n",
      "memory usage: 12.4+ MB\n"
     ]
    }
   ],
   "source": [
    "data.info()"
   ]
  },
  {
   "cell_type": "code",
   "execution_count": 363,
   "id": "275b52f5",
   "metadata": {
    "scrolled": true
   },
   "outputs": [],
   "source": [
    "#Drop \"SPECIAL_CONDITIONS\" --> High number of missing values, inputting values can create inconsistent model.\n",
    "#Drop date type columns --> Transformed into numerical type\n",
    "data.drop(['SPECIAL_CONDITIONS'],axis = 1, inplace = True) \n",
    "data.drop(columns = ['PROGRAM_NAME','REPORTING_DATE','BIRTH_DATE', 'LOAN_OPEN_DATE','EXPECTED_CLOSE_DATE', 'CUSTOMER_OPEN_DATE'], inplace = True)"
   ]
  },
  {
   "cell_type": "code",
   "execution_count": 364,
   "id": "851b9a93",
   "metadata": {},
   "outputs": [
    {
     "name": "stdout",
     "output_type": "stream",
     "text": [
      "<class 'pandas.core.frame.DataFrame'>\n",
      "Int64Index: 59340 entries, 143 to 900859\n",
      "Data columns (total 15 columns):\n",
      " #   Column                      Non-Null Count  Dtype  \n",
      "---  ------                      --------------  -----  \n",
      " 0   ACCOUNT_NUMBER              59340 non-null  int64  \n",
      " 1   CUSTOMER_ID                 59340 non-null  int64  \n",
      " 2   ORIGINAL_BOOKED_AMOUNT      59340 non-null  float64\n",
      " 3   OUTSTANDING                 59340 non-null  float64\n",
      " 4   BUCKET                      59340 non-null  int64  \n",
      " 5   SEX                         58878 non-null  object \n",
      " 6   PROFESSION                  58822 non-null  object \n",
      " 7   CAR_TYPE                    56399 non-null  object \n",
      " 8   DAYS_LOAN_DURATION          59340 non-null  int64  \n",
      " 9   DAYS_CUSTOMER_LIFETIME      58877 non-null  float64\n",
      " 10  DAYS_CUSTOMER_RELATION      59340 non-null  int64  \n",
      " 11  DAYS_AFTER_THE_REPORT       59340 non-null  int64  \n",
      " 12  TYPE_OF_CAR                 59340 non-null  object \n",
      " 13  PERCENTAGE_OF_DOWN_PAYMENT  55353 non-null  float64\n",
      " 14  EMPLOYED/SELF_EMPLOYED      55552 non-null  object \n",
      "dtypes: float64(4), int64(6), object(5)\n",
      "memory usage: 9.3+ MB\n"
     ]
    }
   ],
   "source": [
    "data.info()"
   ]
  },
  {
   "cell_type": "markdown",
   "id": "ec6f2942",
   "metadata": {},
   "source": [
    "**INPUT MISSING VALUES**<br>\n",
    "Decided to fulfill missing values with imputers"
   ]
  },
  {
   "cell_type": "code",
   "execution_count": 365,
   "id": "52b2cbac",
   "metadata": {
    "scrolled": true
   },
   "outputs": [
    {
     "data": {
      "text/plain": [
       "{'ACCOUNT_NUMBER',\n",
       " 'CUSTOMER_ID',\n",
       " 'DAYS_AFTER_THE_REPORT',\n",
       " 'DAYS_CUSTOMER_LIFETIME',\n",
       " 'DAYS_CUSTOMER_RELATION',\n",
       " 'DAYS_LOAN_DURATION',\n",
       " 'ORIGINAL_BOOKED_AMOUNT',\n",
       " 'OUTSTANDING',\n",
       " 'PERCENTAGE_OF_DOWN_PAYMENT'}"
      ]
     },
     "execution_count": 365,
     "metadata": {},
     "output_type": "execute_result"
    }
   ],
   "source": [
    "numerical_features = Prep.numerical_features()\n",
    "Prep.numerical_features()"
   ]
  },
  {
   "cell_type": "code",
   "execution_count": 366,
   "id": "1080ff11",
   "metadata": {},
   "outputs": [
    {
     "data": {
      "text/plain": [
       "{'CAR_TYPE', 'EMPLOYED/SELF_EMPLOYED', 'PROFESSION', 'SEX', 'TYPE_OF_CAR'}"
      ]
     },
     "execution_count": 366,
     "metadata": {},
     "output_type": "execute_result"
    }
   ],
   "source": [
    "categorical_features = Prep.categorical_features()\n",
    "Prep.categorical_features()"
   ]
  },
  {
   "cell_type": "code",
   "execution_count": 367,
   "id": "90c401da",
   "metadata": {
    "scrolled": true
   },
   "outputs": [
    {
     "data": {
      "text/plain": [
       "['SEX',\n",
       " 'PROFESSION',\n",
       " 'CAR_TYPE',\n",
       " 'DAYS_CUSTOMER_LIFETIME',\n",
       " 'PERCENTAGE_OF_DOWN_PAYMENT',\n",
       " 'EMPLOYED/SELF_EMPLOYED']"
      ]
     },
     "execution_count": 367,
     "metadata": {},
     "output_type": "execute_result"
    }
   ],
   "source": [
    "incomplete_features = Prep.incomplete_features()\n",
    "Prep.incomplete_features()"
   ]
  },
  {
   "cell_type": "code",
   "execution_count": 368,
   "id": "763fb002",
   "metadata": {
    "scrolled": true
   },
   "outputs": [
    {
     "data": {
      "text/plain": [
       "{'DAYS_CUSTOMER_LIFETIME', 'PERCENTAGE_OF_DOWN_PAYMENT'}"
      ]
     },
     "execution_count": 368,
     "metadata": {},
     "output_type": "execute_result"
    }
   ],
   "source": [
    "numerical_features_na = Prep.numerical_features_na()\n",
    "Prep.numerical_features_na()"
   ]
  },
  {
   "cell_type": "code",
   "execution_count": 369,
   "id": "cb97fe43",
   "metadata": {},
   "outputs": [
    {
     "data": {
      "text/plain": [
       "{'CAR_TYPE', 'EMPLOYED/SELF_EMPLOYED', 'PROFESSION', 'SEX'}"
      ]
     },
     "execution_count": 369,
     "metadata": {},
     "output_type": "execute_result"
    }
   ],
   "source": [
    "categorical_features_na = Prep.categorical_features_na()\n",
    "Prep.categorical_features_na()"
   ]
  },
  {
   "cell_type": "code",
   "execution_count": 370,
   "id": "b0d6cf9a",
   "metadata": {
    "scrolled": false
   },
   "outputs": [
    {
     "data": {
      "text/plain": [
       "['SEX', 'PROFESSION', 'CAR_TYPE', 'EMPLOYED/SELF_EMPLOYED']"
      ]
     },
     "execution_count": 370,
     "metadata": {},
     "output_type": "execute_result"
    }
   ],
   "source": [
    "#We can also apply this function to find the categorical features with missing data\n",
    "missing_categorical =[var for var in data.columns if data [var].isnull().mean()>0 and data[var].dtypes=='O']\n",
    "missing_categorical"
   ]
  },
  {
   "cell_type": "code",
   "execution_count": 371,
   "id": "b8d88d4f",
   "metadata": {},
   "outputs": [
    {
     "data": {
      "text/html": [
       "<div>\n",
       "<style scoped>\n",
       "    .dataframe tbody tr th:only-of-type {\n",
       "        vertical-align: middle;\n",
       "    }\n",
       "\n",
       "    .dataframe tbody tr th {\n",
       "        vertical-align: top;\n",
       "    }\n",
       "\n",
       "    .dataframe thead th {\n",
       "        text-align: right;\n",
       "    }\n",
       "</style>\n",
       "<table border=\"1\" class=\"dataframe\">\n",
       "  <thead>\n",
       "    <tr style=\"text-align: right;\">\n",
       "      <th></th>\n",
       "      <th>PERCENTAGE_OF_DOWN_PAYMENT</th>\n",
       "      <th>DAYS_CUSTOMER_LIFETIME</th>\n",
       "    </tr>\n",
       "  </thead>\n",
       "  <tbody>\n",
       "    <tr>\n",
       "      <th>0</th>\n",
       "      <td>50.0</td>\n",
       "      <td>14317.0</td>\n",
       "    </tr>\n",
       "    <tr>\n",
       "      <th>1</th>\n",
       "      <td>50.0</td>\n",
       "      <td>13519.0</td>\n",
       "    </tr>\n",
       "    <tr>\n",
       "      <th>2</th>\n",
       "      <td>50.0</td>\n",
       "      <td>16271.0</td>\n",
       "    </tr>\n",
       "    <tr>\n",
       "      <th>3</th>\n",
       "      <td>50.0</td>\n",
       "      <td>14886.0</td>\n",
       "    </tr>\n",
       "    <tr>\n",
       "      <th>4</th>\n",
       "      <td>50.0</td>\n",
       "      <td>21991.0</td>\n",
       "    </tr>\n",
       "    <tr>\n",
       "      <th>...</th>\n",
       "      <td>...</td>\n",
       "      <td>...</td>\n",
       "    </tr>\n",
       "    <tr>\n",
       "      <th>59335</th>\n",
       "      <td>50.0</td>\n",
       "      <td>10180.0</td>\n",
       "    </tr>\n",
       "    <tr>\n",
       "      <th>59336</th>\n",
       "      <td>50.0</td>\n",
       "      <td>16073.0</td>\n",
       "    </tr>\n",
       "    <tr>\n",
       "      <th>59337</th>\n",
       "      <td>42.0</td>\n",
       "      <td>15217.0</td>\n",
       "    </tr>\n",
       "    <tr>\n",
       "      <th>59338</th>\n",
       "      <td>40.0</td>\n",
       "      <td>12936.0</td>\n",
       "    </tr>\n",
       "    <tr>\n",
       "      <th>59339</th>\n",
       "      <td>40.0</td>\n",
       "      <td>12873.0</td>\n",
       "    </tr>\n",
       "  </tbody>\n",
       "</table>\n",
       "<p>59340 rows × 2 columns</p>\n",
       "</div>"
      ],
      "text/plain": [
       "       PERCENTAGE_OF_DOWN_PAYMENT  DAYS_CUSTOMER_LIFETIME\n",
       "0                            50.0                 14317.0\n",
       "1                            50.0                 13519.0\n",
       "2                            50.0                 16271.0\n",
       "3                            50.0                 14886.0\n",
       "4                            50.0                 21991.0\n",
       "...                           ...                     ...\n",
       "59335                        50.0                 10180.0\n",
       "59336                        50.0                 16073.0\n",
       "59337                        42.0                 15217.0\n",
       "59338                        40.0                 12936.0\n",
       "59339                        40.0                 12873.0\n",
       "\n",
       "[59340 rows x 2 columns]"
      ]
     },
     "execution_count": 371,
     "metadata": {},
     "output_type": "execute_result"
    }
   ],
   "source": [
    "#KNN Imputer - NUMERICAL\n",
    "Prep.num_imputer()"
   ]
  },
  {
   "cell_type": "code",
   "execution_count": 372,
   "id": "1330b492",
   "metadata": {},
   "outputs": [
    {
     "data": {
      "text/html": [
       "<div>\n",
       "<style scoped>\n",
       "    .dataframe tbody tr th:only-of-type {\n",
       "        vertical-align: middle;\n",
       "    }\n",
       "\n",
       "    .dataframe tbody tr th {\n",
       "        vertical-align: top;\n",
       "    }\n",
       "\n",
       "    .dataframe thead th {\n",
       "        text-align: right;\n",
       "    }\n",
       "</style>\n",
       "<table border=\"1\" class=\"dataframe\">\n",
       "  <thead>\n",
       "    <tr style=\"text-align: right;\">\n",
       "      <th></th>\n",
       "      <th>CAR_TYPE</th>\n",
       "      <th>EMPLOYED/SELF_EMPLOYED</th>\n",
       "      <th>SEX</th>\n",
       "      <th>PROFESSION</th>\n",
       "    </tr>\n",
       "  </thead>\n",
       "  <tbody>\n",
       "    <tr>\n",
       "      <th>0</th>\n",
       "      <td>HYUNDAI</td>\n",
       "      <td>Self Employed</td>\n",
       "      <td>M</td>\n",
       "      <td>Contractor</td>\n",
       "    </tr>\n",
       "    <tr>\n",
       "      <th>1</th>\n",
       "      <td>HYUNDAI</td>\n",
       "      <td>Self Employed</td>\n",
       "      <td>F</td>\n",
       "      <td>Business Man / Trader</td>\n",
       "    </tr>\n",
       "    <tr>\n",
       "      <th>2</th>\n",
       "      <td>HYUNDAI</td>\n",
       "      <td>Self Employed</td>\n",
       "      <td>M</td>\n",
       "      <td>Shop Owner</td>\n",
       "    </tr>\n",
       "    <tr>\n",
       "      <th>3</th>\n",
       "      <td>HYUNDAI</td>\n",
       "      <td>Self Employed</td>\n",
       "      <td>M</td>\n",
       "      <td>Company Owner</td>\n",
       "    </tr>\n",
       "    <tr>\n",
       "      <th>4</th>\n",
       "      <td>Chana</td>\n",
       "      <td>Self Employed</td>\n",
       "      <td>M</td>\n",
       "      <td>Company Owner</td>\n",
       "    </tr>\n",
       "    <tr>\n",
       "      <th>...</th>\n",
       "      <td>...</td>\n",
       "      <td>...</td>\n",
       "      <td>...</td>\n",
       "      <td>...</td>\n",
       "    </tr>\n",
       "    <tr>\n",
       "      <th>59335</th>\n",
       "      <td>Gelory</td>\n",
       "      <td>Employed</td>\n",
       "      <td>M</td>\n",
       "      <td>EMPLOYEE</td>\n",
       "    </tr>\n",
       "    <tr>\n",
       "      <th>59336</th>\n",
       "      <td>Gelory</td>\n",
       "      <td>Employed</td>\n",
       "      <td>F</td>\n",
       "      <td>Manager</td>\n",
       "    </tr>\n",
       "    <tr>\n",
       "      <th>59337</th>\n",
       "      <td>NISSAN</td>\n",
       "      <td>Employed</td>\n",
       "      <td>M</td>\n",
       "      <td>Company Owner</td>\n",
       "    </tr>\n",
       "    <tr>\n",
       "      <th>59338</th>\n",
       "      <td>DFSK</td>\n",
       "      <td>Employed</td>\n",
       "      <td>M</td>\n",
       "      <td>Company Owner</td>\n",
       "    </tr>\n",
       "    <tr>\n",
       "      <th>59339</th>\n",
       "      <td>KIA</td>\n",
       "      <td>Employed</td>\n",
       "      <td>M</td>\n",
       "      <td>ENGINEER</td>\n",
       "    </tr>\n",
       "  </tbody>\n",
       "</table>\n",
       "<p>59340 rows × 4 columns</p>\n",
       "</div>"
      ],
      "text/plain": [
       "      CAR_TYPE EMPLOYED/SELF_EMPLOYED SEX             PROFESSION\n",
       "0      HYUNDAI          Self Employed   M             Contractor\n",
       "1      HYUNDAI          Self Employed   F  Business Man / Trader\n",
       "2      HYUNDAI          Self Employed   M             Shop Owner\n",
       "3      HYUNDAI          Self Employed   M          Company Owner\n",
       "4        Chana          Self Employed   M          Company Owner\n",
       "...        ...                    ...  ..                    ...\n",
       "59335   Gelory               Employed   M               EMPLOYEE\n",
       "59336   Gelory               Employed   F                Manager\n",
       "59337   NISSAN               Employed   M          Company Owner\n",
       "59338     DFSK               Employed   M          Company Owner\n",
       "59339      KIA               Employed   M               ENGINEER\n",
       "\n",
       "[59340 rows x 4 columns]"
      ]
     },
     "execution_count": 372,
     "metadata": {},
     "output_type": "execute_result"
    }
   ],
   "source": [
    "#Simple Imputer - CATEGORICAL\n",
    "Prep.cat_imputer()"
   ]
  },
  {
   "cell_type": "code",
   "execution_count": 373,
   "id": "75e835a6",
   "metadata": {},
   "outputs": [],
   "source": [
    "data = Prep.cat_num_imputer_concat()"
   ]
  },
  {
   "cell_type": "markdown",
   "id": "8672a0d8",
   "metadata": {},
   "source": [
    "Finally, the result of imputing both: numerical and categorical, is now merged together in a single DataFrame, together with the target variable which has not been processed."
   ]
  },
  {
   "cell_type": "code",
   "execution_count": 374,
   "id": "5e202951",
   "metadata": {
    "scrolled": true
   },
   "outputs": [
    {
     "name": "stdout",
     "output_type": "stream",
     "text": [
      "<class 'pandas.core.frame.DataFrame'>\n",
      "RangeIndex: 59340 entries, 0 to 59339\n",
      "Data columns (total 15 columns):\n",
      " #   Column                      Non-Null Count  Dtype  \n",
      "---  ------                      --------------  -----  \n",
      " 0   PERCENTAGE_OF_DOWN_PAYMENT  59340 non-null  float64\n",
      " 1   DAYS_CUSTOMER_LIFETIME      59340 non-null  float64\n",
      " 2   ACCOUNT_NUMBER              59340 non-null  int64  \n",
      " 3   ORIGINAL_BOOKED_AMOUNT      59340 non-null  float64\n",
      " 4   DAYS_LOAN_DURATION          59340 non-null  int64  \n",
      " 5   CUSTOMER_ID                 59340 non-null  int64  \n",
      " 6   OUTSTANDING                 59340 non-null  float64\n",
      " 7   DAYS_CUSTOMER_RELATION      59340 non-null  int64  \n",
      " 8   DAYS_AFTER_THE_REPORT       59340 non-null  int64  \n",
      " 9   CAR_TYPE                    59340 non-null  object \n",
      " 10  EMPLOYED/SELF_EMPLOYED      59340 non-null  object \n",
      " 11  SEX                         59340 non-null  object \n",
      " 12  PROFESSION                  59340 non-null  object \n",
      " 13  TYPE_OF_CAR                 59340 non-null  object \n",
      " 14  BUCKET                      59340 non-null  int64  \n",
      "dtypes: float64(4), int64(6), object(5)\n",
      "memory usage: 6.8+ MB\n"
     ]
    }
   ],
   "source": [
    "data.info()"
   ]
  },
  {
   "cell_type": "markdown",
   "id": "fe1b41f3",
   "metadata": {},
   "source": [
    "Check that the missing values are not anymore missing but imputed."
   ]
  },
  {
   "cell_type": "code",
   "execution_count": 375,
   "id": "2d1fe336",
   "metadata": {},
   "outputs": [
    {
     "name": "stdout",
     "output_type": "stream",
     "text": [
      "Series([], dtype: int64)\n"
     ]
    }
   ],
   "source": [
    "missing_values = data.isnull().sum()\n",
    "print(missing_values[missing_values > 0])"
   ]
  },
  {
   "cell_type": "code",
   "execution_count": 376,
   "id": "e1d8b761",
   "metadata": {},
   "outputs": [
    {
     "name": "stdout",
     "output_type": "stream",
     "text": [
      "<class 'pandas.core.frame.DataFrame'>\n",
      "RangeIndex: 59340 entries, 0 to 59339\n",
      "Data columns (total 15 columns):\n",
      " #   Column                      Non-Null Count  Dtype  \n",
      "---  ------                      --------------  -----  \n",
      " 0   PERCENTAGE_OF_DOWN_PAYMENT  59340 non-null  float64\n",
      " 1   DAYS_CUSTOMER_LIFETIME      59340 non-null  float64\n",
      " 2   ACCOUNT_NUMBER              59340 non-null  int64  \n",
      " 3   ORIGINAL_BOOKED_AMOUNT      59340 non-null  float64\n",
      " 4   DAYS_LOAN_DURATION          59340 non-null  int64  \n",
      " 5   CUSTOMER_ID                 59340 non-null  int64  \n",
      " 6   OUTSTANDING                 59340 non-null  float64\n",
      " 7   DAYS_CUSTOMER_RELATION      59340 non-null  int64  \n",
      " 8   DAYS_AFTER_THE_REPORT       59340 non-null  int64  \n",
      " 9   CAR_TYPE                    59340 non-null  object \n",
      " 10  EMPLOYED/SELF_EMPLOYED      59340 non-null  object \n",
      " 11  SEX                         59340 non-null  object \n",
      " 12  PROFESSION                  59340 non-null  object \n",
      " 13  TYPE_OF_CAR                 59340 non-null  object \n",
      " 14  BUCKET                      59340 non-null  int64  \n",
      "dtypes: float64(4), int64(6), object(5)\n",
      "memory usage: 6.8+ MB\n"
     ]
    }
   ],
   "source": [
    "data.info()"
   ]
  },
  {
   "cell_type": "markdown",
   "id": "d216f6fd",
   "metadata": {},
   "source": [
    "# MODEL"
   ]
  },
  {
   "cell_type": "markdown",
   "id": "2f40e8a6",
   "metadata": {},
   "source": [
    "**OBJECTIVE 2** - Identify potential Segments --> Based on Level of Risk"
   ]
  },
  {
   "cell_type": "code",
   "execution_count": 409,
   "id": "525d92f3",
   "metadata": {},
   "outputs": [
    {
     "name": "stdout",
     "output_type": "stream",
     "text": [
      "['HYUNDAI' 'CHEVROLET' 'LADA' 'NISSAN' 'KIA' 'MITSUBISHI' 'RENAULT'\n",
      " 'TOYOTA' 'JEEP' 'Gelory' 'FORD' 'DAIHATSU' 'Citroen' 'BMW' 'OPEL' 'BYD'\n",
      " 'VOLKSWAGEN' 'SEAT' 'FIAT' 'PROTON' 'Peugeot' 'Jack' 'Changan' 'MERCEDES'\n",
      " 'CHERY' 'MAZDA' 'SUBARU' 'BAIC' 'Isuzu' 'VOLVO' 'CARRY' 'HONDA'\n",
      " 'Ssang Yong' 'MG' 'HAIMA' 'CHANGY' 'Faw' 'Zoty' 'DFSK' 'HAWTAI' 'FLORIDA'\n",
      " 'VICTORY']\n",
      "['Chana' 'Speranza' 'GELY' 'Brilliance' 'SUZUKI' 'SKODA' 'Saipa' 'Livan'\n",
      " 'Great Wall' 'Kenbo' 'Mahindra' 'AUDI' 'MABLE' 'ZEMEX' 'MINI' 'SAWEAST'\n",
      " 'Dodge' 'JAGUAR']\n",
      "['Employed']\n",
      "['Self Employed']\n",
      "['Company Owner' 'EMPLOYEE' 'Manager' 'ENGINEER' 'DOCTOR'\n",
      " 'Instructor / Teacher' 'TOUR LEADER' 'RELIGION PERSON'\n",
      " 'Accountant - Employee' 'RETIRED' 'PROFESSORS' 'SECRETARY' 'PHARMACIST'\n",
      " 'Hostess' 'Bazaar Shop Owner' 'BANKER' 'Car / Boat Agency / Deale'\n",
      " 'CAE - Current Staff' 'Craftsman' 'CHEMIST' 'Pilot' 'Consultant'\n",
      " 'Police Officer' 'Politician' 'CAE Ex-Staff Less Than 10' 'PUBLISHER']\n",
      "['Contractor' 'Business Man / Trader' 'Shop Owner' 'HOUSEWIFE' 'Landlord'\n",
      " 'NURSE' 'ARTIST' 'JEWELLER' 'Real Estate Broker / Agen' 'Journalist'\n",
      " 'Unemployed' 'Broadcast / Media' 'PRESS' 'TECHNICIAN' 'DRIVER' 'Athletes'\n",
      " 'Lawyer ? Employee' 'AGRARIAN' 'STUDENT' 'Lawyer ? Self Employer' 'DIVER'\n",
      " 'Hotel Manager' 'Military Officer' 'CAE IBS Staff' 'ECONOMIST']\n",
      "['M']\n",
      "['F']\n",
      "['Pick Up and Small Trucks']\n",
      "['Auto']\n"
     ]
    }
   ],
   "source": [
    "#Attempt to get the CATEGORICAL variables Splitted through decision tree model and mean_encoding with the target variable\n",
    "for column in data [categorical_features]:\n",
    "    new = data[[column,target]].copy()\n",
    "    mean_encoded_subject = new.groupby([column])[target].mean().to_dict()\n",
    "    new['SubjectName'] =  new[column].map(mean_encoded_subject)\n",
    "    X = new['SubjectName']\n",
    "    Y = new[target]\n",
    "    X_train, X_test, Y_train, Y_test = train_test_split(X, Y, test_size=0.3, random_state=1) \n",
    "    X_train= X_train.values.reshape(-1, 1)\n",
    "    Y_train= Y_train.values.reshape(-1, 1)\n",
    "    X_test = X_test.values.reshape(-1, 1)\n",
    "    clf = DecisionTreeClassifier(max_depth=1)\n",
    "    clf.fit(X_train, Y_train)\n",
    "    threshold = clf.tree_.threshold\n",
    "    group1 = new.loc[new['SubjectName']<=threshold[0],column].unique()\n",
    "    print(group1)\n",
    "    group2 = new.loc[new['SubjectName']>threshold[0],column].unique()\n",
    "    print(group2)"
   ]
  },
  {
   "cell_type": "code",
   "execution_count": 378,
   "id": "39c6741a",
   "metadata": {},
   "outputs": [
    {
     "name": "stdout",
     "output_type": "stream",
     "text": [
      "<class 'pandas.core.frame.DataFrame'>\n",
      "RangeIndex: 59340 entries, 0 to 59339\n",
      "Data columns (total 15 columns):\n",
      " #   Column                      Non-Null Count  Dtype  \n",
      "---  ------                      --------------  -----  \n",
      " 0   PERCENTAGE_OF_DOWN_PAYMENT  59340 non-null  float64\n",
      " 1   DAYS_CUSTOMER_LIFETIME      59340 non-null  float64\n",
      " 2   ACCOUNT_NUMBER              59340 non-null  int64  \n",
      " 3   ORIGINAL_BOOKED_AMOUNT      59340 non-null  float64\n",
      " 4   DAYS_LOAN_DURATION          59340 non-null  int64  \n",
      " 5   CUSTOMER_ID                 59340 non-null  int64  \n",
      " 6   OUTSTANDING                 59340 non-null  float64\n",
      " 7   DAYS_CUSTOMER_RELATION      59340 non-null  int64  \n",
      " 8   DAYS_AFTER_THE_REPORT       59340 non-null  int64  \n",
      " 9   CAR_TYPE                    59340 non-null  object \n",
      " 10  EMPLOYED/SELF_EMPLOYED      59340 non-null  object \n",
      " 11  SEX                         59340 non-null  object \n",
      " 12  PROFESSION                  59340 non-null  object \n",
      " 13  TYPE_OF_CAR                 59340 non-null  object \n",
      " 14  BUCKET                      59340 non-null  int64  \n",
      "dtypes: float64(4), int64(6), object(5)\n",
      "memory usage: 6.8+ MB\n"
     ]
    }
   ],
   "source": [
    "data.info()"
   ]
  },
  {
   "cell_type": "code",
   "execution_count": 379,
   "id": "f15307ed",
   "metadata": {},
   "outputs": [],
   "source": [
    "#from category_encoders import TargetEncoder"
   ]
  },
  {
   "cell_type": "code",
   "execution_count": 380,
   "id": "bc15b9c8",
   "metadata": {},
   "outputs": [],
   "source": [
    "#categorical_features = set(data.select_dtypes(exclude=['number'])) - set([target])\n",
    "#df['Animal Encoded'] = encoder.fit_transform(df[categorical_features], df['Target'])"
   ]
  },
  {
   "cell_type": "code",
   "execution_count": 381,
   "id": "cd19df17",
   "metadata": {},
   "outputs": [
    {
     "data": {
      "text/plain": [
       "TYPE_OF_CAR\n",
       "Auto                        57852\n",
       "Pick Up and Small Trucks     1488\n",
       "dtype: int64"
      ]
     },
     "execution_count": 381,
     "metadata": {},
     "output_type": "execute_result"
    }
   ],
   "source": [
    "data.value_counts('TYPE_OF_CAR')"
   ]
  },
  {
   "cell_type": "code",
   "execution_count": 411,
   "id": "3391c555",
   "metadata": {},
   "outputs": [],
   "source": [
    "def find_segment_split(candidate,target,input_vars = []):\n",
    "    \n",
    "    #Create a list with candidate,target and input_vars\n",
    "    input_vars.append(candidate)\n",
    "    input_vars.append(target)\n",
    "    lista = input_vars\n",
    "    \n",
    "    #Isolate the varibles of the dataframe with the created list\n",
    "    new_dataframe = data[lista].copy()\n",
    "    \n",
    "    #Categorical and numerical features of our new datafram\n",
    "    categorical_features = list(set(new_dataframe.select_dtypes(exclude=['number'])) - set([target]))   \n",
    "    numerical_features = list(set(new_dataframe.select_dtypes(include=['number'])) - set([target]))\n",
    "    \n",
    "    #SEGMENTATION STRATEGY : DECISION TREE btw candidate and target variable\n",
    "    new = new_dataframe[[candidate,target]].copy()\n",
    "    \n",
    "    result = any(x in candidate for x in categorical_features)\n",
    "    \n",
    "    #MEAN ENCODING - PURPOSE IS TO SPLIT CATEGORICAL VARIABLES IN TWO SEGMENTS\n",
    "    #1. Create a new dataframe. \"new\".\n",
    "    #2. Add new variable based on the corresponding target encoding.\n",
    "    #3. Decision Tree algorithm to split the categorical variable in two.\n",
    "    if result:\n",
    "        mean_encoded_subject = new.groupby([candidate])[target].mean().to_dict()\n",
    "        new['SubjectName'] =  new[candidate].map(mean_encoded_subject)\n",
    "        X = new['SubjectName']\n",
    "        Y = new[target]\n",
    "        #Adequate the dateframe to the shape of a runnable model.\n",
    "        X_train, X_test, Y_train, Y_test = train_test_split(X, Y, test_size=0.3, random_state=1) \n",
    "        X_train= X_train.values.reshape(-1, 1)\n",
    "        Y_train= Y_train.values.reshape(-1, 1)\n",
    "        X_test = X_test.values.reshape(-1, 1)\n",
    "\n",
    "        #Find the ideal threshold to split each variable based on their relation to the target.\n",
    "        clf = DecisionTreeClassifier(max_depth=1)\n",
    "        clf.fit(X_train, Y_train)   \n",
    "        threshold = clf.tree_.threshold\n",
    "\n",
    "        #Complete the two groups of categorical variables.\n",
    "        group1 = new.loc[new['SubjectName']<=threshold[0],column].unique()\n",
    "        group2 = new.loc[new['SubjectName']>threshold[0],column].unique()\n",
    "    \n",
    "    else :  \n",
    "        X = new[candidate]\n",
    "        Y = new[target]\n",
    "        #Adequate the dateframe to the shape of a runnable model.\n",
    "        X_train, X_test, Y_train, Y_test = train_test_split(X, Y, test_size=0.3, random_state=1) \n",
    "        X_train= X_train.values.reshape(-1, 1)\n",
    "        Y_train= Y_train.values.reshape(-1, 1)\n",
    "        X_test = X_test.values.reshape(-1, 1)\n",
    "\n",
    "        #Find the ideal threshold to split each variable based on their relation to the target.\n",
    "        clf = DecisionTreeClassifier(max_depth=1)\n",
    "        clf.fit(X_train, Y_train)   \n",
    "        threshold = clf.tree_.threshold\n",
    "\n",
    "        #Complete the two groups of categorical variables.\n",
    "        group1 = new.loc[new[candidate]<=threshold[0],column].unique()\n",
    "        group2 = new.loc[new[candidate]>threshold[0],column].unique()\n",
    "        \n",
    "    \n",
    "    #Split between test and train.\n",
    "    data_train, data_test = train_test_split(new_dataframe, test_size = 0.2, random_state = 42)\n",
    "    \n",
    "    #Seg 1 and Seg 2.\n",
    "    data_train_seg1 = data_train[new_dataframe[candidate].isin(group1)]\n",
    "    data_train_seg2 = data_train[new_dataframe[candidate].isin(group2)]\n",
    "    data_test_seg1 = data_test[new_dataframe[candidate].isin(group1)]\n",
    "    data_test_seg2 = data_test[new_dataframe[candidate].isin(group2)]\n",
    "    \n",
    "    #Target encoding the categorical variables except target and candidate\n",
    "    categorical_features = list(set(new_dataframe.select_dtypes(exclude=['number'])) - set([target,candidate]))\n",
    "    for column in new_dataframe[categorical_features]:\n",
    "        mean_encoded_subject = new_dataframe.groupby([column])[target].mean().to_dict()\n",
    "        new_dataframe[column] =  new_dataframe[column].map(mean_encoded_subject) \n",
    "    \n",
    "    numerical_features = list(set(new_dataframe.select_dtypes(include=['number'])) - set([target]))\n",
    "    \n",
    "    #Full Model - Numerical_Features\n",
    "    X_train = data_train[numerical_features]\n",
    "    y_train = data_train[target]\n",
    "    X_test = data_test[numerical_features]\n",
    "    y_test = data_test[target]\n",
    "    X_train = data_train[numerical_features]\n",
    "    y_train = data_train[target]\n",
    "    method = LogisticRegression(random_state=0)\n",
    "    fitted_full_model = method.fit(X_train, y_train)\n",
    "    y_pred = fitted_full_model.predict(X_test)\n",
    "    \n",
    "    # Full Model vs Seg 1 on Seg 1\n",
    "    X_train_seg1 = data_train_seg1[numerical_features]\n",
    "    y_train_seg1 = data_train_seg1[target]\n",
    "    X_test_seg1 = data_test_seg1[numerical_features]\n",
    "    y_test_seg1 = data_test_seg1[target]\n",
    "    fitted_model_seg1 = method.fit(X_train_seg1, y_train_seg1)\n",
    "    y_pred_seg1 = fitted_model_seg1.predict(X_test_seg1)\n",
    "    y_pred_seg1_fullmodel = fitted_full_model.predict(X_test_seg1)\n",
    "    print(\"FEATURE:\",candidate,\n",
    "          \"\\nSEGMENT:\",group1,\n",
    "          \"\\nModel Developed on Seg 1 (train sample) applied on Seg 1 (test sample):\\n\",accuracy_score(y_test_seg1, y_pred_seg1))\n",
    "    print(\"\")\n",
    "    print(\"FEATURE:\",candidate,\n",
    "          \"\\nSEGMENT:\",group1,\n",
    "          \"\\nModel Developed on Full Population (train sample) applied on Seg 1 (test sample):\\n\",accuracy_score(y_test_seg1, y_pred_seg1_fullmodel))\n",
    "    \n",
    "    #Full Model vs Seg 2 on Seg 2\n",
    "    X_train_seg2 = data_train_seg2[numerical_features]\n",
    "    y_train_seg2 = data_train_seg2[target]\n",
    "    X_test_seg2 = data_test_seg2[numerical_features]\n",
    "    y_test_seg2 = data_test_seg2[target]\n",
    "    fitted_model_seg2 = method.fit(X_train_seg2, y_train_seg2)\n",
    "    y_pred_seg2 = fitted_model_seg2.predict(X_test_seg2)\n",
    "    y_pred_seg2_fullmodel = fitted_full_model.predict(X_test_seg2)\n",
    "    print(\"\\n--------------------------------------------------------------------------------\")\n",
    "    print(\"\\nFEATURE:\",candidate,\n",
    "          \"\\nSEGMENT:\",group2,\n",
    "          \"\\nModel Developed on Full Population (train sample) applied on Seg 2 (test sample):\\n\",accuracy_score(y_test_seg2, y_pred_seg2_fullmodel))\n",
    "    print(\"\")\n",
    "    print(\"FEATURE:\",candidate,\n",
    "          \"\\nSEGMENT:\",group2,\n",
    "          \"\\nModel Developed on Seg 2 (train sample) applied on Seg 2 (test sample):\\n\",accuracy_score(y_test_seg2, y_pred_seg2))"
   ]
  },
  {
   "cell_type": "code",
   "execution_count": 412,
   "id": "1c7fe0ad",
   "metadata": {
    "scrolled": true
   },
   "outputs": [
    {
     "ename": "UnboundLocalError",
     "evalue": "local variable 'column' referenced before assignment",
     "output_type": "error",
     "traceback": [
      "\u001b[0;31m---------------------------------------------------------------------------\u001b[0m",
      "\u001b[0;31mUnboundLocalError\u001b[0m                         Traceback (most recent call last)",
      "\u001b[0;32m<ipython-input-412-9290af416afc>\u001b[0m in \u001b[0;36m<module>\u001b[0;34m\u001b[0m\n\u001b[0;32m----> 1\u001b[0;31m \u001b[0mfind_segment_split\u001b[0m\u001b[0;34m(\u001b[0m\u001b[0mcandidate\u001b[0m\u001b[0;34m=\u001b[0m\u001b[0;34m'TYPE_OF_CAR'\u001b[0m\u001b[0;34m,\u001b[0m\u001b[0mtarget\u001b[0m\u001b[0;34m=\u001b[0m\u001b[0;34m'BUCKET'\u001b[0m\u001b[0;34m,\u001b[0m\u001b[0minput_vars\u001b[0m\u001b[0;34m=\u001b[0m\u001b[0;34m[\u001b[0m\u001b[0;34m'SEX'\u001b[0m\u001b[0;34m,\u001b[0m\u001b[0;34m'PROFESSION'\u001b[0m\u001b[0;34m,\u001b[0m\u001b[0;34m'DAYS_CUSTOMER_LIFETIME'\u001b[0m\u001b[0;34m]\u001b[0m\u001b[0;34m)\u001b[0m\u001b[0;34m\u001b[0m\u001b[0;34m\u001b[0m\u001b[0m\n\u001b[0m",
      "\u001b[0;32m<ipython-input-411-fb741d941d9a>\u001b[0m in \u001b[0;36mfind_segment_split\u001b[0;34m(candidate, target, input_vars)\u001b[0m\n\u001b[1;32m     39\u001b[0m \u001b[0;34m\u001b[0m\u001b[0m\n\u001b[1;32m     40\u001b[0m         \u001b[0;31m#Complete the two groups of categorical variables.\u001b[0m\u001b[0;34m\u001b[0m\u001b[0;34m\u001b[0m\u001b[0;34m\u001b[0m\u001b[0m\n\u001b[0;32m---> 41\u001b[0;31m         \u001b[0mgroup1\u001b[0m \u001b[0;34m=\u001b[0m \u001b[0mnew\u001b[0m\u001b[0;34m.\u001b[0m\u001b[0mloc\u001b[0m\u001b[0;34m[\u001b[0m\u001b[0mnew\u001b[0m\u001b[0;34m[\u001b[0m\u001b[0;34m'SubjectName'\u001b[0m\u001b[0;34m]\u001b[0m\u001b[0;34m<=\u001b[0m\u001b[0mthreshold\u001b[0m\u001b[0;34m[\u001b[0m\u001b[0;36m0\u001b[0m\u001b[0;34m]\u001b[0m\u001b[0;34m,\u001b[0m\u001b[0mcolumn\u001b[0m\u001b[0;34m]\u001b[0m\u001b[0;34m.\u001b[0m\u001b[0munique\u001b[0m\u001b[0;34m(\u001b[0m\u001b[0;34m)\u001b[0m\u001b[0;34m\u001b[0m\u001b[0;34m\u001b[0m\u001b[0m\n\u001b[0m\u001b[1;32m     42\u001b[0m         \u001b[0mgroup2\u001b[0m \u001b[0;34m=\u001b[0m \u001b[0mnew\u001b[0m\u001b[0;34m.\u001b[0m\u001b[0mloc\u001b[0m\u001b[0;34m[\u001b[0m\u001b[0mnew\u001b[0m\u001b[0;34m[\u001b[0m\u001b[0;34m'SubjectName'\u001b[0m\u001b[0;34m]\u001b[0m\u001b[0;34m>\u001b[0m\u001b[0mthreshold\u001b[0m\u001b[0;34m[\u001b[0m\u001b[0;36m0\u001b[0m\u001b[0;34m]\u001b[0m\u001b[0;34m,\u001b[0m\u001b[0mcolumn\u001b[0m\u001b[0;34m]\u001b[0m\u001b[0;34m.\u001b[0m\u001b[0munique\u001b[0m\u001b[0;34m(\u001b[0m\u001b[0;34m)\u001b[0m\u001b[0;34m\u001b[0m\u001b[0;34m\u001b[0m\u001b[0m\n\u001b[1;32m     43\u001b[0m \u001b[0;34m\u001b[0m\u001b[0m\n",
      "\u001b[0;31mUnboundLocalError\u001b[0m: local variable 'column' referenced before assignment"
     ]
    }
   ],
   "source": [
    "find_segment_split(candidate='TYPE_OF_CAR',target='BUCKET',input_vars=['SEX','PROFESSION','DAYS_CUSTOMER_LIFETIME'])"
   ]
  },
  {
   "cell_type": "code",
   "execution_count": 410,
   "id": "676cb02b",
   "metadata": {},
   "outputs": [
    {
     "name": "stdout",
     "output_type": "stream",
     "text": [
      "MODEL - CATEGORICAL VARIABLES\n"
     ]
    },
    {
     "name": "stderr",
     "output_type": "stream",
     "text": [
      "<ipython-input-410-5044b7666929>:32: UserWarning: Boolean Series key will be reindexed to match DataFrame index.\n",
      "  data_train_seg1 = data_train[data[column].isin(group1)]\n",
      "<ipython-input-410-5044b7666929>:33: UserWarning: Boolean Series key will be reindexed to match DataFrame index.\n",
      "  data_train_seg2 = data_train[data[column].isin(group2)]\n",
      "<ipython-input-410-5044b7666929>:34: UserWarning: Boolean Series key will be reindexed to match DataFrame index.\n",
      "  data_test_seg1 = data_test[data[column].isin(group1)]\n",
      "<ipython-input-410-5044b7666929>:35: UserWarning: Boolean Series key will be reindexed to match DataFrame index.\n",
      "  data_test_seg2 = data_test[data[column].isin(group2)]\n"
     ]
    },
    {
     "name": "stdout",
     "output_type": "stream",
     "text": [
      "FEATURE: CAR_TYPE \n",
      "SEGMENT: ['HYUNDAI' 'CHEVROLET' 'LADA' 'NISSAN' 'KIA' 'MITSUBISHI' 'RENAULT'\n",
      " 'TOYOTA' 'JEEP' 'Gelory' 'FORD' 'DAIHATSU' 'Citroen' 'BMW' 'OPEL' 'BYD'\n",
      " 'VOLKSWAGEN' 'SEAT' 'FIAT' 'PROTON' 'Peugeot' 'Jack' 'Changan' 'MERCEDES'\n",
      " 'CHERY' 'MAZDA' 'SUBARU' 'BAIC' 'Isuzu' 'VOLVO' 'CARRY' 'HONDA'\n",
      " 'Ssang Yong' 'MG' 'HAIMA' 'CHANGY' 'Faw' 'Zoty' 'DFSK' 'HAWTAI' 'FLORIDA'\n",
      " 'VICTORY'] \n",
      "Model Developed on Seg 1 (train sample) applied on Seg 1 (test sample):\n",
      " 0.7223561168418008\n",
      "\n",
      "FEATURE: CAR_TYPE \n",
      "SEGMENT: ['HYUNDAI' 'CHEVROLET' 'LADA' 'NISSAN' 'KIA' 'MITSUBISHI' 'RENAULT'\n",
      " 'TOYOTA' 'JEEP' 'Gelory' 'FORD' 'DAIHATSU' 'Citroen' 'BMW' 'OPEL' 'BYD'\n",
      " 'VOLKSWAGEN' 'SEAT' 'FIAT' 'PROTON' 'Peugeot' 'Jack' 'Changan' 'MERCEDES'\n",
      " 'CHERY' 'MAZDA' 'SUBARU' 'BAIC' 'Isuzu' 'VOLVO' 'CARRY' 'HONDA'\n",
      " 'Ssang Yong' 'MG' 'HAIMA' 'CHANGY' 'Faw' 'Zoty' 'DFSK' 'HAWTAI' 'FLORIDA'\n",
      " 'VICTORY'] \n",
      "Model Developed on Full Population (train sample) applied on Seg 1 (test sample):\n",
      " 0.7223561168418008\n"
     ]
    },
    {
     "name": "stderr",
     "output_type": "stream",
     "text": [
      "/Users/miguelfrutossoriano/opt/anaconda3/lib/python3.8/site-packages/sklearn/linear_model/_logistic.py:763: ConvergenceWarning: lbfgs failed to converge (status=1):\n",
      "STOP: TOTAL NO. of ITERATIONS REACHED LIMIT.\n",
      "\n",
      "Increase the number of iterations (max_iter) or scale the data as shown in:\n",
      "    https://scikit-learn.org/stable/modules/preprocessing.html\n",
      "Please also refer to the documentation for alternative solver options:\n",
      "    https://scikit-learn.org/stable/modules/linear_model.html#logistic-regression\n",
      "  n_iter_i = _check_optimize_result(\n"
     ]
    },
    {
     "name": "stdout",
     "output_type": "stream",
     "text": [
      "FEATURE: CAR_TYPE \n",
      "SEGMENT: ['Chana' 'Speranza' 'GELY' 'Brilliance' 'SUZUKI' 'SKODA' 'Saipa' 'Livan'\n",
      " 'Great Wall' 'Kenbo' 'Mahindra' 'AUDI' 'MABLE' 'ZEMEX' 'MINI' 'SAWEAST'\n",
      " 'Dodge' 'JAGUAR'] \n",
      "Model Developed on Full Population (train sample) applied on Seg 2 (test sample):\n",
      " 0.7023411371237458\n",
      "\n",
      "FEATURE: CAR_TYPE \n",
      "SEGMENT: ['Chana' 'Speranza' 'GELY' 'Brilliance' 'SUZUKI' 'SKODA' 'Saipa' 'Livan'\n",
      " 'Great Wall' 'Kenbo' 'Mahindra' 'AUDI' 'MABLE' 'ZEMEX' 'MINI' 'SAWEAST'\n",
      " 'Dodge' 'JAGUAR'] \n",
      "Model Developed on Seg 2 (train sample) applied on Seg 2 (test sample):\n",
      " 0.7023411371237458\n"
     ]
    },
    {
     "name": "stderr",
     "output_type": "stream",
     "text": [
      "<ipython-input-410-5044b7666929>:32: UserWarning: Boolean Series key will be reindexed to match DataFrame index.\n",
      "  data_train_seg1 = data_train[data[column].isin(group1)]\n",
      "<ipython-input-410-5044b7666929>:33: UserWarning: Boolean Series key will be reindexed to match DataFrame index.\n",
      "  data_train_seg2 = data_train[data[column].isin(group2)]\n",
      "<ipython-input-410-5044b7666929>:34: UserWarning: Boolean Series key will be reindexed to match DataFrame index.\n",
      "  data_test_seg1 = data_test[data[column].isin(group1)]\n",
      "<ipython-input-410-5044b7666929>:35: UserWarning: Boolean Series key will be reindexed to match DataFrame index.\n",
      "  data_test_seg2 = data_test[data[column].isin(group2)]\n",
      "/Users/miguelfrutossoriano/opt/anaconda3/lib/python3.8/site-packages/sklearn/linear_model/_logistic.py:763: ConvergenceWarning: lbfgs failed to converge (status=1):\n",
      "STOP: TOTAL NO. of ITERATIONS REACHED LIMIT.\n",
      "\n",
      "Increase the number of iterations (max_iter) or scale the data as shown in:\n",
      "    https://scikit-learn.org/stable/modules/preprocessing.html\n",
      "Please also refer to the documentation for alternative solver options:\n",
      "    https://scikit-learn.org/stable/modules/linear_model.html#logistic-regression\n",
      "  n_iter_i = _check_optimize_result(\n"
     ]
    },
    {
     "name": "stdout",
     "output_type": "stream",
     "text": [
      "FEATURE: EMPLOYED/SELF_EMPLOYED \n",
      "SEGMENT: ['Employed'] \n",
      "Model Developed on Seg 1 (train sample) applied on Seg 1 (test sample):\n",
      " 0.7276929541952655\n",
      "\n",
      "FEATURE: EMPLOYED/SELF_EMPLOYED \n",
      "SEGMENT: ['Employed'] \n",
      "Model Developed on Full Population (train sample) applied on Seg 1 (test sample):\n",
      " 0.7276929541952655\n"
     ]
    },
    {
     "name": "stderr",
     "output_type": "stream",
     "text": [
      "/Users/miguelfrutossoriano/opt/anaconda3/lib/python3.8/site-packages/sklearn/linear_model/_logistic.py:763: ConvergenceWarning: lbfgs failed to converge (status=1):\n",
      "STOP: TOTAL NO. of ITERATIONS REACHED LIMIT.\n",
      "\n",
      "Increase the number of iterations (max_iter) or scale the data as shown in:\n",
      "    https://scikit-learn.org/stable/modules/preprocessing.html\n",
      "Please also refer to the documentation for alternative solver options:\n",
      "    https://scikit-learn.org/stable/modules/linear_model.html#logistic-regression\n",
      "  n_iter_i = _check_optimize_result(\n"
     ]
    },
    {
     "name": "stdout",
     "output_type": "stream",
     "text": [
      "FEATURE: EMPLOYED/SELF_EMPLOYED \n",
      "SEGMENT: ['Self Employed'] \n",
      "Model Developed on Full Population (train sample) applied on Seg 2 (test sample):\n",
      " 0.7060689363501798\n",
      "\n",
      "FEATURE: EMPLOYED/SELF_EMPLOYED \n",
      "SEGMENT: ['Self Employed'] \n",
      "Model Developed on Seg 2 (train sample) applied on Seg 2 (test sample):\n",
      " 0.7060689363501798\n"
     ]
    },
    {
     "name": "stderr",
     "output_type": "stream",
     "text": [
      "<ipython-input-410-5044b7666929>:32: UserWarning: Boolean Series key will be reindexed to match DataFrame index.\n",
      "  data_train_seg1 = data_train[data[column].isin(group1)]\n",
      "<ipython-input-410-5044b7666929>:33: UserWarning: Boolean Series key will be reindexed to match DataFrame index.\n",
      "  data_train_seg2 = data_train[data[column].isin(group2)]\n",
      "<ipython-input-410-5044b7666929>:34: UserWarning: Boolean Series key will be reindexed to match DataFrame index.\n",
      "  data_test_seg1 = data_test[data[column].isin(group1)]\n",
      "<ipython-input-410-5044b7666929>:35: UserWarning: Boolean Series key will be reindexed to match DataFrame index.\n",
      "  data_test_seg2 = data_test[data[column].isin(group2)]\n",
      "/Users/miguelfrutossoriano/opt/anaconda3/lib/python3.8/site-packages/sklearn/linear_model/_logistic.py:763: ConvergenceWarning: lbfgs failed to converge (status=1):\n",
      "STOP: TOTAL NO. of ITERATIONS REACHED LIMIT.\n",
      "\n",
      "Increase the number of iterations (max_iter) or scale the data as shown in:\n",
      "    https://scikit-learn.org/stable/modules/preprocessing.html\n",
      "Please also refer to the documentation for alternative solver options:\n",
      "    https://scikit-learn.org/stable/modules/linear_model.html#logistic-regression\n",
      "  n_iter_i = _check_optimize_result(\n"
     ]
    },
    {
     "name": "stdout",
     "output_type": "stream",
     "text": [
      "FEATURE: PROFESSION \n",
      "SEGMENT: ['Company Owner' 'EMPLOYEE' 'Manager' 'ENGINEER' 'DOCTOR'\n",
      " 'Instructor / Teacher' 'TOUR LEADER' 'RELIGION PERSON'\n",
      " 'Accountant - Employee' 'RETIRED' 'PROFESSORS' 'SECRETARY' 'PHARMACIST'\n",
      " 'Hostess' 'Bazaar Shop Owner' 'BANKER' 'Car / Boat Agency / Deale'\n",
      " 'CAE - Current Staff' 'Craftsman' 'CHEMIST' 'Pilot' 'Consultant'\n",
      " 'Police Officer' 'Politician' 'CAE Ex-Staff Less Than 10' 'PUBLISHER'] \n",
      "Model Developed on Seg 1 (train sample) applied on Seg 1 (test sample):\n",
      " 0.7219801095094424\n",
      "\n",
      "FEATURE: PROFESSION \n",
      "SEGMENT: ['Company Owner' 'EMPLOYEE' 'Manager' 'ENGINEER' 'DOCTOR'\n",
      " 'Instructor / Teacher' 'TOUR LEADER' 'RELIGION PERSON'\n",
      " 'Accountant - Employee' 'RETIRED' 'PROFESSORS' 'SECRETARY' 'PHARMACIST'\n",
      " 'Hostess' 'Bazaar Shop Owner' 'BANKER' 'Car / Boat Agency / Deale'\n",
      " 'CAE - Current Staff' 'Craftsman' 'CHEMIST' 'Pilot' 'Consultant'\n",
      " 'Police Officer' 'Politician' 'CAE Ex-Staff Less Than 10' 'PUBLISHER'] \n",
      "Model Developed on Full Population (train sample) applied on Seg 1 (test sample):\n",
      " 0.7219801095094424\n",
      "FEATURE: PROFESSION \n",
      "SEGMENT: ['Contractor' 'Business Man / Trader' 'Shop Owner' 'HOUSEWIFE' 'Landlord'\n",
      " 'NURSE' 'ARTIST' 'JEWELLER' 'Real Estate Broker / Agen' 'Journalist'\n",
      " 'Unemployed' 'Broadcast / Media' 'PRESS' 'TECHNICIAN' 'DRIVER' 'Athletes'\n",
      " 'Lawyer ? Employee' 'AGRARIAN' 'STUDENT' 'Lawyer ? Self Employer' 'DIVER'\n",
      " 'Hotel Manager' 'Military Officer' 'CAE IBS Staff' 'ECONOMIST'] \n",
      "Model Developed on Full Population (train sample) applied on Seg 2 (test sample):\n",
      " 0.7091469681397738\n",
      "\n",
      "FEATURE: PROFESSION \n",
      "SEGMENT: ['Contractor' 'Business Man / Trader' 'Shop Owner' 'HOUSEWIFE' 'Landlord'\n",
      " 'NURSE' 'ARTIST' 'JEWELLER' 'Real Estate Broker / Agen' 'Journalist'\n",
      " 'Unemployed' 'Broadcast / Media' 'PRESS' 'TECHNICIAN' 'DRIVER' 'Athletes'\n",
      " 'Lawyer ? Employee' 'AGRARIAN' 'STUDENT' 'Lawyer ? Self Employer' 'DIVER'\n",
      " 'Hotel Manager' 'Military Officer' 'CAE IBS Staff' 'ECONOMIST'] \n",
      "Model Developed on Seg 2 (train sample) applied on Seg 2 (test sample):\n",
      " 0.7091469681397738\n"
     ]
    },
    {
     "name": "stderr",
     "output_type": "stream",
     "text": [
      "<ipython-input-410-5044b7666929>:32: UserWarning: Boolean Series key will be reindexed to match DataFrame index.\n",
      "  data_train_seg1 = data_train[data[column].isin(group1)]\n",
      "<ipython-input-410-5044b7666929>:33: UserWarning: Boolean Series key will be reindexed to match DataFrame index.\n",
      "  data_train_seg2 = data_train[data[column].isin(group2)]\n",
      "<ipython-input-410-5044b7666929>:34: UserWarning: Boolean Series key will be reindexed to match DataFrame index.\n",
      "  data_test_seg1 = data_test[data[column].isin(group1)]\n",
      "<ipython-input-410-5044b7666929>:35: UserWarning: Boolean Series key will be reindexed to match DataFrame index.\n",
      "  data_test_seg2 = data_test[data[column].isin(group2)]\n"
     ]
    },
    {
     "name": "stdout",
     "output_type": "stream",
     "text": [
      "FEATURE: SEX \n",
      "SEGMENT: ['M'] \n",
      "Model Developed on Seg 1 (train sample) applied on Seg 1 (test sample):\n",
      " 0.7201597744360902\n",
      "\n",
      "FEATURE: SEX \n",
      "SEGMENT: ['M'] \n",
      "Model Developed on Full Population (train sample) applied on Seg 1 (test sample):\n",
      " 0.7201597744360902\n"
     ]
    },
    {
     "name": "stderr",
     "output_type": "stream",
     "text": [
      "/Users/miguelfrutossoriano/opt/anaconda3/lib/python3.8/site-packages/sklearn/linear_model/_logistic.py:763: ConvergenceWarning: lbfgs failed to converge (status=1):\n",
      "STOP: TOTAL NO. of ITERATIONS REACHED LIMIT.\n",
      "\n",
      "Increase the number of iterations (max_iter) or scale the data as shown in:\n",
      "    https://scikit-learn.org/stable/modules/preprocessing.html\n",
      "Please also refer to the documentation for alternative solver options:\n",
      "    https://scikit-learn.org/stable/modules/linear_model.html#logistic-regression\n",
      "  n_iter_i = _check_optimize_result(\n"
     ]
    },
    {
     "name": "stdout",
     "output_type": "stream",
     "text": [
      "FEATURE: SEX \n",
      "SEGMENT: ['F'] \n",
      "Model Developed on Full Population (train sample) applied on Seg 2 (test sample):\n",
      " 0.714243146603099\n",
      "\n",
      "FEATURE: SEX \n",
      "SEGMENT: ['F'] \n",
      "Model Developed on Seg 2 (train sample) applied on Seg 2 (test sample):\n",
      " 0.714243146603099\n"
     ]
    },
    {
     "name": "stderr",
     "output_type": "stream",
     "text": [
      "<ipython-input-410-5044b7666929>:32: UserWarning: Boolean Series key will be reindexed to match DataFrame index.\n",
      "  data_train_seg1 = data_train[data[column].isin(group1)]\n",
      "<ipython-input-410-5044b7666929>:33: UserWarning: Boolean Series key will be reindexed to match DataFrame index.\n",
      "  data_train_seg2 = data_train[data[column].isin(group2)]\n",
      "<ipython-input-410-5044b7666929>:34: UserWarning: Boolean Series key will be reindexed to match DataFrame index.\n",
      "  data_test_seg1 = data_test[data[column].isin(group1)]\n",
      "<ipython-input-410-5044b7666929>:35: UserWarning: Boolean Series key will be reindexed to match DataFrame index.\n",
      "  data_test_seg2 = data_test[data[column].isin(group2)]\n"
     ]
    },
    {
     "name": "stdout",
     "output_type": "stream",
     "text": [
      "FEATURE: TYPE_OF_CAR \n",
      "SEGMENT: ['Pick Up and Small Trucks'] \n",
      "Model Developed on Seg 1 (train sample) applied on Seg 1 (test sample):\n",
      " 0.7344827586206897\n",
      "\n",
      "FEATURE: TYPE_OF_CAR \n",
      "SEGMENT: ['Pick Up and Small Trucks'] \n",
      "Model Developed on Full Population (train sample) applied on Seg 1 (test sample):\n",
      " 0.7344827586206897\n"
     ]
    },
    {
     "name": "stderr",
     "output_type": "stream",
     "text": [
      "/Users/miguelfrutossoriano/opt/anaconda3/lib/python3.8/site-packages/sklearn/linear_model/_logistic.py:763: ConvergenceWarning: lbfgs failed to converge (status=1):\n",
      "STOP: TOTAL NO. of ITERATIONS REACHED LIMIT.\n",
      "\n",
      "Increase the number of iterations (max_iter) or scale the data as shown in:\n",
      "    https://scikit-learn.org/stable/modules/preprocessing.html\n",
      "Please also refer to the documentation for alternative solver options:\n",
      "    https://scikit-learn.org/stable/modules/linear_model.html#logistic-regression\n",
      "  n_iter_i = _check_optimize_result(\n"
     ]
    },
    {
     "name": "stdout",
     "output_type": "stream",
     "text": [
      "FEATURE: TYPE_OF_CAR \n",
      "SEGMENT: ['Auto'] \n",
      "Model Developed on Full Population (train sample) applied on Seg 2 (test sample):\n",
      " 0.7169632060804975\n",
      "\n",
      "FEATURE: TYPE_OF_CAR \n",
      "SEGMENT: ['Auto'] \n",
      "Model Developed on Seg 2 (train sample) applied on Seg 2 (test sample):\n",
      " 0.7169632060804975\n"
     ]
    }
   ],
   "source": [
    "print(\"MODEL - CATEGORICAL VARIABLES\")\n",
    "\n",
    "for column in data [categorical_features]:\n",
    "    #MEAN ENCODING - PURPOSE IS TO SPLIT CATEGORICAL VARIABLES IN TWO SEGMENTS\n",
    "    #1. Create a new dataframe. \"new\".\n",
    "    #2. Add new variable based on the corresponding target mean.\n",
    "    #3. Decision Tree algorithm to split the categorical variable in two.\n",
    "    new = data[[column,target]].copy()\n",
    "    mean_encoded_subject = new.groupby([column])[target].mean().to_dict()\n",
    "    new['SubjectName'] =  new[column].map(mean_encoded_subject)\n",
    "    X = new['SubjectName']\n",
    "    Y = new[target]\n",
    "    #Adequate the dateframe to the shape of a runnable model.\n",
    "    X_train, X_test, Y_train, Y_test = train_test_split(X, Y, test_size=0.3, random_state=1) \n",
    "    X_train= X_train.values.reshape(-1, 1)\n",
    "    Y_train= Y_train.values.reshape(-1, 1)\n",
    "    X_test = X_test.values.reshape(-1, 1)\n",
    "    \n",
    "    #Find the ideal threshold to split each variable based on their relation to the target.\n",
    "    clf = DecisionTreeClassifier(max_depth=1)\n",
    "    clf.fit(X_train, Y_train)   \n",
    "    threshold = clf.tree_.threshold\n",
    "    \n",
    "    #Complete the two groups of categorical variables.\n",
    "    group1 = new.loc[new['SubjectName']<=threshold[0],column].unique()\n",
    "    group2 = new.loc[new['SubjectName']>threshold[0],column].unique()\n",
    "    \n",
    "    #Split between test and train.\n",
    "    data_train, data_test = train_test_split(data, test_size = 0.2, random_state = 42)\n",
    "    \n",
    "    #Seg 1 and Seg 2.\n",
    "    data_train_seg1 = data_train[data[column].isin(group1)]\n",
    "    data_train_seg2 = data_train[data[column].isin(group2)]\n",
    "    data_test_seg1 = data_test[data[column].isin(group1)]\n",
    "    data_test_seg2 = data_test[data[column].isin(group2)]\n",
    "    \n",
    "    #Full Model - Numerical_Features\n",
    "    X_train = data_train[numerical_features]\n",
    "    y_train = data_train[target]\n",
    "    X_test = data_test[numerical_features]\n",
    "    y_test = data_test[target]\n",
    "    X_train = data_train[numerical_features]\n",
    "    y_train = data_train[target]\n",
    "    method = LogisticRegression(random_state=0)\n",
    "    fitted_full_model = method.fit(X_train, y_train)\n",
    "    y_pred = fitted_full_model.predict(X_test)\n",
    "    \n",
    "    # Full Model vs Seg 1 on Seg 1\n",
    "    X_train_seg1 = data_train_seg1[numerical_features]\n",
    "    y_train_seg1 = data_train_seg1[target]\n",
    "    X_test_seg1 = data_test_seg1[numerical_features]\n",
    "    y_test_seg1 = data_test_seg1[target]\n",
    "    fitted_model_seg1 = method.fit(X_train_seg1, y_train_seg1)\n",
    "    y_pred_seg1 = fitted_model_seg1.predict(X_test_seg1)\n",
    "    y_pred_seg1_fullmodel = fitted_full_model.predict(X_test_seg1)\n",
    "    print(\"FEATURE:\",column,\n",
    "          \"\\nSEGMENT:\",group1,\n",
    "          \"\\nModel Developed on Seg 1 (train sample) applied on Seg 1 (test sample):\\n\",accuracy_score(y_test_seg1, y_pred_seg1))\n",
    "    print(\"\")\n",
    "    print(\"FEATURE:\",column,\n",
    "          \"\\nSEGMENT:\",group1,\n",
    "          \"\\nModel Developed on Full Population (train sample) applied on Seg 1 (test sample):\\n\",accuracy_score(y_test_seg1, y_pred_seg1_fullmodel))\n",
    "    \n",
    "    #Full Model vs Seg 2 on Seg 2\n",
    "    X_train_seg2 = data_train_seg2[numerical_features]\n",
    "    y_train_seg2 = data_train_seg2[target]\n",
    "    X_test_seg2 = data_test_seg2[numerical_features]\n",
    "    y_test_seg2 = data_test_seg2[target]\n",
    "    fitted_model_seg2 = method.fit(X_train_seg2, y_train_seg2)\n",
    "    y_pred_seg2 = fitted_model_seg2.predict(X_test_seg2)\n",
    "    y_pred_seg2_fullmodel = fitted_full_model.predict(X_test_seg2)\n",
    "    print(\"FEATURE:\",column,\n",
    "          \"\\nSEGMENT:\",group2,\n",
    "          \"\\nModel Developed on Full Population (train sample) applied on Seg 2 (test sample):\\n\",accuracy_score(y_test_seg2, y_pred_seg2_fullmodel))\n",
    "    print(\"\")\n",
    "    print(\"FEATURE:\",column,\n",
    "          \"\\nSEGMENT:\",group2,\n",
    "          \"\\nModel Developed on Seg 2 (train sample) applied on Seg 2 (test sample):\\n\",accuracy_score(y_test_seg2, y_pred_seg2))\n",
    "    \n",
    "    \n",
    "    "
   ]
  },
  {
   "cell_type": "code",
   "execution_count": 209,
   "id": "515d753d",
   "metadata": {},
   "outputs": [
    {
     "name": "stdout",
     "output_type": "stream",
     "text": [
      "MODEL - NUMERICAL VARIABLES\n"
     ]
    },
    {
     "name": "stderr",
     "output_type": "stream",
     "text": [
      "<ipython-input-209-fec411ad8dd2>:32: UserWarning: Boolean Series key will be reindexed to match DataFrame index.\n",
      "  data_train_seg1 = data_train[data[column].isin(group1)]\n",
      "<ipython-input-209-fec411ad8dd2>:33: UserWarning: Boolean Series key will be reindexed to match DataFrame index.\n",
      "  data_train_seg2 = data_train[data[column].isin(group2)]\n",
      "<ipython-input-209-fec411ad8dd2>:34: UserWarning: Boolean Series key will be reindexed to match DataFrame index.\n",
      "  data_test_seg1 = data_test[data[column].isin(group1)]\n",
      "<ipython-input-209-fec411ad8dd2>:35: UserWarning: Boolean Series key will be reindexed to match DataFrame index.\n",
      "  data_test_seg2 = data_test[data[column].isin(group2)]\n",
      "/Users/miguelfrutossoriano/opt/anaconda3/lib/python3.8/site-packages/sklearn/linear_model/_logistic.py:763: ConvergenceWarning: lbfgs failed to converge (status=1):\n",
      "STOP: TOTAL NO. of ITERATIONS REACHED LIMIT.\n",
      "\n",
      "Increase the number of iterations (max_iter) or scale the data as shown in:\n",
      "    https://scikit-learn.org/stable/modules/preprocessing.html\n",
      "Please also refer to the documentation for alternative solver options:\n",
      "    https://scikit-learn.org/stable/modules/linear_model.html#logistic-regression\n",
      "  n_iter_i = _check_optimize_result(\n"
     ]
    },
    {
     "name": "stdout",
     "output_type": "stream",
     "text": [
      "FEATURE: ACCOUNT_NUMBER \n",
      "SEGMENT: [  144   248   309 ... 33229 32478  4350] \n",
      "Model Developed on Seg 1 (train sample) applied on Seg 1 (test sample):\n",
      " 0.7295824094604583\n",
      "\n",
      "FEATURE: ACCOUNT_NUMBER \n",
      "SEGMENT: [  144   248   309 ... 33229 32478  4350] \n",
      "Model Developed on Full Population (train sample) applied on Seg 1 (test sample):\n",
      " 0.7295824094604583\n"
     ]
    },
    {
     "name": "stderr",
     "output_type": "stream",
     "text": [
      "/Users/miguelfrutossoriano/opt/anaconda3/lib/python3.8/site-packages/sklearn/linear_model/_logistic.py:763: ConvergenceWarning: lbfgs failed to converge (status=1):\n",
      "STOP: TOTAL NO. of ITERATIONS REACHED LIMIT.\n",
      "\n",
      "Increase the number of iterations (max_iter) or scale the data as shown in:\n",
      "    https://scikit-learn.org/stable/modules/preprocessing.html\n",
      "Please also refer to the documentation for alternative solver options:\n",
      "    https://scikit-learn.org/stable/modules/linear_model.html#logistic-regression\n",
      "  n_iter_i = _check_optimize_result(\n"
     ]
    },
    {
     "name": "stdout",
     "output_type": "stream",
     "text": [
      "FEATURE: ACCOUNT_NUMBER \n",
      "SEGMENT: [35568 35543 36087 ... 39597 38016 38899] \n",
      "Model Developed on Full Population (train sample) applied on Seg 2 (test sample):\n",
      " 0.8218390804597702\n",
      "\n",
      "FEATURE: ACCOUNT_NUMBER \n",
      "SEGMENT: [35568 35543 36087 ... 39597 38016 38899] \n",
      "Model Developed on Seg 2 (train sample) applied on Seg 2 (test sample):\n",
      " 0.8218390804597702\n"
     ]
    },
    {
     "name": "stderr",
     "output_type": "stream",
     "text": [
      "<ipython-input-209-fec411ad8dd2>:32: UserWarning: Boolean Series key will be reindexed to match DataFrame index.\n",
      "  data_train_seg1 = data_train[data[column].isin(group1)]\n",
      "<ipython-input-209-fec411ad8dd2>:33: UserWarning: Boolean Series key will be reindexed to match DataFrame index.\n",
      "  data_train_seg2 = data_train[data[column].isin(group2)]\n",
      "<ipython-input-209-fec411ad8dd2>:34: UserWarning: Boolean Series key will be reindexed to match DataFrame index.\n",
      "  data_test_seg1 = data_test[data[column].isin(group1)]\n",
      "<ipython-input-209-fec411ad8dd2>:35: UserWarning: Boolean Series key will be reindexed to match DataFrame index.\n",
      "  data_test_seg2 = data_test[data[column].isin(group2)]\n",
      "/Users/miguelfrutossoriano/opt/anaconda3/lib/python3.8/site-packages/sklearn/linear_model/_logistic.py:763: ConvergenceWarning: lbfgs failed to converge (status=1):\n",
      "STOP: TOTAL NO. of ITERATIONS REACHED LIMIT.\n",
      "\n",
      "Increase the number of iterations (max_iter) or scale the data as shown in:\n",
      "    https://scikit-learn.org/stable/modules/preprocessing.html\n",
      "Please also refer to the documentation for alternative solver options:\n",
      "    https://scikit-learn.org/stable/modules/linear_model.html#logistic-regression\n",
      "  n_iter_i = _check_optimize_result(\n"
     ]
    },
    {
     "name": "stdout",
     "output_type": "stream",
     "text": [
      "FEATURE: ORIGINAL_BOOKED_AMOUNT \n",
      "SEGMENT: [ 70000.  65500.  44500. ...  87900.  41200. 113790.] \n",
      "Model Developed on Seg 1 (train sample) applied on Seg 1 (test sample):\n",
      " 0.7328378238876845\n",
      "\n",
      "FEATURE: ORIGINAL_BOOKED_AMOUNT \n",
      "SEGMENT: [ 70000.  65500.  44500. ...  87900.  41200. 113790.] \n",
      "Model Developed on Full Population (train sample) applied on Seg 1 (test sample):\n",
      " 0.7328378238876845\n"
     ]
    },
    {
     "name": "stderr",
     "output_type": "stream",
     "text": [
      "/Users/miguelfrutossoriano/opt/anaconda3/lib/python3.8/site-packages/sklearn/linear_model/_logistic.py:763: ConvergenceWarning: lbfgs failed to converge (status=1):\n",
      "STOP: TOTAL NO. of ITERATIONS REACHED LIMIT.\n",
      "\n",
      "Increase the number of iterations (max_iter) or scale the data as shown in:\n",
      "    https://scikit-learn.org/stable/modules/preprocessing.html\n",
      "Please also refer to the documentation for alternative solver options:\n",
      "    https://scikit-learn.org/stable/modules/linear_model.html#logistic-regression\n",
      "  n_iter_i = _check_optimize_result(\n"
     ]
    },
    {
     "name": "stdout",
     "output_type": "stream",
     "text": [
      "FEATURE: ORIGINAL_BOOKED_AMOUNT \n",
      "SEGMENT: [140500. 390375. 134400. ... 158836. 321000. 219500.] \n",
      "Model Developed on Full Population (train sample) applied on Seg 2 (test sample):\n",
      " 0.7505731315910132\n",
      "\n",
      "FEATURE: ORIGINAL_BOOKED_AMOUNT \n",
      "SEGMENT: [140500. 390375. 134400. ... 158836. 321000. 219500.] \n",
      "Model Developed on Seg 2 (train sample) applied on Seg 2 (test sample):\n",
      " 0.7505731315910132\n"
     ]
    },
    {
     "name": "stderr",
     "output_type": "stream",
     "text": [
      "<ipython-input-209-fec411ad8dd2>:32: UserWarning: Boolean Series key will be reindexed to match DataFrame index.\n",
      "  data_train_seg1 = data_train[data[column].isin(group1)]\n",
      "<ipython-input-209-fec411ad8dd2>:33: UserWarning: Boolean Series key will be reindexed to match DataFrame index.\n",
      "  data_train_seg2 = data_train[data[column].isin(group2)]\n",
      "<ipython-input-209-fec411ad8dd2>:34: UserWarning: Boolean Series key will be reindexed to match DataFrame index.\n",
      "  data_test_seg1 = data_test[data[column].isin(group1)]\n",
      "<ipython-input-209-fec411ad8dd2>:35: UserWarning: Boolean Series key will be reindexed to match DataFrame index.\n",
      "  data_test_seg2 = data_test[data[column].isin(group2)]\n",
      "/Users/miguelfrutossoriano/opt/anaconda3/lib/python3.8/site-packages/sklearn/linear_model/_logistic.py:763: ConvergenceWarning: lbfgs failed to converge (status=1):\n",
      "STOP: TOTAL NO. of ITERATIONS REACHED LIMIT.\n",
      "\n",
      "Increase the number of iterations (max_iter) or scale the data as shown in:\n",
      "    https://scikit-learn.org/stable/modules/preprocessing.html\n",
      "Please also refer to the documentation for alternative solver options:\n",
      "    https://scikit-learn.org/stable/modules/linear_model.html#logistic-regression\n",
      "  n_iter_i = _check_optimize_result(\n"
     ]
    },
    {
     "name": "stdout",
     "output_type": "stream",
     "text": [
      "FEATURE: PERCENTAGE_OF_DOWN_PAYMENT \n",
      "SEGMENT: [42.58468376 30.         40.         38.         42.         20.\n",
      " 36.         34.         32.         28.        ] \n",
      "Model Developed on Seg 1 (train sample) applied on Seg 1 (test sample):\n",
      " 0.7042963993738042\n",
      "\n",
      "FEATURE: PERCENTAGE_OF_DOWN_PAYMENT \n",
      "SEGMENT: [42.58468376 30.         40.         38.         42.         20.\n",
      " 36.         34.         32.         28.        ] \n",
      "Model Developed on Full Population (train sample) applied on Seg 1 (test sample):\n",
      " 0.7042963993738042\n",
      "FEATURE: PERCENTAGE_OF_DOWN_PAYMENT \n",
      "SEGMENT: [50. 46. 48. 44.] \n",
      "Model Developed on Full Population (train sample) applied on Seg 2 (test sample):\n",
      " 0.7316554992645857\n",
      "\n",
      "FEATURE: PERCENTAGE_OF_DOWN_PAYMENT \n",
      "SEGMENT: [50. 46. 48. 44.] \n",
      "Model Developed on Seg 2 (train sample) applied on Seg 2 (test sample):\n",
      " 0.7316554992645857\n"
     ]
    },
    {
     "name": "stderr",
     "output_type": "stream",
     "text": [
      "<ipython-input-209-fec411ad8dd2>:32: UserWarning: Boolean Series key will be reindexed to match DataFrame index.\n",
      "  data_train_seg1 = data_train[data[column].isin(group1)]\n",
      "<ipython-input-209-fec411ad8dd2>:33: UserWarning: Boolean Series key will be reindexed to match DataFrame index.\n",
      "  data_train_seg2 = data_train[data[column].isin(group2)]\n",
      "<ipython-input-209-fec411ad8dd2>:34: UserWarning: Boolean Series key will be reindexed to match DataFrame index.\n",
      "  data_test_seg1 = data_test[data[column].isin(group1)]\n",
      "<ipython-input-209-fec411ad8dd2>:35: UserWarning: Boolean Series key will be reindexed to match DataFrame index.\n",
      "  data_test_seg2 = data_test[data[column].isin(group2)]\n",
      "/Users/miguelfrutossoriano/opt/anaconda3/lib/python3.8/site-packages/sklearn/linear_model/_logistic.py:763: ConvergenceWarning: lbfgs failed to converge (status=1):\n",
      "STOP: TOTAL NO. of ITERATIONS REACHED LIMIT.\n",
      "\n",
      "Increase the number of iterations (max_iter) or scale the data as shown in:\n",
      "    https://scikit-learn.org/stable/modules/preprocessing.html\n",
      "Please also refer to the documentation for alternative solver options:\n",
      "    https://scikit-learn.org/stable/modules/linear_model.html#logistic-regression\n",
      "  n_iter_i = _check_optimize_result(\n"
     ]
    },
    {
     "name": "stdout",
     "output_type": "stream",
     "text": [
      "FEATURE: DAYS_LOAN_DURATION \n",
      "SEGMENT: [ 717 1087 1088  726 1108 1086 1071 1072 1090 1105 1075 1080 1106 1078\n",
      " 1085 1099 1084  713  711 1083  730  373 1079  732 1076 1101 1098 1074\n",
      "  734  763 1069 1062 1070  712  410  721 1160  779 1100  715 1140  352\n",
      " 1081  769  356 1103  768  704  714  537  342 1068  710  418 1077  409\n",
      "  728  582  733  353  346  347  917  705 1094 1133  739  725  707  740\n",
      "  731  709  340 1067 1136  357 1041 1163  706 1301 1089 1300 1092  360\n",
      " 1082 1096  708 1107  729  414  358  735 1097 1142  703  766  781  374\n",
      "  724  341 1057  691  903  350  778 1095 1130 1132  762  675  363 1146\n",
      " 1102 1091  738  413 1131 1109  790 1155  722 1093  743  727  370 1045\n",
      "  792 1043 1073  343 1233 1165  366  640  720  716  375  336  788  351\n",
      "  371 1149  702  359  748 1039 1150  723 1129 1208 1112  783  364  801\n",
      " 1138  349  339  227  742 1152 1134 1153  718 1283 1040  782  795  354\n",
      "  701 1260 1126  361 1376 1011 1058  741  737  355 1137 1038  345  789\n",
      "  736 1111  344 1373  433  368 1047  765  406  802  772 1144  376  401\n",
      " 1053  773 1034  404  758  885  767  430 1066  369 1145 1270  277 1059\n",
      "  719 1004  764  776 1122  491 1203  168  405  785 1115  829 1307 1328\n",
      "  338 1143  775  845  784  427  869  167 1168  348  412 1042  367  426\n",
      " 1051 1135 1052  771  774  408  567  799  901 1110 1147 1148  918 1162\n",
      "  871  362 1151  400  777 1167 1104 1113  415  296 1056  547  372  780\n",
      "  886 1063 1199  380  921 1064  951  438  365 1065 1120 1119  750 1372\n",
      " 1020  688 1141  561  746 1139 1164  304  747 1046  796  920  786  680\n",
      "  619  407 1154 1217 1377  797  530  528 1194 1161  563  425  752  403\n",
      "  857 1383  698  545  419  550 1044 1331  499  431  381  378  770  589\n",
      "  803  420  683  878 1124  282  428  673 1055  787  674  984 1158  859\n",
      "  896 1050  586  460  557  654  552 1269  548  501  504  905  539  436\n",
      "  906 1378  745 1314 1125  677  544  587  800  513  172  598  690  826\n",
      " 1024  284 1114  264 1334 1266  549 1332  685  560  798  861 1123 1049\n",
      " 1190 1121 1116  756  531  968 1128  793  994  744 1338  847 1054  929\n",
      " 1259 1284 1157 1325  558  522  895  894  915  898  835  995 1048  926\n",
      " 1364  759  889 1156  653  840  534 1350 1181  635 1347  480  661 1288\n",
      " 1015 1264 1278  611  448 1180  825  839 1327 1366 1354 1205  655  416\n",
      " 1379  600  662 1216 1169 1290  457 1365  511  446 1357 1272  852  908\n",
      " 1117 1292  964  625 1296  848  877  892  818  434  233 1224 1008 1229\n",
      "  437  844  963 1191  421 1225 1351  841 1254 1255  805  827 1227 1281\n",
      " 1232 1060  828 1037 1313  865  429 1222  948 1159 1303  902  890 1355\n",
      "  899  969 1201 1340  527 1193 1200 1017  385 1183  682  910  432  936\n",
      " 1016 1028 1252 1362  377 1317 1341  554  876 1276 1333  489  423 1293\n",
      "  923 1323  603  755 1195 1223 1212 1257 1273  821  904  614 1306  753\n",
      "  986  532 1209 1360 1326 1345 1214 1385  838 1210 1253 1375 1206 1298\n",
      "  337  858 1202  196 1001 1127  912 1211 1277 1221  449  982  938  816\n",
      " 1316 1344 1356  927  808 1207  832 1343 1226  651 1027 1032  837  919\n",
      "  893  860  970 1263 1197  806  681] \n",
      "Model Developed on Seg 1 (train sample) applied on Seg 1 (test sample):\n",
      " 0.7513513513513513\n",
      "\n",
      "FEATURE: DAYS_LOAN_DURATION \n",
      "SEGMENT: [ 717 1087 1088  726 1108 1086 1071 1072 1090 1105 1075 1080 1106 1078\n",
      " 1085 1099 1084  713  711 1083  730  373 1079  732 1076 1101 1098 1074\n",
      "  734  763 1069 1062 1070  712  410  721 1160  779 1100  715 1140  352\n",
      " 1081  769  356 1103  768  704  714  537  342 1068  710  418 1077  409\n",
      "  728  582  733  353  346  347  917  705 1094 1133  739  725  707  740\n",
      "  731  709  340 1067 1136  357 1041 1163  706 1301 1089 1300 1092  360\n",
      " 1082 1096  708 1107  729  414  358  735 1097 1142  703  766  781  374\n",
      "  724  341 1057  691  903  350  778 1095 1130 1132  762  675  363 1146\n",
      " 1102 1091  738  413 1131 1109  790 1155  722 1093  743  727  370 1045\n",
      "  792 1043 1073  343 1233 1165  366  640  720  716  375  336  788  351\n",
      "  371 1149  702  359  748 1039 1150  723 1129 1208 1112  783  364  801\n",
      " 1138  349  339  227  742 1152 1134 1153  718 1283 1040  782  795  354\n",
      "  701 1260 1126  361 1376 1011 1058  741  737  355 1137 1038  345  789\n",
      "  736 1111  344 1373  433  368 1047  765  406  802  772 1144  376  401\n",
      " 1053  773 1034  404  758  885  767  430 1066  369 1145 1270  277 1059\n",
      "  719 1004  764  776 1122  491 1203  168  405  785 1115  829 1307 1328\n",
      "  338 1143  775  845  784  427  869  167 1168  348  412 1042  367  426\n",
      " 1051 1135 1052  771  774  408  567  799  901 1110 1147 1148  918 1162\n",
      "  871  362 1151  400  777 1167 1104 1113  415  296 1056  547  372  780\n",
      "  886 1063 1199  380  921 1064  951  438  365 1065 1120 1119  750 1372\n",
      " 1020  688 1141  561  746 1139 1164  304  747 1046  796  920  786  680\n",
      "  619  407 1154 1217 1377  797  530  528 1194 1161  563  425  752  403\n",
      "  857 1383  698  545  419  550 1044 1331  499  431  381  378  770  589\n",
      "  803  420  683  878 1124  282  428  673 1055  787  674  984 1158  859\n",
      "  896 1050  586  460  557  654  552 1269  548  501  504  905  539  436\n",
      "  906 1378  745 1314 1125  677  544  587  800  513  172  598  690  826\n",
      " 1024  284 1114  264 1334 1266  549 1332  685  560  798  861 1123 1049\n",
      " 1190 1121 1116  756  531  968 1128  793  994  744 1338  847 1054  929\n",
      " 1259 1284 1157 1325  558  522  895  894  915  898  835  995 1048  926\n",
      " 1364  759  889 1156  653  840  534 1350 1181  635 1347  480  661 1288\n",
      " 1015 1264 1278  611  448 1180  825  839 1327 1366 1354 1205  655  416\n",
      " 1379  600  662 1216 1169 1290  457 1365  511  446 1357 1272  852  908\n",
      " 1117 1292  964  625 1296  848  877  892  818  434  233 1224 1008 1229\n",
      "  437  844  963 1191  421 1225 1351  841 1254 1255  805  827 1227 1281\n",
      " 1232 1060  828 1037 1313  865  429 1222  948 1159 1303  902  890 1355\n",
      "  899  969 1201 1340  527 1193 1200 1017  385 1183  682  910  432  936\n",
      " 1016 1028 1252 1362  377 1317 1341  554  876 1276 1333  489  423 1293\n",
      "  923 1323  603  755 1195 1223 1212 1257 1273  821  904  614 1306  753\n",
      "  986  532 1209 1360 1326 1345 1214 1385  838 1210 1253 1375 1206 1298\n",
      "  337  858 1202  196 1001 1127  912 1211 1277 1221  449  982  938  816\n",
      " 1316 1344 1356  927  808 1207  832 1343 1226  651 1027 1032  837  919\n",
      "  893  860  970 1263 1197  806  681] \n",
      "Model Developed on Full Population (train sample) applied on Seg 1 (test sample):\n",
      " 0.7513513513513513\n",
      "FEATURE: DAYS_LOAN_DURATION \n",
      "SEGMENT: [1831 1811 1457 1431 1413 1830 1808 1818 1803 1809 1802 1837 1442 1806\n",
      " 1832 1816 1826 1834 1432 1440 1817 1820 1430 1829 1824 1805 1833 1822\n",
      " 1812 1836 1804 1810 1801 1865 1823 1825 1861 1797 1459 1799 1835 1453\n",
      " 1418 1860 1877 1819 1814 1813 1903 1450 1798 1821 1815 2331 1891 1449\n",
      " 1438 1436 1452 1880 1448 1800 1807 1444 1882 1466 1872 1512 1892 1844\n",
      " 1743 1445 1443 1899 1455 1441 1875 1859 1846 1446 1435 1776 1827 1451\n",
      " 1464 1766 1465 1469 1864 1782 1456 1838 1874 1463 1867 1792 1479 1437\n",
      " 1434 1499 1839 1439 1498 1881 1878 1793 1470 1471 1777 1849 1757 1828\n",
      " 1524 1870 1845 1454 1869 1530 1868 1458 1769 1853 1501 1460 2259 1496\n",
      " 1426 1447 1796 1404 1866 1890 1601 2033 1433 1876 1883 1762 1863 1468\n",
      " 1893 1856 1788 1898 1862 1421 1509 1427 1473 1871 1854 1775 1740 1885\n",
      " 1841 1495 1886 1780 1516 1535 1502 1525 1461 1503 1781 1494 1894 1482\n",
      " 1842 2539 1888 1840 1750 1680 1476 1884 1507 1519 1650 1484 1768 1778\n",
      " 1472 1528 1467 2555 1532 1497 1851 1785 1895 1873 1847 1774 1879 2535\n",
      " 1422 1462 1409 1786 1772 1487 1429 1608 1515 2563 1751 1425 1517 1417\n",
      " 1790 1770 1759 1773 2549 1420 1514 1632 1511 1415 1858 1640 1747 1424\n",
      " 1392 1506 1843 1620 1631 1623 1639 2538 1887 1739 2530 2536 2550 1647\n",
      " 1406 1410 1630 1896 1562 1700 1416 1505 2193 1901 1403 1635 1695 2191\n",
      " 1897 2161 2365 2399 1779 2165 1412 1428 1789 1765 1889 1771 1480 1402\n",
      " 1401 1783 1855 1407 1794 1411 1784 2565 2172 1791 1752 1756 2560 2540\n",
      " 2561 1745 1419 1848 2548 2547 1625 1414 1795 1475 2551 2041 2532 1673\n",
      " 1396 1651 1638 2504 2543 2546 1755 2021 2194 1615 2559 1742 2531 1713\n",
      " 1500 2541 2557 2521 1526 1492 2552 1744 1767 2327 1787 2533 2511 2545\n",
      " 2534 1408 2176 2544 2185 1529 1852 1660 2562 2201 2542 2537 2501 2568\n",
      " 1715 2196 2529 2189 2567 2195 2470 1626 1698 2554 1423 2468 2524 1405\n",
      " 1731 1504 1491 2171 1693 2528 1746 1984 2569 1983 1760 2566 2432 1714\n",
      " 2012 1764 1710 2526 2166 2030 1857 2556 1586 1489 1753 2188 2553 1749\n",
      " 2177 1520 2353 1924 1568 1616 2199 1478 1531 1387 2015 2558 2084 1513\n",
      " 2564 1644 2180 2175 2429 1754 1682 2179 1556 2055 2004 2520 2423 1645\n",
      " 2174 1850 2205 2344 2048 1483 2167 2230 1573 2184 1658 2213 1722 1653\n",
      " 2186 1508 2182 2441 2126 2430 2133 2200 2111 2508 1930 1652 1741 2198\n",
      " 2117 1761 2527 2170 1636 1634 2440 1624 2517 1656 2516 2512 2063 2202\n",
      " 1708 2162 1577 1709 1763 1637 2414 1633 1725 1738 2478 2570 1621 2190\n",
      " 2245 1617 2183 2014 1678 2215 2164 1758 2500 2439 1982 2519 2150 1654\n",
      " 1923 1523 2103 1646 2493 2480 1900 1691 1657 1595 2173 2141 1724 1666\n",
      " 1527 2239 1510 1474 1394 1655 2169 2525 1683 2006 1729 1536 1966 2415\n",
      " 1737 2273 2367 2036 2013 2160 2163 1669 1665 1951 2146 1679 2419 2148\n",
      " 2472 2571 2475 1970 2391 2144 2513 2074 2187 2005 2492 2192 1593 1668\n",
      " 2401 2149 1591 2303 2254 1618 2203 1684 2299 2302 1584 1590 2514 2297\n",
      " 2181 2154 2058 2168 1733 1588 1677 2326 1671 2276 1622 2485 2301 2232\n",
      " 1681 2011 1990 2482 1619 1648 2268 1550 2112 2025 1694 1992 2438 2264\n",
      " 2361 2043 2136 1395 2491 2321 2197 2309 2178 1704 1589 2110 1727 2502\n",
      " 2007 2001 2000 1594 2484 1986 2487 1664 1661 1543 1587 1910 2515 2225\n"
     ]
    },
    {
     "name": "stdout",
     "output_type": "stream",
     "text": [
      " 2499 2204 2152 1720 2265 2107 1559 2260 2076] \n",
      "Model Developed on Full Population (train sample) applied on Seg 2 (test sample):\n",
      " 0.7103455563774701\n",
      "\n",
      "FEATURE: DAYS_LOAN_DURATION \n",
      "SEGMENT: [1831 1811 1457 1431 1413 1830 1808 1818 1803 1809 1802 1837 1442 1806\n",
      " 1832 1816 1826 1834 1432 1440 1817 1820 1430 1829 1824 1805 1833 1822\n",
      " 1812 1836 1804 1810 1801 1865 1823 1825 1861 1797 1459 1799 1835 1453\n",
      " 1418 1860 1877 1819 1814 1813 1903 1450 1798 1821 1815 2331 1891 1449\n",
      " 1438 1436 1452 1880 1448 1800 1807 1444 1882 1466 1872 1512 1892 1844\n",
      " 1743 1445 1443 1899 1455 1441 1875 1859 1846 1446 1435 1776 1827 1451\n",
      " 1464 1766 1465 1469 1864 1782 1456 1838 1874 1463 1867 1792 1479 1437\n",
      " 1434 1499 1839 1439 1498 1881 1878 1793 1470 1471 1777 1849 1757 1828\n",
      " 1524 1870 1845 1454 1869 1530 1868 1458 1769 1853 1501 1460 2259 1496\n",
      " 1426 1447 1796 1404 1866 1890 1601 2033 1433 1876 1883 1762 1863 1468\n",
      " 1893 1856 1788 1898 1862 1421 1509 1427 1473 1871 1854 1775 1740 1885\n",
      " 1841 1495 1886 1780 1516 1535 1502 1525 1461 1503 1781 1494 1894 1482\n",
      " 1842 2539 1888 1840 1750 1680 1476 1884 1507 1519 1650 1484 1768 1778\n",
      " 1472 1528 1467 2555 1532 1497 1851 1785 1895 1873 1847 1774 1879 2535\n",
      " 1422 1462 1409 1786 1772 1487 1429 1608 1515 2563 1751 1425 1517 1417\n",
      " 1790 1770 1759 1773 2549 1420 1514 1632 1511 1415 1858 1640 1747 1424\n",
      " 1392 1506 1843 1620 1631 1623 1639 2538 1887 1739 2530 2536 2550 1647\n",
      " 1406 1410 1630 1896 1562 1700 1416 1505 2193 1901 1403 1635 1695 2191\n",
      " 1897 2161 2365 2399 1779 2165 1412 1428 1789 1765 1889 1771 1480 1402\n",
      " 1401 1783 1855 1407 1794 1411 1784 2565 2172 1791 1752 1756 2560 2540\n",
      " 2561 1745 1419 1848 2548 2547 1625 1414 1795 1475 2551 2041 2532 1673\n",
      " 1396 1651 1638 2504 2543 2546 1755 2021 2194 1615 2559 1742 2531 1713\n",
      " 1500 2541 2557 2521 1526 1492 2552 1744 1767 2327 1787 2533 2511 2545\n",
      " 2534 1408 2176 2544 2185 1529 1852 1660 2562 2201 2542 2537 2501 2568\n",
      " 1715 2196 2529 2189 2567 2195 2470 1626 1698 2554 1423 2468 2524 1405\n",
      " 1731 1504 1491 2171 1693 2528 1746 1984 2569 1983 1760 2566 2432 1714\n",
      " 2012 1764 1710 2526 2166 2030 1857 2556 1586 1489 1753 2188 2553 1749\n",
      " 2177 1520 2353 1924 1568 1616 2199 1478 1531 1387 2015 2558 2084 1513\n",
      " 2564 1644 2180 2175 2429 1754 1682 2179 1556 2055 2004 2520 2423 1645\n",
      " 2174 1850 2205 2344 2048 1483 2167 2230 1573 2184 1658 2213 1722 1653\n",
      " 2186 1508 2182 2441 2126 2430 2133 2200 2111 2508 1930 1652 1741 2198\n",
      " 2117 1761 2527 2170 1636 1634 2440 1624 2517 1656 2516 2512 2063 2202\n",
      " 1708 2162 1577 1709 1763 1637 2414 1633 1725 1738 2478 2570 1621 2190\n",
      " 2245 1617 2183 2014 1678 2215 2164 1758 2500 2439 1982 2519 2150 1654\n",
      " 1923 1523 2103 1646 2493 2480 1900 1691 1657 1595 2173 2141 1724 1666\n",
      " 1527 2239 1510 1474 1394 1655 2169 2525 1683 2006 1729 1536 1966 2415\n",
      " 1737 2273 2367 2036 2013 2160 2163 1669 1665 1951 2146 1679 2419 2148\n",
      " 2472 2571 2475 1970 2391 2144 2513 2074 2187 2005 2492 2192 1593 1668\n",
      " 2401 2149 1591 2303 2254 1618 2203 1684 2299 2302 1584 1590 2514 2297\n",
      " 2181 2154 2058 2168 1733 1588 1677 2326 1671 2276 1622 2485 2301 2232\n",
      " 1681 2011 1990 2482 1619 1648 2268 1550 2112 2025 1694 1992 2438 2264\n",
      " 2361 2043 2136 1395 2491 2321 2197 2309 2178 1704 1589 2110 1727 2502\n",
      " 2007 2001 2000 1594 2484 1986 2487 1664 1661 1543 1587 1910 2515 2225\n",
      " 2499 2204 2152 1720 2265 2107 1559 2260 2076] \n",
      "Model Developed on Seg 2 (train sample) applied on Seg 2 (test sample):\n",
      " 0.7103455563774701\n"
     ]
    },
    {
     "name": "stderr",
     "output_type": "stream",
     "text": [
      "<ipython-input-209-fec411ad8dd2>:32: UserWarning: Boolean Series key will be reindexed to match DataFrame index.\n",
      "  data_train_seg1 = data_train[data[column].isin(group1)]\n",
      "<ipython-input-209-fec411ad8dd2>:33: UserWarning: Boolean Series key will be reindexed to match DataFrame index.\n",
      "  data_train_seg2 = data_train[data[column].isin(group2)]\n",
      "<ipython-input-209-fec411ad8dd2>:34: UserWarning: Boolean Series key will be reindexed to match DataFrame index.\n",
      "  data_test_seg1 = data_test[data[column].isin(group1)]\n",
      "<ipython-input-209-fec411ad8dd2>:35: UserWarning: Boolean Series key will be reindexed to match DataFrame index.\n",
      "  data_test_seg2 = data_test[data[column].isin(group2)]\n",
      "/Users/miguelfrutossoriano/opt/anaconda3/lib/python3.8/site-packages/sklearn/linear_model/_logistic.py:763: ConvergenceWarning: lbfgs failed to converge (status=1):\n",
      "STOP: TOTAL NO. of ITERATIONS REACHED LIMIT.\n",
      "\n",
      "Increase the number of iterations (max_iter) or scale the data as shown in:\n",
      "    https://scikit-learn.org/stable/modules/preprocessing.html\n",
      "Please also refer to the documentation for alternative solver options:\n",
      "    https://scikit-learn.org/stable/modules/linear_model.html#logistic-regression\n",
      "  n_iter_i = _check_optimize_result(\n"
     ]
    },
    {
     "name": "stdout",
     "output_type": "stream",
     "text": [
      "FEATURE: DAYS_CUSTOMER_LIFETIME \n",
      "SEGMENT: [14317. 13519. 16271. ... 11045. 10411. 10032.] \n",
      "Model Developed on Seg 1 (train sample) applied on Seg 1 (test sample):\n",
      " 0.7092716818399617\n",
      "\n",
      "FEATURE: DAYS_CUSTOMER_LIFETIME \n",
      "SEGMENT: [14317. 13519. 16271. ... 11045. 10411. 10032.] \n",
      "Model Developed on Full Population (train sample) applied on Seg 1 (test sample):\n",
      " 0.7092716818399617\n",
      "FEATURE: DAYS_CUSTOMER_LIFETIME \n",
      "SEGMENT: [21991. 18586. 18059. ... 19474. 19183. 23234.] \n",
      "Model Developed on Full Population (train sample) applied on Seg 2 (test sample):\n",
      " 0.7366477272727273\n",
      "\n",
      "FEATURE: DAYS_CUSTOMER_LIFETIME \n",
      "SEGMENT: [21991. 18586. 18059. ... 19474. 19183. 23234.] \n",
      "Model Developed on Seg 2 (train sample) applied on Seg 2 (test sample):\n",
      " 0.7366477272727273\n"
     ]
    },
    {
     "name": "stderr",
     "output_type": "stream",
     "text": [
      "<ipython-input-209-fec411ad8dd2>:32: UserWarning: Boolean Series key will be reindexed to match DataFrame index.\n",
      "  data_train_seg1 = data_train[data[column].isin(group1)]\n",
      "<ipython-input-209-fec411ad8dd2>:33: UserWarning: Boolean Series key will be reindexed to match DataFrame index.\n",
      "  data_train_seg2 = data_train[data[column].isin(group2)]\n",
      "<ipython-input-209-fec411ad8dd2>:34: UserWarning: Boolean Series key will be reindexed to match DataFrame index.\n",
      "  data_test_seg1 = data_test[data[column].isin(group1)]\n",
      "<ipython-input-209-fec411ad8dd2>:35: UserWarning: Boolean Series key will be reindexed to match DataFrame index.\n",
      "  data_test_seg2 = data_test[data[column].isin(group2)]\n",
      "/Users/miguelfrutossoriano/opt/anaconda3/lib/python3.8/site-packages/sklearn/linear_model/_logistic.py:763: ConvergenceWarning: lbfgs failed to converge (status=1):\n",
      "STOP: TOTAL NO. of ITERATIONS REACHED LIMIT.\n",
      "\n",
      "Increase the number of iterations (max_iter) or scale the data as shown in:\n",
      "    https://scikit-learn.org/stable/modules/preprocessing.html\n",
      "Please also refer to the documentation for alternative solver options:\n",
      "    https://scikit-learn.org/stable/modules/linear_model.html#logistic-regression\n",
      "  n_iter_i = _check_optimize_result(\n"
     ]
    },
    {
     "name": "stdout",
     "output_type": "stream",
     "text": [
      "FEATURE: CUSTOMER_ID \n",
      "SEGMENT: [  144   248   307 ... 31235 31664  4307] \n",
      "Model Developed on Seg 1 (train sample) applied on Seg 1 (test sample):\n",
      " 0.7274147596728242\n",
      "\n",
      "FEATURE: CUSTOMER_ID \n",
      "SEGMENT: [  144   248   307 ... 31235 31664  4307] \n",
      "Model Developed on Full Population (train sample) applied on Seg 1 (test sample):\n",
      " 0.7274147596728242\n"
     ]
    },
    {
     "name": "stderr",
     "output_type": "stream",
     "text": [
      "/Users/miguelfrutossoriano/opt/anaconda3/lib/python3.8/site-packages/sklearn/linear_model/_logistic.py:763: ConvergenceWarning: lbfgs failed to converge (status=1):\n",
      "STOP: TOTAL NO. of ITERATIONS REACHED LIMIT.\n",
      "\n",
      "Increase the number of iterations (max_iter) or scale the data as shown in:\n",
      "    https://scikit-learn.org/stable/modules/preprocessing.html\n",
      "Please also refer to the documentation for alternative solver options:\n",
      "    https://scikit-learn.org/stable/modules/linear_model.html#logistic-regression\n",
      "  n_iter_i = _check_optimize_result(\n"
     ]
    },
    {
     "name": "stdout",
     "output_type": "stream",
     "text": [
      "FEATURE: CUSTOMER_ID \n",
      "SEGMENT: [34594 34573 35090 ... 38396 36905 37739] \n",
      "Model Developed on Full Population (train sample) applied on Seg 2 (test sample):\n",
      " 0.8115501519756839\n",
      "\n",
      "FEATURE: CUSTOMER_ID \n",
      "SEGMENT: [34594 34573 35090 ... 38396 36905 37739] \n",
      "Model Developed on Seg 2 (train sample) applied on Seg 2 (test sample):\n",
      " 0.8115501519756839\n"
     ]
    },
    {
     "name": "stderr",
     "output_type": "stream",
     "text": [
      "<ipython-input-209-fec411ad8dd2>:32: UserWarning: Boolean Series key will be reindexed to match DataFrame index.\n",
      "  data_train_seg1 = data_train[data[column].isin(group1)]\n",
      "<ipython-input-209-fec411ad8dd2>:33: UserWarning: Boolean Series key will be reindexed to match DataFrame index.\n",
      "  data_train_seg2 = data_train[data[column].isin(group2)]\n",
      "<ipython-input-209-fec411ad8dd2>:34: UserWarning: Boolean Series key will be reindexed to match DataFrame index.\n",
      "  data_test_seg1 = data_test[data[column].isin(group1)]\n",
      "<ipython-input-209-fec411ad8dd2>:35: UserWarning: Boolean Series key will be reindexed to match DataFrame index.\n",
      "  data_test_seg2 = data_test[data[column].isin(group2)]\n",
      "/Users/miguelfrutossoriano/opt/anaconda3/lib/python3.8/site-packages/sklearn/linear_model/_logistic.py:763: ConvergenceWarning: lbfgs failed to converge (status=1):\n",
      "STOP: TOTAL NO. of ITERATIONS REACHED LIMIT.\n",
      "\n",
      "Increase the number of iterations (max_iter) or scale the data as shown in:\n",
      "    https://scikit-learn.org/stable/modules/preprocessing.html\n",
      "Please also refer to the documentation for alternative solver options:\n",
      "    https://scikit-learn.org/stable/modules/linear_model.html#logistic-regression\n",
      "  n_iter_i = _check_optimize_result(\n"
     ]
    },
    {
     "name": "stdout",
     "output_type": "stream",
     "text": [
      "FEATURE: OUTSTANDING \n",
      "SEGMENT: [ 0.0000e+00 -6.2230e+01  1.0000e-02 -2.5340e+01 -1.9650e+01 -8.2120e+01\n",
      " -1.1141e+02 -5.0300e+00 -1.4500e+00 -2.5680e+01 -4.0900e+00] \n",
      "Model Developed on Seg 1 (train sample) applied on Seg 1 (test sample):\n",
      " 0.9456219225005352\n",
      "\n",
      "FEATURE: OUTSTANDING \n",
      "SEGMENT: [ 0.0000e+00 -6.2230e+01  1.0000e-02 -2.5340e+01 -1.9650e+01 -8.2120e+01\n",
      " -1.1141e+02 -5.0300e+00 -1.4500e+00 -2.5680e+01 -4.0900e+00] \n",
      "Model Developed on Full Population (train sample) applied on Seg 1 (test sample):\n",
      " 0.9456219225005352\n",
      "FEATURE: OUTSTANDING \n",
      "SEGMENT: [  4675.77   1718.08 105073.5  ...  92826.06 114919.47 101714.25] \n",
      "Model Developed on Full Population (train sample) applied on Seg 2 (test sample):\n",
      " 0.7635125746838961\n",
      "\n",
      "FEATURE: OUTSTANDING \n",
      "SEGMENT: [  4675.77   1718.08 105073.5  ...  92826.06 114919.47 101714.25] \n",
      "Model Developed on Seg 2 (train sample) applied on Seg 2 (test sample):\n",
      " 0.7635125746838961\n"
     ]
    },
    {
     "name": "stderr",
     "output_type": "stream",
     "text": [
      "<ipython-input-209-fec411ad8dd2>:32: UserWarning: Boolean Series key will be reindexed to match DataFrame index.\n",
      "  data_train_seg1 = data_train[data[column].isin(group1)]\n",
      "<ipython-input-209-fec411ad8dd2>:33: UserWarning: Boolean Series key will be reindexed to match DataFrame index.\n",
      "  data_train_seg2 = data_train[data[column].isin(group2)]\n",
      "<ipython-input-209-fec411ad8dd2>:34: UserWarning: Boolean Series key will be reindexed to match DataFrame index.\n",
      "  data_test_seg1 = data_test[data[column].isin(group1)]\n",
      "<ipython-input-209-fec411ad8dd2>:35: UserWarning: Boolean Series key will be reindexed to match DataFrame index.\n",
      "  data_test_seg2 = data_test[data[column].isin(group2)]\n"
     ]
    },
    {
     "name": "stdout",
     "output_type": "stream",
     "text": [
      "FEATURE: DAYS_CUSTOMER_RELATION \n",
      "SEGMENT: [1242 1209 1236 1226 1206 1220 1170 1200 1240 1142 1149 1230 1215 1194\n",
      " 1180 1184 1094 1103 1151 1083 1185 1222 1233 1208 1235 1150 1124 1229\n",
      " 1248 1097 1086 1079 1241 1116 1067 1219 1075 1076 1039 1214 1165 1205\n",
      " 1179 1037 1130 1191 1228 1237 1121 1216 1234 1144 1125 1117 1054 1074\n",
      " 1167 1186 1157 1166 1030 1052 1024 1040 1089 1032 1199 1118 1033 1059\n",
      " 1081 1249 1128 1013 1172 1193 1152 1055 1111 1051 1187 1132 1003  999\n",
      " 1223 1048 1101 1095 1020 1072 1058 1009  981 1047 1143 1114 1213  963\n",
      " 1034 1139  957 1011  996  949 1158 1122 1212 1153 1163  968  988  954\n",
      " 1046 1082  939  926 1207  921  914 1096  982 1102 1131  922  940 1045\n",
      "  919 1005  990 1100 1087 1159  960 1044 1031  998 1164 1038  936 1069\n",
      "  950 1181 1023  971 1123  915 1053 1066  975 1026  887  904  918 1250\n",
      "  886  878  913 1073 1247  964 1198 1178 1145  932 1060 1146  905 1002\n",
      "  962 1202 1080  935 1177  941  942  894  925  912  920 1068  967  906\n",
      " 1019 1017  877  984 1093  890  891  898  992  946  907  893  851 1115\n",
      "  989  927 1041  855  948  872  978 1061 1025  842 1156  955  885 1137\n",
      "  845 1201  892  857  947 1027  869  838  813  995  866  928  836  901\n",
      "  850  911  974  943  929 1090  849  933 1010 1188 1136  899 1135  786\n",
      "  831  802  827  808  837  879 1129  880 1012  817  844  830 1006 1016\n",
      "  863  829  823  848  809 1192  961  834  873 1171  969  795 1195  871\n",
      "  835  767  746  815  843  738  792  852  787  884  870  810  771  865\n",
      "  828  739  841  766  985  751  801  759  977  991  758  883  778 1104\n",
      "  803  788  782  814  743  779  897  876  794  768  765  757  744  780\n",
      "  745  864  807  793  785  781  764  760 1065  772  997  761  774  908\n",
      "  806  900  956  934  737 1004  824  799  740  775  800  789  983  747\n",
      "  816  750] \n",
      "Model Developed on Seg 1 (train sample) applied on Seg 1 (test sample):\n",
      " 0.8108374384236453\n",
      "\n",
      "FEATURE: DAYS_CUSTOMER_RELATION \n",
      "SEGMENT: [1242 1209 1236 1226 1206 1220 1170 1200 1240 1142 1149 1230 1215 1194\n",
      " 1180 1184 1094 1103 1151 1083 1185 1222 1233 1208 1235 1150 1124 1229\n",
      " 1248 1097 1086 1079 1241 1116 1067 1219 1075 1076 1039 1214 1165 1205\n",
      " 1179 1037 1130 1191 1228 1237 1121 1216 1234 1144 1125 1117 1054 1074\n",
      " 1167 1186 1157 1166 1030 1052 1024 1040 1089 1032 1199 1118 1033 1059\n",
      " 1081 1249 1128 1013 1172 1193 1152 1055 1111 1051 1187 1132 1003  999\n",
      " 1223 1048 1101 1095 1020 1072 1058 1009  981 1047 1143 1114 1213  963\n",
      " 1034 1139  957 1011  996  949 1158 1122 1212 1153 1163  968  988  954\n",
      " 1046 1082  939  926 1207  921  914 1096  982 1102 1131  922  940 1045\n",
      "  919 1005  990 1100 1087 1159  960 1044 1031  998 1164 1038  936 1069\n",
      "  950 1181 1023  971 1123  915 1053 1066  975 1026  887  904  918 1250\n",
      "  886  878  913 1073 1247  964 1198 1178 1145  932 1060 1146  905 1002\n",
      "  962 1202 1080  935 1177  941  942  894  925  912  920 1068  967  906\n",
      " 1019 1017  877  984 1093  890  891  898  992  946  907  893  851 1115\n",
      "  989  927 1041  855  948  872  978 1061 1025  842 1156  955  885 1137\n",
      "  845 1201  892  857  947 1027  869  838  813  995  866  928  836  901\n",
      "  850  911  974  943  929 1090  849  933 1010 1188 1136  899 1135  786\n",
      "  831  802  827  808  837  879 1129  880 1012  817  844  830 1006 1016\n",
      "  863  829  823  848  809 1192  961  834  873 1171  969  795 1195  871\n",
      "  835  767  746  815  843  738  792  852  787  884  870  810  771  865\n",
      "  828  739  841  766  985  751  801  759  977  991  758  883  778 1104\n",
      "  803  788  782  814  743  779  897  876  794  768  765  757  744  780\n",
      "  745  864  807  793  785  781  764  760 1065  772  997  761  774  908\n",
      "  806  900  956  934  737 1004  824  799  740  775  800  789  983  747\n",
      "  816  750] \n",
      "Model Developed on Full Population (train sample) applied on Seg 1 (test sample):\n",
      " 0.8108374384236453\n",
      "FEATURE: DAYS_CUSTOMER_RELATION \n",
      "SEGMENT: [3034 3579 3278 ... 4331 5421 5902] \n",
      "Model Developed on Full Population (train sample) applied on Seg 2 (test sample):\n",
      " 0.7254215424306644\n",
      "\n",
      "FEATURE: DAYS_CUSTOMER_RELATION \n",
      "SEGMENT: [3034 3579 3278 ... 4331 5421 5902] \n",
      "Model Developed on Seg 2 (train sample) applied on Seg 2 (test sample):\n",
      " 0.7254215424306644\n"
     ]
    },
    {
     "name": "stderr",
     "output_type": "stream",
     "text": [
      "<ipython-input-209-fec411ad8dd2>:32: UserWarning: Boolean Series key will be reindexed to match DataFrame index.\n",
      "  data_train_seg1 = data_train[data[column].isin(group1)]\n",
      "<ipython-input-209-fec411ad8dd2>:33: UserWarning: Boolean Series key will be reindexed to match DataFrame index.\n",
      "  data_train_seg2 = data_train[data[column].isin(group2)]\n",
      "<ipython-input-209-fec411ad8dd2>:34: UserWarning: Boolean Series key will be reindexed to match DataFrame index.\n",
      "  data_test_seg1 = data_test[data[column].isin(group1)]\n",
      "<ipython-input-209-fec411ad8dd2>:35: UserWarning: Boolean Series key will be reindexed to match DataFrame index.\n",
      "  data_test_seg2 = data_test[data[column].isin(group2)]\n"
     ]
    },
    {
     "name": "stdout",
     "output_type": "stream",
     "text": [
      "FEATURE: DAYS_AFTER_THE_REPORT \n",
      "SEGMENT: [1860 1829 1800 1768 1738 1709 1676 1648 1618 1587 1556 1527 1465 1495\n",
      " 1436 1403 1374 1342 1311 1283 1254 1222 1191 1163 1130 1100 1069 1038\n",
      " 1009  977  946  918  887  857  827  799  765  736] \n",
      "Model Developed on Seg 1 (train sample) applied on Seg 1 (test sample):\n",
      " 0.7199462726662189\n",
      "\n",
      "FEATURE: DAYS_AFTER_THE_REPORT \n",
      "SEGMENT: [1860 1829 1800 1768 1738 1709 1676 1648 1618 1587 1556 1527 1465 1495\n",
      " 1436 1403 1374 1342 1311 1283 1254 1222 1191 1163 1130 1100 1069 1038\n",
      " 1009  977  946  918  887  857  827  799  765  736] \n",
      "Model Developed on Full Population (train sample) applied on Seg 1 (test sample):\n",
      " 0.7199462726662189\n",
      "FEATURE: DAYS_AFTER_THE_REPORT \n",
      "SEGMENT: [2042 2013 1982 1954 1921 1892] \n",
      "Model Developed on Full Population (train sample) applied on Seg 2 (test sample):\n",
      " 0.8484429065743945\n",
      "\n",
      "FEATURE: DAYS_AFTER_THE_REPORT \n",
      "SEGMENT: [2042 2013 1982 1954 1921 1892] \n",
      "Model Developed on Seg 2 (train sample) applied on Seg 2 (test sample):\n",
      " 0.8484429065743945\n"
     ]
    }
   ],
   "source": [
    "print(\"MODEL - NUMERICAL VARIABLES\")\n",
    "\n",
    "for column in data [numerical_features]:\n",
    "    #MEAN ENCODING - PURPOSE IS TO SPLIT CATEGORICAL VARIABLES IN TWO SEGMENTS\n",
    "    #1. Create a new dataframe. \"new\".\n",
    "    #2. Add new variable based on the corresponding target mean.\n",
    "    #3. Decision Tree algorithm to split the categorical variable in two.\n",
    "    new = data[[column,target]].copy()\n",
    "    #mean_encoded_subject = new.groupby([column])[target].mean().to_dict()\n",
    "    #new['SubjectName'] =  new[column].map(mean_encoded_subject)\n",
    "    X = new[column]\n",
    "    Y = new[target]\n",
    "    #Adequate the dateframe to the shape of a runnable model.\n",
    "    X_train, X_test, Y_train, Y_test = train_test_split(X, Y, test_size=0.3, random_state=1) \n",
    "    X_train= X_train.values.reshape(-1, 1)\n",
    "    Y_train= Y_train.values.reshape(-1, 1)\n",
    "    X_test = X_test.values.reshape(-1, 1)\n",
    "    \n",
    "    #Find the ideal threshold to split each variable based on their relation to the target.\n",
    "    clf = DecisionTreeClassifier(max_depth=1)\n",
    "    clf.fit(X_train, Y_train)   \n",
    "    threshold = clf.tree_.threshold\n",
    "    \n",
    "    #Complete the two groups of categorical variables.\n",
    "    group1 = new.loc[new[column]<=threshold[0],column].unique()\n",
    "    group2 = new.loc[new[column]>threshold[0],column].unique()\n",
    "    \n",
    "    #Split between test and train.\n",
    "    data_train, data_test = train_test_split(data, test_size = 0.2, random_state = 42)\n",
    "    \n",
    "    #Seg 1 and Seg 2.\n",
    "    data_train_seg1 = data_train[data[column].isin(group1)]\n",
    "    data_train_seg2 = data_train[data[column].isin(group2)]\n",
    "    data_test_seg1 = data_test[data[column].isin(group1)]\n",
    "    data_test_seg2 = data_test[data[column].isin(group2)]\n",
    "    \n",
    "    #Full Model - Numerical_Features\n",
    "    X_train = data_train[numerical_features]\n",
    "    y_train = data_train[target]\n",
    "    X_test = data_test[numerical_features]\n",
    "    y_test = data_test[target]\n",
    "    X_train = data_train[numerical_features]\n",
    "    y_train = data_train[target]\n",
    "    method = LogisticRegression(random_state=0)\n",
    "    fitted_full_model = method.fit(X_train, y_train)\n",
    "    y_pred = fitted_full_model.predict(X_test)\n",
    "    \n",
    "    # Full Model vs Seg 1 on Seg 1\n",
    "    X_train_seg1 = data_train_seg1[numerical_features]\n",
    "    y_train_seg1 = data_train_seg1[target]\n",
    "    X_test_seg1 = data_test_seg1[numerical_features]\n",
    "    y_test_seg1 = data_test_seg1[target]\n",
    "    fitted_model_seg1 = method.fit(X_train_seg1, y_train_seg1)\n",
    "    y_pred_seg1 = fitted_model_seg1.predict(X_test_seg1)\n",
    "    y_pred_seg1_fullmodel = fitted_full_model.predict(X_test_seg1)\n",
    "    print(\"FEATURE:\",column,\n",
    "          \"\\nSEGMENT:\",group1,\n",
    "          \"\\nModel Developed on Seg 1 (train sample) applied on Seg 1 (test sample):\\n\",accuracy_score(y_test_seg1, y_pred_seg1))\n",
    "    print(\"\")\n",
    "    print(\"FEATURE:\",column,\n",
    "          \"\\nSEGMENT:\",group1,\n",
    "          \"\\nModel Developed on Full Population (train sample) applied on Seg 1 (test sample):\\n\",accuracy_score(y_test_seg1, y_pred_seg1_fullmodel))\n",
    "    \n",
    "    #Full Model vs Seg 2 on Seg 2\n",
    "    X_train_seg2 = data_train_seg2[numerical_features]\n",
    "    y_train_seg2 = data_train_seg2[target]\n",
    "    X_test_seg2 = data_test_seg2[numerical_features]\n",
    "    y_test_seg2 = data_test_seg2[target]\n",
    "    fitted_model_seg2 = method.fit(X_train_seg2, y_train_seg2)\n",
    "    y_pred_seg2 = fitted_model_seg2.predict(X_test_seg2)\n",
    "    y_pred_seg2_fullmodel = fitted_full_model.predict(X_test_seg2)\n",
    "    print(\"FEATURE:\",column,\n",
    "          \"\\nSEGMENT:\",group2,\n",
    "          \"\\nModel Developed on Full Population (train sample) applied on Seg 2 (test sample):\\n\",accuracy_score(y_test_seg2, y_pred_seg2_fullmodel))\n",
    "    print(\"\")\n",
    "    print(\"FEATURE:\",column,\n",
    "          \"\\nSEGMENT:\",group2,\n",
    "          \"\\nModel Developed on Seg 2 (train sample) applied on Seg 2 (test sample):\\n\",accuracy_score(y_test_seg2, y_pred_seg2))"
   ]
  },
  {
   "cell_type": "code",
   "execution_count": null,
   "id": "d27252a4",
   "metadata": {},
   "outputs": [],
   "source": [
    "#text_representation = tree.export_text(clf)\n",
    "#print(text_representation)"
   ]
  },
  {
   "cell_type": "code",
   "execution_count": null,
   "id": "4b125645",
   "metadata": {},
   "outputs": [],
   "source": []
  }
 ],
 "metadata": {
  "kernelspec": {
   "display_name": "Python 3",
   "language": "python",
   "name": "python3"
  },
  "language_info": {
   "codemirror_mode": {
    "name": "ipython",
    "version": 3
   },
   "file_extension": ".py",
   "mimetype": "text/x-python",
   "name": "python",
   "nbconvert_exporter": "python",
   "pygments_lexer": "ipython3",
   "version": "3.8.8"
  }
 },
 "nbformat": 4,
 "nbformat_minor": 5
}
